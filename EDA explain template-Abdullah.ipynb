{
 "cells": [
  {
   "cell_type": "code",
   "execution_count": 1,
   "id": "e69c4ba1-85f3-4a02-ae37-c64347a01803",
   "metadata": {},
   "outputs": [],
   "source": [
    "import pandas as pd\n",
    "import numpy as np\n",
    "import matplotlib.pyplot as plt\n",
    "import streamlit as st\n",
    "from ydata_profiling import ProfileReport\n",
    "import plotly.express as px\n",
    "import plotly.graph_objects as go\n",
    "import seaborn as sns\n",
    "from scipy.stats import zscore\n",
    "from plotly.subplots import make_subplots\n",
    "import warnings\n",
    "warnings.filterwarnings(\"ignore\")\n",
    "\n",
    "\n",
    "\n",
    "## This statement allows the visuals to render within your Jupyter Notebook.\n",
    "%matplotlib inline"
   ]
  },
  {
   "cell_type": "markdown",
   "id": "e395e8bf-b530-4720-8d0f-26811e927d6e",
   "metadata": {},
   "source": [
    "## Loading the data\n",
    "We can now load the dataset into pandas using the read_csv() function. This converts the CSV file into a Pandas dataframe."
   ]
  },
  {
   "cell_type": "code",
   "execution_count": 2,
   "id": "cf4030b0-aa7f-4bd7-8e9c-c1b7f4d202d0",
   "metadata": {},
   "outputs": [],
   "source": [
    "#Read in the csv file and convert to a Pandas dataframe\n",
    "coffee_df = pd.read_excel(\"Data/Coffee_Shop_Sales.xlsx\")"
   ]
  },
  {
   "cell_type": "markdown",
   "id": "ca5ed983-0f72-43eb-8168-6fafd48c562e",
   "metadata": {},
   "source": [
    "### Viewing the dataframe\n",
    "We can get a quick sense of the size of our dataset by using the shape method. This returns a tuple with the number of rows and columns in the dataset."
   ]
  },
  {
   "cell_type": "code",
   "execution_count": 3,
   "id": "bfde0b69-613c-4dd1-8ebf-e4d2e570e653",
   "metadata": {},
   "outputs": [
    {
     "data": {
      "text/html": [
       "<div>\n",
       "<style scoped>\n",
       "    .dataframe tbody tr th:only-of-type {\n",
       "        vertical-align: middle;\n",
       "    }\n",
       "\n",
       "    .dataframe tbody tr th {\n",
       "        vertical-align: top;\n",
       "    }\n",
       "\n",
       "    .dataframe thead th {\n",
       "        text-align: right;\n",
       "    }\n",
       "</style>\n",
       "<table border=\"1\" class=\"dataframe\">\n",
       "  <thead>\n",
       "    <tr style=\"text-align: right;\">\n",
       "      <th></th>\n",
       "      <th>transaction_id</th>\n",
       "      <th>transaction_date</th>\n",
       "      <th>transaction_time</th>\n",
       "      <th>transaction_qty</th>\n",
       "      <th>store_id</th>\n",
       "      <th>store_location</th>\n",
       "      <th>product_id</th>\n",
       "      <th>unit_price</th>\n",
       "      <th>product_category</th>\n",
       "      <th>product_type</th>\n",
       "      <th>product_detail</th>\n",
       "    </tr>\n",
       "  </thead>\n",
       "  <tbody>\n",
       "    <tr>\n",
       "      <th>0</th>\n",
       "      <td>1</td>\n",
       "      <td>2023-01-01</td>\n",
       "      <td>07:06:11</td>\n",
       "      <td>2</td>\n",
       "      <td>5</td>\n",
       "      <td>Lower Manhattan</td>\n",
       "      <td>32</td>\n",
       "      <td>3.00</td>\n",
       "      <td>Coffee</td>\n",
       "      <td>Gourmet brewed coffee</td>\n",
       "      <td>Ethiopia Rg</td>\n",
       "    </tr>\n",
       "    <tr>\n",
       "      <th>1</th>\n",
       "      <td>2</td>\n",
       "      <td>2023-01-01</td>\n",
       "      <td>07:08:56</td>\n",
       "      <td>2</td>\n",
       "      <td>5</td>\n",
       "      <td>Lower Manhattan</td>\n",
       "      <td>57</td>\n",
       "      <td>3.10</td>\n",
       "      <td>Tea</td>\n",
       "      <td>Brewed Chai tea</td>\n",
       "      <td>Spicy Eye Opener Chai Lg</td>\n",
       "    </tr>\n",
       "    <tr>\n",
       "      <th>2</th>\n",
       "      <td>3</td>\n",
       "      <td>2023-01-01</td>\n",
       "      <td>07:14:04</td>\n",
       "      <td>2</td>\n",
       "      <td>5</td>\n",
       "      <td>Lower Manhattan</td>\n",
       "      <td>59</td>\n",
       "      <td>4.50</td>\n",
       "      <td>Drinking Chocolate</td>\n",
       "      <td>Hot chocolate</td>\n",
       "      <td>Dark chocolate Lg</td>\n",
       "    </tr>\n",
       "    <tr>\n",
       "      <th>3</th>\n",
       "      <td>4</td>\n",
       "      <td>2023-01-01</td>\n",
       "      <td>07:20:24</td>\n",
       "      <td>1</td>\n",
       "      <td>5</td>\n",
       "      <td>Lower Manhattan</td>\n",
       "      <td>22</td>\n",
       "      <td>2.00</td>\n",
       "      <td>Coffee</td>\n",
       "      <td>Drip coffee</td>\n",
       "      <td>Our Old Time Diner Blend Sm</td>\n",
       "    </tr>\n",
       "    <tr>\n",
       "      <th>4</th>\n",
       "      <td>5</td>\n",
       "      <td>2023-01-01</td>\n",
       "      <td>07:22:41</td>\n",
       "      <td>2</td>\n",
       "      <td>5</td>\n",
       "      <td>Lower Manhattan</td>\n",
       "      <td>57</td>\n",
       "      <td>3.10</td>\n",
       "      <td>Tea</td>\n",
       "      <td>Brewed Chai tea</td>\n",
       "      <td>Spicy Eye Opener Chai Lg</td>\n",
       "    </tr>\n",
       "    <tr>\n",
       "      <th>...</th>\n",
       "      <td>...</td>\n",
       "      <td>...</td>\n",
       "      <td>...</td>\n",
       "      <td>...</td>\n",
       "      <td>...</td>\n",
       "      <td>...</td>\n",
       "      <td>...</td>\n",
       "      <td>...</td>\n",
       "      <td>...</td>\n",
       "      <td>...</td>\n",
       "      <td>...</td>\n",
       "    </tr>\n",
       "    <tr>\n",
       "      <th>149111</th>\n",
       "      <td>149452</td>\n",
       "      <td>2023-06-30</td>\n",
       "      <td>20:18:41</td>\n",
       "      <td>2</td>\n",
       "      <td>8</td>\n",
       "      <td>Hell's Kitchen</td>\n",
       "      <td>44</td>\n",
       "      <td>2.50</td>\n",
       "      <td>Tea</td>\n",
       "      <td>Brewed herbal tea</td>\n",
       "      <td>Peppermint Rg</td>\n",
       "    </tr>\n",
       "    <tr>\n",
       "      <th>149112</th>\n",
       "      <td>149453</td>\n",
       "      <td>2023-06-30</td>\n",
       "      <td>20:25:10</td>\n",
       "      <td>2</td>\n",
       "      <td>8</td>\n",
       "      <td>Hell's Kitchen</td>\n",
       "      <td>49</td>\n",
       "      <td>3.00</td>\n",
       "      <td>Tea</td>\n",
       "      <td>Brewed Black tea</td>\n",
       "      <td>English Breakfast Lg</td>\n",
       "    </tr>\n",
       "    <tr>\n",
       "      <th>149113</th>\n",
       "      <td>149454</td>\n",
       "      <td>2023-06-30</td>\n",
       "      <td>20:31:34</td>\n",
       "      <td>1</td>\n",
       "      <td>8</td>\n",
       "      <td>Hell's Kitchen</td>\n",
       "      <td>45</td>\n",
       "      <td>3.00</td>\n",
       "      <td>Tea</td>\n",
       "      <td>Brewed herbal tea</td>\n",
       "      <td>Peppermint Lg</td>\n",
       "    </tr>\n",
       "    <tr>\n",
       "      <th>149114</th>\n",
       "      <td>149455</td>\n",
       "      <td>2023-06-30</td>\n",
       "      <td>20:57:19</td>\n",
       "      <td>1</td>\n",
       "      <td>8</td>\n",
       "      <td>Hell's Kitchen</td>\n",
       "      <td>40</td>\n",
       "      <td>3.75</td>\n",
       "      <td>Coffee</td>\n",
       "      <td>Barista Espresso</td>\n",
       "      <td>Cappuccino</td>\n",
       "    </tr>\n",
       "    <tr>\n",
       "      <th>149115</th>\n",
       "      <td>149456</td>\n",
       "      <td>2023-06-30</td>\n",
       "      <td>20:57:19</td>\n",
       "      <td>2</td>\n",
       "      <td>8</td>\n",
       "      <td>Hell's Kitchen</td>\n",
       "      <td>64</td>\n",
       "      <td>0.80</td>\n",
       "      <td>Flavours</td>\n",
       "      <td>Regular syrup</td>\n",
       "      <td>Hazelnut syrup</td>\n",
       "    </tr>\n",
       "  </tbody>\n",
       "</table>\n",
       "<p>149116 rows × 11 columns</p>\n",
       "</div>"
      ],
      "text/plain": [
       "        transaction_id transaction_date transaction_time  transaction_qty  \\\n",
       "0                    1       2023-01-01         07:06:11                2   \n",
       "1                    2       2023-01-01         07:08:56                2   \n",
       "2                    3       2023-01-01         07:14:04                2   \n",
       "3                    4       2023-01-01         07:20:24                1   \n",
       "4                    5       2023-01-01         07:22:41                2   \n",
       "...                ...              ...              ...              ...   \n",
       "149111          149452       2023-06-30         20:18:41                2   \n",
       "149112          149453       2023-06-30         20:25:10                2   \n",
       "149113          149454       2023-06-30         20:31:34                1   \n",
       "149114          149455       2023-06-30         20:57:19                1   \n",
       "149115          149456       2023-06-30         20:57:19                2   \n",
       "\n",
       "        store_id   store_location  product_id  unit_price    product_category  \\\n",
       "0              5  Lower Manhattan          32        3.00              Coffee   \n",
       "1              5  Lower Manhattan          57        3.10                 Tea   \n",
       "2              5  Lower Manhattan          59        4.50  Drinking Chocolate   \n",
       "3              5  Lower Manhattan          22        2.00              Coffee   \n",
       "4              5  Lower Manhattan          57        3.10                 Tea   \n",
       "...          ...              ...         ...         ...                 ...   \n",
       "149111         8   Hell's Kitchen          44        2.50                 Tea   \n",
       "149112         8   Hell's Kitchen          49        3.00                 Tea   \n",
       "149113         8   Hell's Kitchen          45        3.00                 Tea   \n",
       "149114         8   Hell's Kitchen          40        3.75              Coffee   \n",
       "149115         8   Hell's Kitchen          64        0.80            Flavours   \n",
       "\n",
       "                 product_type               product_detail  \n",
       "0       Gourmet brewed coffee                  Ethiopia Rg  \n",
       "1             Brewed Chai tea     Spicy Eye Opener Chai Lg  \n",
       "2               Hot chocolate            Dark chocolate Lg  \n",
       "3                 Drip coffee  Our Old Time Diner Blend Sm  \n",
       "4             Brewed Chai tea     Spicy Eye Opener Chai Lg  \n",
       "...                       ...                          ...  \n",
       "149111      Brewed herbal tea                Peppermint Rg  \n",
       "149112       Brewed Black tea         English Breakfast Lg  \n",
       "149113      Brewed herbal tea                Peppermint Lg  \n",
       "149114       Barista Espresso                   Cappuccino  \n",
       "149115          Regular syrup               Hazelnut syrup  \n",
       "\n",
       "[149116 rows x 11 columns]"
      ]
     },
     "execution_count": 3,
     "metadata": {},
     "output_type": "execute_result"
    }
   ],
   "source": [
    "coffee_df"
   ]
  },
  {
   "cell_type": "markdown",
   "id": "bd2b5bc4-db37-4432-b666-0714afd0c4ca",
   "metadata": {},
   "source": [
    "## 1. Data Profiling:\n",
    "Data profiling is a comprehensive process of examining the data available in an existing dataset and collecting statistics and information about that data. "
   ]
  },
  {
   "cell_type": "code",
   "execution_count": 4,
   "id": "672f2081-5a2c-4908-8cbd-29519fb3cac5",
   "metadata": {},
   "outputs": [
    {
     "name": "stdout",
     "output_type": "stream",
     "text": [
      "<class 'pandas.core.frame.DataFrame'>\n",
      "RangeIndex: 149116 entries, 0 to 149115\n",
      "Data columns (total 11 columns):\n",
      " #   Column            Non-Null Count   Dtype         \n",
      "---  ------            --------------   -----         \n",
      " 0   transaction_id    149116 non-null  int64         \n",
      " 1   transaction_date  149116 non-null  datetime64[ns]\n",
      " 2   transaction_time  149116 non-null  object        \n",
      " 3   transaction_qty   149116 non-null  int64         \n",
      " 4   store_id          149116 non-null  int64         \n",
      " 5   store_location    149116 non-null  object        \n",
      " 6   product_id        149116 non-null  int64         \n",
      " 7   unit_price        149116 non-null  float64       \n",
      " 8   product_category  149116 non-null  object        \n",
      " 9   product_type      149116 non-null  object        \n",
      " 10  product_detail    149116 non-null  object        \n",
      "dtypes: datetime64[ns](1), float64(1), int64(4), object(5)\n",
      "memory usage: 12.5+ MB\n"
     ]
    }
   ],
   "source": [
    "coffee_df.info()"
   ]
  },
  {
   "cell_type": "code",
   "execution_count": 5,
   "id": "a53611cf-840d-4f66-95d2-234f47d634f8",
   "metadata": {},
   "outputs": [
    {
     "data": {
      "text/html": [
       "<div>\n",
       "<style scoped>\n",
       "    .dataframe tbody tr th:only-of-type {\n",
       "        vertical-align: middle;\n",
       "    }\n",
       "\n",
       "    .dataframe tbody tr th {\n",
       "        vertical-align: top;\n",
       "    }\n",
       "\n",
       "    .dataframe thead th {\n",
       "        text-align: right;\n",
       "    }\n",
       "</style>\n",
       "<table border=\"1\" class=\"dataframe\">\n",
       "  <thead>\n",
       "    <tr style=\"text-align: right;\">\n",
       "      <th></th>\n",
       "      <th>transaction_id</th>\n",
       "      <th>transaction_date</th>\n",
       "      <th>transaction_qty</th>\n",
       "      <th>store_id</th>\n",
       "      <th>product_id</th>\n",
       "      <th>unit_price</th>\n",
       "    </tr>\n",
       "  </thead>\n",
       "  <tbody>\n",
       "    <tr>\n",
       "      <th>count</th>\n",
       "      <td>149116.000000</td>\n",
       "      <td>149116</td>\n",
       "      <td>149116.000000</td>\n",
       "      <td>149116.000000</td>\n",
       "      <td>149116.000000</td>\n",
       "      <td>149116.000000</td>\n",
       "    </tr>\n",
       "    <tr>\n",
       "      <th>mean</th>\n",
       "      <td>74737.371872</td>\n",
       "      <td>2023-04-15 11:50:32.173609984</td>\n",
       "      <td>1.438276</td>\n",
       "      <td>5.342063</td>\n",
       "      <td>47.918607</td>\n",
       "      <td>3.382219</td>\n",
       "    </tr>\n",
       "    <tr>\n",
       "      <th>min</th>\n",
       "      <td>1.000000</td>\n",
       "      <td>2023-01-01 00:00:00</td>\n",
       "      <td>1.000000</td>\n",
       "      <td>3.000000</td>\n",
       "      <td>1.000000</td>\n",
       "      <td>0.800000</td>\n",
       "    </tr>\n",
       "    <tr>\n",
       "      <th>25%</th>\n",
       "      <td>37335.750000</td>\n",
       "      <td>2023-03-06 00:00:00</td>\n",
       "      <td>1.000000</td>\n",
       "      <td>3.000000</td>\n",
       "      <td>33.000000</td>\n",
       "      <td>2.500000</td>\n",
       "    </tr>\n",
       "    <tr>\n",
       "      <th>50%</th>\n",
       "      <td>74727.500000</td>\n",
       "      <td>2023-04-24 00:00:00</td>\n",
       "      <td>1.000000</td>\n",
       "      <td>5.000000</td>\n",
       "      <td>47.000000</td>\n",
       "      <td>3.000000</td>\n",
       "    </tr>\n",
       "    <tr>\n",
       "      <th>75%</th>\n",
       "      <td>112094.250000</td>\n",
       "      <td>2023-05-30 00:00:00</td>\n",
       "      <td>2.000000</td>\n",
       "      <td>8.000000</td>\n",
       "      <td>60.000000</td>\n",
       "      <td>3.750000</td>\n",
       "    </tr>\n",
       "    <tr>\n",
       "      <th>max</th>\n",
       "      <td>149456.000000</td>\n",
       "      <td>2023-06-30 00:00:00</td>\n",
       "      <td>8.000000</td>\n",
       "      <td>8.000000</td>\n",
       "      <td>87.000000</td>\n",
       "      <td>45.000000</td>\n",
       "    </tr>\n",
       "    <tr>\n",
       "      <th>std</th>\n",
       "      <td>43153.600016</td>\n",
       "      <td>NaN</td>\n",
       "      <td>0.542509</td>\n",
       "      <td>2.074241</td>\n",
       "      <td>17.930020</td>\n",
       "      <td>2.658723</td>\n",
       "    </tr>\n",
       "  </tbody>\n",
       "</table>\n",
       "</div>"
      ],
      "text/plain": [
       "       transaction_id               transaction_date  transaction_qty  \\\n",
       "count   149116.000000                         149116    149116.000000   \n",
       "mean     74737.371872  2023-04-15 11:50:32.173609984         1.438276   \n",
       "min          1.000000            2023-01-01 00:00:00         1.000000   \n",
       "25%      37335.750000            2023-03-06 00:00:00         1.000000   \n",
       "50%      74727.500000            2023-04-24 00:00:00         1.000000   \n",
       "75%     112094.250000            2023-05-30 00:00:00         2.000000   \n",
       "max     149456.000000            2023-06-30 00:00:00         8.000000   \n",
       "std      43153.600016                            NaN         0.542509   \n",
       "\n",
       "            store_id     product_id     unit_price  \n",
       "count  149116.000000  149116.000000  149116.000000  \n",
       "mean        5.342063      47.918607       3.382219  \n",
       "min         3.000000       1.000000       0.800000  \n",
       "25%         3.000000      33.000000       2.500000  \n",
       "50%         5.000000      47.000000       3.000000  \n",
       "75%         8.000000      60.000000       3.750000  \n",
       "max         8.000000      87.000000      45.000000  \n",
       "std         2.074241      17.930020       2.658723  "
      ]
     },
     "execution_count": 5,
     "metadata": {},
     "output_type": "execute_result"
    }
   ],
   "source": [
    "coffee_df.describe()"
   ]
  },
  {
   "cell_type": "code",
   "execution_count": 6,
   "id": "fbe39e5e-5a85-4f7a-85a1-bdfb48ad65ab",
   "metadata": {},
   "outputs": [
    {
     "data": {
      "text/html": [
       "<div>\n",
       "<style scoped>\n",
       "    .dataframe tbody tr th:only-of-type {\n",
       "        vertical-align: middle;\n",
       "    }\n",
       "\n",
       "    .dataframe tbody tr th {\n",
       "        vertical-align: top;\n",
       "    }\n",
       "\n",
       "    .dataframe thead th {\n",
       "        text-align: right;\n",
       "    }\n",
       "</style>\n",
       "<table border=\"1\" class=\"dataframe\">\n",
       "  <thead>\n",
       "    <tr style=\"text-align: right;\">\n",
       "      <th></th>\n",
       "      <th>transaction_time</th>\n",
       "      <th>store_location</th>\n",
       "      <th>product_category</th>\n",
       "      <th>product_type</th>\n",
       "      <th>product_detail</th>\n",
       "    </tr>\n",
       "  </thead>\n",
       "  <tbody>\n",
       "    <tr>\n",
       "      <th>count</th>\n",
       "      <td>149116</td>\n",
       "      <td>149116</td>\n",
       "      <td>149116</td>\n",
       "      <td>149116</td>\n",
       "      <td>149116</td>\n",
       "    </tr>\n",
       "    <tr>\n",
       "      <th>unique</th>\n",
       "      <td>25762</td>\n",
       "      <td>3</td>\n",
       "      <td>9</td>\n",
       "      <td>29</td>\n",
       "      <td>80</td>\n",
       "    </tr>\n",
       "    <tr>\n",
       "      <th>top</th>\n",
       "      <td>09:31:15</td>\n",
       "      <td>Hell's Kitchen</td>\n",
       "      <td>Coffee</td>\n",
       "      <td>Brewed Chai tea</td>\n",
       "      <td>Chocolate Croissant</td>\n",
       "    </tr>\n",
       "    <tr>\n",
       "      <th>freq</th>\n",
       "      <td>41</td>\n",
       "      <td>50735</td>\n",
       "      <td>58416</td>\n",
       "      <td>17183</td>\n",
       "      <td>3076</td>\n",
       "    </tr>\n",
       "  </tbody>\n",
       "</table>\n",
       "</div>"
      ],
      "text/plain": [
       "       transaction_time  store_location product_category     product_type  \\\n",
       "count            149116          149116           149116           149116   \n",
       "unique            25762               3                9               29   \n",
       "top            09:31:15  Hell's Kitchen           Coffee  Brewed Chai tea   \n",
       "freq                 41           50735            58416            17183   \n",
       "\n",
       "             product_detail  \n",
       "count                149116  \n",
       "unique                   80  \n",
       "top     Chocolate Croissant  \n",
       "freq                   3076  "
      ]
     },
     "execution_count": 6,
     "metadata": {},
     "output_type": "execute_result"
    }
   ],
   "source": [
    "coffee_df.describe(include=object)"
   ]
  },
  {
   "cell_type": "code",
   "execution_count": 7,
   "id": "5541ff0b-6732-4e1b-82ec-ad8e72305e1e",
   "metadata": {},
   "outputs": [
    {
     "data": {
      "text/plain": [
       "(149116, 11)"
      ]
     },
     "execution_count": 7,
     "metadata": {},
     "output_type": "execute_result"
    }
   ],
   "source": [
    "coffee_df.shape"
   ]
  },
  {
   "cell_type": "markdown",
   "id": "834929aa-fd6a-4ec5-84d4-77c4b3c1a506",
   "metadata": {},
   "source": [
    "The process of profiling differs slightly for categorical and numerical variables due to their inherent differences.\n",
    "\n",
    "**The two main types of data are:**\n",
    "- Quantitative (numerical) data\n",
    "- Qualitative (categorical) data"
   ]
  },
  {
   "cell_type": "markdown",
   "id": "3a9954f5-6fbc-45b4-ad86-3e21b6e0ca2d",
   "metadata": {},
   "source": [
    "### Data Quality Checks\n",
    "Data quality checks involve the process of ensuring that the data is accurate, complete, consistent, relevant, and reliable. \n",
    "\n",
    "\n",
    "**Here are typical steps involved in checking data quality:**"
   ]
  },
  {
   "cell_type": "markdown",
   "id": "4818c876-173d-4e56-9e7d-b4334d2def25",
   "metadata": {},
   "source": [
    "#### 1. Reliability:\n",
    "Evaluate the data's source and collection process to determine its trustworthiness."
   ]
  },
  {
   "cell_type": "code",
   "execution_count": 8,
   "id": "9034ae7b-dc1d-4cba-8f9e-bb499d021cde",
   "metadata": {},
   "outputs": [],
   "source": [
    "#"
   ]
  },
  {
   "cell_type": "markdown",
   "id": "2ce0cc59-8c92-4acc-8d07-c40764e1a86b",
   "metadata": {},
   "source": [
    "#### 2. Timeliness: \n",
    "Ensure the data is up-to-date and reflective of the current situation or the period of interest for the analysis."
   ]
  },
  {
   "cell_type": "code",
   "execution_count": 9,
   "id": "4b78ae35-7226-4cb6-b8b2-a46c2ed17cf9",
   "metadata": {},
   "outputs": [],
   "source": [
    "#"
   ]
  },
  {
   "cell_type": "markdown",
   "id": "7fab0fe2-6624-4615-b9d8-3c3669056bf8",
   "metadata": {},
   "source": [
    "#### 3. Consistency: \n",
    "\n",
    "Confirm that the data is consistent within the dataset and across multiple data sources. For example, the same data point should not have different values in different places.\n"
   ]
  },
  {
   "cell_type": "code",
   "execution_count": 10,
   "id": "7fecc573-959f-4800-8ddd-a67985c68b18",
   "metadata": {},
   "outputs": [],
   "source": [
    "#"
   ]
  },
  {
   "cell_type": "markdown",
   "id": "bec3d183-bba0-4b12-b963-487daab1e876",
   "metadata": {},
   "source": [
    "#### 4. Relevance: \n",
    "Assess whether the data is appropriate and applicable for the intended analysis. Data that is not relevant can skew results and lead to incorrect conclusions.\n",
    "\n",
    "**Key considerations for relevance include:**\n",
    "\n",
    "> 1. Sample Appropriateness: Confirm that your data sample aligns with your analysis objectives. For instance, utilizing data from the Northern region will not yield accurate insights for the Western region of the Kingdom.\n",
    ">\n",
    "> 2. Variable Selection: Any column will not be relevant for our analysis, we can get rid of these using the drop() method. We will set the “axis” argument to 1 since we’re dealing with columns, and set the “inplace” argument to True to make the change permanent.\n"
   ]
  },
  {
   "cell_type": "code",
   "execution_count": 11,
   "id": "50a934b7-a0cd-443f-8a27-f10e9a6e8647",
   "metadata": {
    "scrolled": true
   },
   "outputs": [
    {
     "data": {
      "text/plain": [
       "product_id\n",
       "71    3076\n",
       "50    3053\n",
       "59    3029\n",
       "54    3026\n",
       "29    3013\n",
       "      ... \n",
       "7      146\n",
       "14     142\n",
       "10     134\n",
       "18     122\n",
       "19     118\n",
       "Name: count, Length: 80, dtype: int64"
      ]
     },
     "execution_count": 11,
     "metadata": {},
     "output_type": "execute_result"
    }
   ],
   "source": [
    "coffee_df['product_id'].value_counts()"
   ]
  },
  {
   "cell_type": "code",
   "execution_count": 12,
   "id": "477716ef-4747-480e-889c-053f359b31be",
   "metadata": {},
   "outputs": [
    {
     "data": {
      "text/plain": [
       "Index(['transaction_id', 'transaction_date', 'transaction_time',\n",
       "       'transaction_qty', 'store_id', 'store_location', 'product_id',\n",
       "       'unit_price', 'product_category', 'product_type', 'product_detail'],\n",
       "      dtype='object')"
      ]
     },
     "execution_count": 12,
     "metadata": {},
     "output_type": "execute_result"
    }
   ],
   "source": [
    "coffee_df.columns\n"
   ]
  },
  {
   "cell_type": "code",
   "execution_count": 13,
   "id": "b93d8ae9-05d7-45a5-a8d5-c2c35d358bd5",
   "metadata": {},
   "outputs": [
    {
     "data": {
      "text/plain": [
       "product_category\n",
       "Coffee                58416\n",
       "Tea                   45449\n",
       "Bakery                22796\n",
       "Drinking Chocolate    11468\n",
       "Flavours               6790\n",
       "Coffee beans           1753\n",
       "Loose Tea              1210\n",
       "Branded                 747\n",
       "Packaged Chocolate      487\n",
       "Name: count, dtype: int64"
      ]
     },
     "execution_count": 13,
     "metadata": {},
     "output_type": "execute_result"
    }
   ],
   "source": [
    "coffee_df['product_category'].value_counts()\n"
   ]
  },
  {
   "cell_type": "code",
   "execution_count": 14,
   "id": "24c1b8e9-c9a0-4061-819a-9eef0e6aed38",
   "metadata": {},
   "outputs": [
    {
     "data": {
      "text/html": [
       "<div>\n",
       "<style scoped>\n",
       "    .dataframe tbody tr th:only-of-type {\n",
       "        vertical-align: middle;\n",
       "    }\n",
       "\n",
       "    .dataframe tbody tr th {\n",
       "        vertical-align: top;\n",
       "    }\n",
       "\n",
       "    .dataframe thead th {\n",
       "        text-align: right;\n",
       "    }\n",
       "</style>\n",
       "<table border=\"1\" class=\"dataframe\">\n",
       "  <thead>\n",
       "    <tr style=\"text-align: right;\">\n",
       "      <th></th>\n",
       "      <th>transaction_id</th>\n",
       "      <th>transaction_date</th>\n",
       "      <th>transaction_time</th>\n",
       "      <th>transaction_qty</th>\n",
       "      <th>store_id</th>\n",
       "      <th>store_location</th>\n",
       "      <th>product_id</th>\n",
       "      <th>unit_price</th>\n",
       "      <th>product_category</th>\n",
       "      <th>product_type</th>\n",
       "      <th>product_detail</th>\n",
       "    </tr>\n",
       "  </thead>\n",
       "  <tbody>\n",
       "    <tr>\n",
       "      <th>0</th>\n",
       "      <td>1</td>\n",
       "      <td>2023-01-01</td>\n",
       "      <td>07:06:11</td>\n",
       "      <td>2</td>\n",
       "      <td>5</td>\n",
       "      <td>Lower Manhattan</td>\n",
       "      <td>32</td>\n",
       "      <td>3.00</td>\n",
       "      <td>Coffee</td>\n",
       "      <td>Gourmet brewed coffee</td>\n",
       "      <td>Ethiopia Rg</td>\n",
       "    </tr>\n",
       "    <tr>\n",
       "      <th>3</th>\n",
       "      <td>4</td>\n",
       "      <td>2023-01-01</td>\n",
       "      <td>07:20:24</td>\n",
       "      <td>1</td>\n",
       "      <td>5</td>\n",
       "      <td>Lower Manhattan</td>\n",
       "      <td>22</td>\n",
       "      <td>2.00</td>\n",
       "      <td>Coffee</td>\n",
       "      <td>Drip coffee</td>\n",
       "      <td>Our Old Time Diner Blend Sm</td>\n",
       "    </tr>\n",
       "    <tr>\n",
       "      <th>6</th>\n",
       "      <td>7</td>\n",
       "      <td>2023-01-01</td>\n",
       "      <td>07:25:49</td>\n",
       "      <td>1</td>\n",
       "      <td>5</td>\n",
       "      <td>Lower Manhattan</td>\n",
       "      <td>22</td>\n",
       "      <td>2.00</td>\n",
       "      <td>Coffee</td>\n",
       "      <td>Drip coffee</td>\n",
       "      <td>Our Old Time Diner Blend Sm</td>\n",
       "    </tr>\n",
       "    <tr>\n",
       "      <th>7</th>\n",
       "      <td>8</td>\n",
       "      <td>2023-01-01</td>\n",
       "      <td>07:33:34</td>\n",
       "      <td>2</td>\n",
       "      <td>5</td>\n",
       "      <td>Lower Manhattan</td>\n",
       "      <td>28</td>\n",
       "      <td>2.00</td>\n",
       "      <td>Coffee</td>\n",
       "      <td>Gourmet brewed coffee</td>\n",
       "      <td>Columbian Medium Roast Sm</td>\n",
       "    </tr>\n",
       "    <tr>\n",
       "      <th>8</th>\n",
       "      <td>9</td>\n",
       "      <td>2023-01-01</td>\n",
       "      <td>07:39:13</td>\n",
       "      <td>1</td>\n",
       "      <td>5</td>\n",
       "      <td>Lower Manhattan</td>\n",
       "      <td>39</td>\n",
       "      <td>4.25</td>\n",
       "      <td>Coffee</td>\n",
       "      <td>Barista Espresso</td>\n",
       "      <td>Latte Rg</td>\n",
       "    </tr>\n",
       "    <tr>\n",
       "      <th>...</th>\n",
       "      <td>...</td>\n",
       "      <td>...</td>\n",
       "      <td>...</td>\n",
       "      <td>...</td>\n",
       "      <td>...</td>\n",
       "      <td>...</td>\n",
       "      <td>...</td>\n",
       "      <td>...</td>\n",
       "      <td>...</td>\n",
       "      <td>...</td>\n",
       "      <td>...</td>\n",
       "    </tr>\n",
       "    <tr>\n",
       "      <th>149103</th>\n",
       "      <td>149444</td>\n",
       "      <td>2023-06-30</td>\n",
       "      <td>19:51:59</td>\n",
       "      <td>2</td>\n",
       "      <td>3</td>\n",
       "      <td>Astoria</td>\n",
       "      <td>26</td>\n",
       "      <td>3.00</td>\n",
       "      <td>Coffee</td>\n",
       "      <td>Organic brewed coffee</td>\n",
       "      <td>Brazilian Rg</td>\n",
       "    </tr>\n",
       "    <tr>\n",
       "      <th>149104</th>\n",
       "      <td>149445</td>\n",
       "      <td>2023-06-30</td>\n",
       "      <td>19:52:28</td>\n",
       "      <td>2</td>\n",
       "      <td>3</td>\n",
       "      <td>Astoria</td>\n",
       "      <td>34</td>\n",
       "      <td>2.45</td>\n",
       "      <td>Coffee</td>\n",
       "      <td>Premium brewed coffee</td>\n",
       "      <td>Jamaican Coffee River Sm</td>\n",
       "    </tr>\n",
       "    <tr>\n",
       "      <th>149105</th>\n",
       "      <td>149446</td>\n",
       "      <td>2023-06-30</td>\n",
       "      <td>19:53:46</td>\n",
       "      <td>1</td>\n",
       "      <td>3</td>\n",
       "      <td>Astoria</td>\n",
       "      <td>24</td>\n",
       "      <td>3.00</td>\n",
       "      <td>Coffee</td>\n",
       "      <td>Drip coffee</td>\n",
       "      <td>Our Old Time Diner Blend Lg</td>\n",
       "    </tr>\n",
       "    <tr>\n",
       "      <th>149106</th>\n",
       "      <td>149447</td>\n",
       "      <td>2023-06-30</td>\n",
       "      <td>19:56:45</td>\n",
       "      <td>1</td>\n",
       "      <td>8</td>\n",
       "      <td>Hell's Kitchen</td>\n",
       "      <td>33</td>\n",
       "      <td>3.50</td>\n",
       "      <td>Coffee</td>\n",
       "      <td>Gourmet brewed coffee</td>\n",
       "      <td>Ethiopia Lg</td>\n",
       "    </tr>\n",
       "    <tr>\n",
       "      <th>149114</th>\n",
       "      <td>149455</td>\n",
       "      <td>2023-06-30</td>\n",
       "      <td>20:57:19</td>\n",
       "      <td>1</td>\n",
       "      <td>8</td>\n",
       "      <td>Hell's Kitchen</td>\n",
       "      <td>40</td>\n",
       "      <td>3.75</td>\n",
       "      <td>Coffee</td>\n",
       "      <td>Barista Espresso</td>\n",
       "      <td>Cappuccino</td>\n",
       "    </tr>\n",
       "  </tbody>\n",
       "</table>\n",
       "<p>58416 rows × 11 columns</p>\n",
       "</div>"
      ],
      "text/plain": [
       "        transaction_id transaction_date transaction_time  transaction_qty  \\\n",
       "0                    1       2023-01-01         07:06:11                2   \n",
       "3                    4       2023-01-01         07:20:24                1   \n",
       "6                    7       2023-01-01         07:25:49                1   \n",
       "7                    8       2023-01-01         07:33:34                2   \n",
       "8                    9       2023-01-01         07:39:13                1   \n",
       "...                ...              ...              ...              ...   \n",
       "149103          149444       2023-06-30         19:51:59                2   \n",
       "149104          149445       2023-06-30         19:52:28                2   \n",
       "149105          149446       2023-06-30         19:53:46                1   \n",
       "149106          149447       2023-06-30         19:56:45                1   \n",
       "149114          149455       2023-06-30         20:57:19                1   \n",
       "\n",
       "        store_id   store_location  product_id  unit_price product_category  \\\n",
       "0              5  Lower Manhattan          32        3.00           Coffee   \n",
       "3              5  Lower Manhattan          22        2.00           Coffee   \n",
       "6              5  Lower Manhattan          22        2.00           Coffee   \n",
       "7              5  Lower Manhattan          28        2.00           Coffee   \n",
       "8              5  Lower Manhattan          39        4.25           Coffee   \n",
       "...          ...              ...         ...         ...              ...   \n",
       "149103         3          Astoria          26        3.00           Coffee   \n",
       "149104         3          Astoria          34        2.45           Coffee   \n",
       "149105         3          Astoria          24        3.00           Coffee   \n",
       "149106         8   Hell's Kitchen          33        3.50           Coffee   \n",
       "149114         8   Hell's Kitchen          40        3.75           Coffee   \n",
       "\n",
       "                 product_type               product_detail  \n",
       "0       Gourmet brewed coffee                  Ethiopia Rg  \n",
       "3                 Drip coffee  Our Old Time Diner Blend Sm  \n",
       "6                 Drip coffee  Our Old Time Diner Blend Sm  \n",
       "7       Gourmet brewed coffee    Columbian Medium Roast Sm  \n",
       "8            Barista Espresso                     Latte Rg  \n",
       "...                       ...                          ...  \n",
       "149103  Organic brewed coffee                 Brazilian Rg  \n",
       "149104  Premium brewed coffee     Jamaican Coffee River Sm  \n",
       "149105            Drip coffee  Our Old Time Diner Blend Lg  \n",
       "149106  Gourmet brewed coffee                  Ethiopia Lg  \n",
       "149114       Barista Espresso                   Cappuccino  \n",
       "\n",
       "[58416 rows x 11 columns]"
      ]
     },
     "execution_count": 14,
     "metadata": {},
     "output_type": "execute_result"
    }
   ],
   "source": [
    "coffee_df[coffee_df['product_category'] == 'Coffee']\n"
   ]
  },
  {
   "cell_type": "code",
   "execution_count": 15,
   "id": "9c7cf36e-1962-4096-9ddf-b3cda4230216",
   "metadata": {},
   "outputs": [
    {
     "data": {
      "text/plain": [
       "product_type\n",
       "Gourmet brewed coffee    16912\n",
       "Barista Espresso         16403\n",
       "Organic brewed coffee     8489\n",
       "Drip coffee               8477\n",
       "Premium brewed coffee     8135\n",
       "Name: count, dtype: int64"
      ]
     },
     "execution_count": 15,
     "metadata": {},
     "output_type": "execute_result"
    }
   ],
   "source": [
    "coffee_df[coffee_df['product_category'] == 'Coffee']['product_type'].value_counts()\n"
   ]
  },
  {
   "cell_type": "code",
   "execution_count": 16,
   "id": "a29e963f-fa3d-4b0c-ad32-293aab4b5a34",
   "metadata": {},
   "outputs": [
    {
     "data": {
      "text/plain": [
       "product_id\n",
       "29    3013\n",
       "38    2990\n",
       "22    2919\n",
       "36    2911\n",
       "26    2904\n",
       "39    2896\n",
       "23    2894\n",
       "32    2866\n",
       "31    2833\n",
       "25    2814\n",
       "40    2793\n",
       "41    2772\n",
       "27    2771\n",
       "33    2741\n",
       "30    2731\n",
       "37    2730\n",
       "28    2728\n",
       "24    2664\n",
       "34    2630\n",
       "35    2594\n",
       "87    2222\n",
       "Name: count, dtype: int64"
      ]
     },
     "execution_count": 16,
     "metadata": {},
     "output_type": "execute_result"
    }
   ],
   "source": [
    "coffee_df[coffee_df['product_category'] == 'Coffee']['product_id'].value_counts()\n"
   ]
  },
  {
   "cell_type": "code",
   "execution_count": 17,
   "id": "1a1e3c3e-6659-4859-9b26-710b169e256b",
   "metadata": {},
   "outputs": [
    {
     "data": {
      "text/plain": [
       "product_type\n",
       "Gourmet brewed coffee    16912\n",
       "Barista Espresso         16403\n",
       "Organic brewed coffee     8489\n",
       "Drip coffee               8477\n",
       "Premium brewed coffee     8135\n",
       "Name: count, dtype: int64"
      ]
     },
     "execution_count": 17,
     "metadata": {},
     "output_type": "execute_result"
    }
   ],
   "source": [
    "coffee_df[coffee_df['product_category'] == 'Coffee']['product_type'].value_counts()\n"
   ]
  },
  {
   "cell_type": "code",
   "execution_count": 18,
   "id": "d778d5cb-5c06-4b74-be2b-95ef30834968",
   "metadata": {},
   "outputs": [
    {
     "data": {
      "text/plain": [
       "product_detail\n",
       "Columbian Medium Roast Rg    3013\n",
       "Ethiopia Rg                  2866\n",
       "Ethiopia Sm                  2833\n",
       "Ethiopia Lg                  2741\n",
       "Columbian Medium Roast Lg    2731\n",
       "Columbian Medium Roast Sm    2728\n",
       "Name: count, dtype: int64"
      ]
     },
     "execution_count": 18,
     "metadata": {},
     "output_type": "execute_result"
    }
   ],
   "source": [
    "coffee_df[coffee_df['product_type'] == 'Gourmet brewed coffee']['product_detail'].value_counts()\n"
   ]
  },
  {
   "cell_type": "code",
   "execution_count": 19,
   "id": "55882e30-2204-4ed0-9e3f-99b2df2fe856",
   "metadata": {},
   "outputs": [
    {
     "data": {
      "text/plain": [
       "product_detail\n",
       "Latte                   2990\n",
       "Latte Rg                2896\n",
       "Cappuccino              2793\n",
       "Cappuccino Lg           2772\n",
       "Espresso shot           2730\n",
       "Ouro Brasileiro shot    2222\n",
       "Name: count, dtype: int64"
      ]
     },
     "execution_count": 19,
     "metadata": {},
     "output_type": "execute_result"
    }
   ],
   "source": [
    "coffee_df[coffee_df['product_type'] == 'Barista Espresso']['product_detail'].value_counts()\n"
   ]
  },
  {
   "cell_type": "code",
   "execution_count": 20,
   "id": "31db8cf7-6e54-4ad8-a475-e053d1cdc763",
   "metadata": {},
   "outputs": [
    {
     "data": {
      "text/plain": [
       "product_detail\n",
       "Brazilian Rg    2904\n",
       "Brazilian Sm    2814\n",
       "Brazilian Lg    2771\n",
       "Name: count, dtype: int64"
      ]
     },
     "execution_count": 20,
     "metadata": {},
     "output_type": "execute_result"
    }
   ],
   "source": [
    "coffee_df[coffee_df['product_type'] == 'Organic brewed coffee']['product_detail'].value_counts()\n"
   ]
  },
  {
   "cell_type": "code",
   "execution_count": 21,
   "id": "15845e42-caef-4f82-b151-ffca7bee04cd",
   "metadata": {},
   "outputs": [
    {
     "data": {
      "text/plain": [
       "product_detail\n",
       "Our Old Time Diner Blend Sm    2919\n",
       "Our Old Time Diner Blend Rg    2894\n",
       "Our Old Time Diner Blend Lg    2664\n",
       "Name: count, dtype: int64"
      ]
     },
     "execution_count": 21,
     "metadata": {},
     "output_type": "execute_result"
    }
   ],
   "source": [
    "coffee_df[coffee_df['product_type'] == 'Drip coffee']['product_detail'].value_counts()\n"
   ]
  },
  {
   "cell_type": "code",
   "execution_count": 22,
   "id": "634f2d0b-5abc-4c05-9079-54b572268250",
   "metadata": {},
   "outputs": [
    {
     "data": {
      "text/plain": [
       "product_detail\n",
       "Jamaican Coffee River Lg    2911\n",
       "Jamaican Coffee River Sm    2630\n",
       "Jamaican Coffee River Rg    2594\n",
       "Name: count, dtype: int64"
      ]
     },
     "execution_count": 22,
     "metadata": {},
     "output_type": "execute_result"
    }
   ],
   "source": [
    "coffee_df[coffee_df['product_type'] == 'Premium brewed coffee']['product_detail'].value_counts()\n"
   ]
  },
  {
   "cell_type": "code",
   "execution_count": 23,
   "id": "c2c7ed16-8801-48ec-ad4f-89f6c8f2090c",
   "metadata": {},
   "outputs": [
    {
     "data": {
      "text/plain": [
       "product_detail\n",
       "Columbian Medium Roast Rg      3013\n",
       "Latte                          2990\n",
       "Our Old Time Diner Blend Sm    2919\n",
       "Jamaican Coffee River Lg       2911\n",
       "Brazilian Rg                   2904\n",
       "Latte Rg                       2896\n",
       "Our Old Time Diner Blend Rg    2894\n",
       "Ethiopia Rg                    2866\n",
       "Ethiopia Sm                    2833\n",
       "Brazilian Sm                   2814\n",
       "Cappuccino                     2793\n",
       "Cappuccino Lg                  2772\n",
       "Brazilian Lg                   2771\n",
       "Ethiopia Lg                    2741\n",
       "Columbian Medium Roast Lg      2731\n",
       "Espresso shot                  2730\n",
       "Columbian Medium Roast Sm      2728\n",
       "Our Old Time Diner Blend Lg    2664\n",
       "Jamaican Coffee River Sm       2630\n",
       "Jamaican Coffee River Rg       2594\n",
       "Ouro Brasileiro shot           2222\n",
       "Name: count, dtype: int64"
      ]
     },
     "execution_count": 23,
     "metadata": {},
     "output_type": "execute_result"
    }
   ],
   "source": [
    "coffee_df[coffee_df['product_category'] == 'Coffee']['product_detail'].value_counts()\n"
   ]
  },
  {
   "cell_type": "code",
   "execution_count": 24,
   "id": "b1d71077-6592-4c98-977e-dbe8527883b3",
   "metadata": {},
   "outputs": [
    {
     "data": {
      "text/html": [
       "<div>\n",
       "<style scoped>\n",
       "    .dataframe tbody tr th:only-of-type {\n",
       "        vertical-align: middle;\n",
       "    }\n",
       "\n",
       "    .dataframe tbody tr th {\n",
       "        vertical-align: top;\n",
       "    }\n",
       "\n",
       "    .dataframe thead th {\n",
       "        text-align: right;\n",
       "    }\n",
       "</style>\n",
       "<table border=\"1\" class=\"dataframe\">\n",
       "  <thead>\n",
       "    <tr style=\"text-align: right;\">\n",
       "      <th></th>\n",
       "      <th>transaction_id</th>\n",
       "      <th>transaction_date</th>\n",
       "      <th>transaction_time</th>\n",
       "      <th>transaction_qty</th>\n",
       "      <th>store_id</th>\n",
       "      <th>store_location</th>\n",
       "      <th>product_id</th>\n",
       "      <th>unit_price</th>\n",
       "      <th>product_category</th>\n",
       "      <th>product_type</th>\n",
       "      <th>product_detail</th>\n",
       "    </tr>\n",
       "  </thead>\n",
       "  <tbody>\n",
       "    <tr>\n",
       "      <th>1</th>\n",
       "      <td>2</td>\n",
       "      <td>2023-01-01</td>\n",
       "      <td>07:08:56</td>\n",
       "      <td>2</td>\n",
       "      <td>5</td>\n",
       "      <td>Lower Manhattan</td>\n",
       "      <td>57</td>\n",
       "      <td>3.10</td>\n",
       "      <td>Tea</td>\n",
       "      <td>Brewed Chai tea</td>\n",
       "      <td>Spicy Eye Opener Chai Lg</td>\n",
       "    </tr>\n",
       "    <tr>\n",
       "      <th>4</th>\n",
       "      <td>5</td>\n",
       "      <td>2023-01-01</td>\n",
       "      <td>07:22:41</td>\n",
       "      <td>2</td>\n",
       "      <td>5</td>\n",
       "      <td>Lower Manhattan</td>\n",
       "      <td>57</td>\n",
       "      <td>3.10</td>\n",
       "      <td>Tea</td>\n",
       "      <td>Brewed Chai tea</td>\n",
       "      <td>Spicy Eye Opener Chai Lg</td>\n",
       "    </tr>\n",
       "    <tr>\n",
       "      <th>10</th>\n",
       "      <td>11</td>\n",
       "      <td>2023-01-01</td>\n",
       "      <td>07:43:05</td>\n",
       "      <td>1</td>\n",
       "      <td>5</td>\n",
       "      <td>Lower Manhattan</td>\n",
       "      <td>56</td>\n",
       "      <td>2.55</td>\n",
       "      <td>Tea</td>\n",
       "      <td>Brewed Chai tea</td>\n",
       "      <td>Spicy Eye Opener Chai Rg</td>\n",
       "    </tr>\n",
       "    <tr>\n",
       "      <th>12</th>\n",
       "      <td>13</td>\n",
       "      <td>2023-01-01</td>\n",
       "      <td>07:45:51</td>\n",
       "      <td>1</td>\n",
       "      <td>5</td>\n",
       "      <td>Lower Manhattan</td>\n",
       "      <td>51</td>\n",
       "      <td>3.00</td>\n",
       "      <td>Tea</td>\n",
       "      <td>Brewed Black tea</td>\n",
       "      <td>Earl Grey Lg</td>\n",
       "    </tr>\n",
       "    <tr>\n",
       "      <th>13</th>\n",
       "      <td>14</td>\n",
       "      <td>2023-01-01</td>\n",
       "      <td>07:48:19</td>\n",
       "      <td>1</td>\n",
       "      <td>5</td>\n",
       "      <td>Lower Manhattan</td>\n",
       "      <td>57</td>\n",
       "      <td>3.10</td>\n",
       "      <td>Tea</td>\n",
       "      <td>Brewed Chai tea</td>\n",
       "      <td>Spicy Eye Opener Chai Lg</td>\n",
       "    </tr>\n",
       "    <tr>\n",
       "      <th>...</th>\n",
       "      <td>...</td>\n",
       "      <td>...</td>\n",
       "      <td>...</td>\n",
       "      <td>...</td>\n",
       "      <td>...</td>\n",
       "      <td>...</td>\n",
       "      <td>...</td>\n",
       "      <td>...</td>\n",
       "      <td>...</td>\n",
       "      <td>...</td>\n",
       "      <td>...</td>\n",
       "    </tr>\n",
       "    <tr>\n",
       "      <th>149109</th>\n",
       "      <td>149450</td>\n",
       "      <td>2023-06-30</td>\n",
       "      <td>20:08:38</td>\n",
       "      <td>2</td>\n",
       "      <td>8</td>\n",
       "      <td>Hell's Kitchen</td>\n",
       "      <td>55</td>\n",
       "      <td>4.00</td>\n",
       "      <td>Tea</td>\n",
       "      <td>Brewed Chai tea</td>\n",
       "      <td>Morning Sunrise Chai Lg</td>\n",
       "    </tr>\n",
       "    <tr>\n",
       "      <th>149110</th>\n",
       "      <td>149451</td>\n",
       "      <td>2023-06-30</td>\n",
       "      <td>20:16:31</td>\n",
       "      <td>2</td>\n",
       "      <td>5</td>\n",
       "      <td>Lower Manhattan</td>\n",
       "      <td>42</td>\n",
       "      <td>2.50</td>\n",
       "      <td>Tea</td>\n",
       "      <td>Brewed herbal tea</td>\n",
       "      <td>Lemon Grass Rg</td>\n",
       "    </tr>\n",
       "    <tr>\n",
       "      <th>149111</th>\n",
       "      <td>149452</td>\n",
       "      <td>2023-06-30</td>\n",
       "      <td>20:18:41</td>\n",
       "      <td>2</td>\n",
       "      <td>8</td>\n",
       "      <td>Hell's Kitchen</td>\n",
       "      <td>44</td>\n",
       "      <td>2.50</td>\n",
       "      <td>Tea</td>\n",
       "      <td>Brewed herbal tea</td>\n",
       "      <td>Peppermint Rg</td>\n",
       "    </tr>\n",
       "    <tr>\n",
       "      <th>149112</th>\n",
       "      <td>149453</td>\n",
       "      <td>2023-06-30</td>\n",
       "      <td>20:25:10</td>\n",
       "      <td>2</td>\n",
       "      <td>8</td>\n",
       "      <td>Hell's Kitchen</td>\n",
       "      <td>49</td>\n",
       "      <td>3.00</td>\n",
       "      <td>Tea</td>\n",
       "      <td>Brewed Black tea</td>\n",
       "      <td>English Breakfast Lg</td>\n",
       "    </tr>\n",
       "    <tr>\n",
       "      <th>149113</th>\n",
       "      <td>149454</td>\n",
       "      <td>2023-06-30</td>\n",
       "      <td>20:31:34</td>\n",
       "      <td>1</td>\n",
       "      <td>8</td>\n",
       "      <td>Hell's Kitchen</td>\n",
       "      <td>45</td>\n",
       "      <td>3.00</td>\n",
       "      <td>Tea</td>\n",
       "      <td>Brewed herbal tea</td>\n",
       "      <td>Peppermint Lg</td>\n",
       "    </tr>\n",
       "  </tbody>\n",
       "</table>\n",
       "<p>45449 rows × 11 columns</p>\n",
       "</div>"
      ],
      "text/plain": [
       "        transaction_id transaction_date transaction_time  transaction_qty  \\\n",
       "1                    2       2023-01-01         07:08:56                2   \n",
       "4                    5       2023-01-01         07:22:41                2   \n",
       "10                  11       2023-01-01         07:43:05                1   \n",
       "12                  13       2023-01-01         07:45:51                1   \n",
       "13                  14       2023-01-01         07:48:19                1   \n",
       "...                ...              ...              ...              ...   \n",
       "149109          149450       2023-06-30         20:08:38                2   \n",
       "149110          149451       2023-06-30         20:16:31                2   \n",
       "149111          149452       2023-06-30         20:18:41                2   \n",
       "149112          149453       2023-06-30         20:25:10                2   \n",
       "149113          149454       2023-06-30         20:31:34                1   \n",
       "\n",
       "        store_id   store_location  product_id  unit_price product_category  \\\n",
       "1              5  Lower Manhattan          57        3.10              Tea   \n",
       "4              5  Lower Manhattan          57        3.10              Tea   \n",
       "10             5  Lower Manhattan          56        2.55              Tea   \n",
       "12             5  Lower Manhattan          51        3.00              Tea   \n",
       "13             5  Lower Manhattan          57        3.10              Tea   \n",
       "...          ...              ...         ...         ...              ...   \n",
       "149109         8   Hell's Kitchen          55        4.00              Tea   \n",
       "149110         5  Lower Manhattan          42        2.50              Tea   \n",
       "149111         8   Hell's Kitchen          44        2.50              Tea   \n",
       "149112         8   Hell's Kitchen          49        3.00              Tea   \n",
       "149113         8   Hell's Kitchen          45        3.00              Tea   \n",
       "\n",
       "             product_type            product_detail  \n",
       "1         Brewed Chai tea  Spicy Eye Opener Chai Lg  \n",
       "4         Brewed Chai tea  Spicy Eye Opener Chai Lg  \n",
       "10        Brewed Chai tea  Spicy Eye Opener Chai Rg  \n",
       "12       Brewed Black tea              Earl Grey Lg  \n",
       "13        Brewed Chai tea  Spicy Eye Opener Chai Lg  \n",
       "...                   ...                       ...  \n",
       "149109    Brewed Chai tea   Morning Sunrise Chai Lg  \n",
       "149110  Brewed herbal tea            Lemon Grass Rg  \n",
       "149111  Brewed herbal tea             Peppermint Rg  \n",
       "149112   Brewed Black tea      English Breakfast Lg  \n",
       "149113  Brewed herbal tea             Peppermint Lg  \n",
       "\n",
       "[45449 rows x 11 columns]"
      ]
     },
     "execution_count": 24,
     "metadata": {},
     "output_type": "execute_result"
    }
   ],
   "source": [
    "coffee_df[coffee_df['product_category'] == 'Tea']\n"
   ]
  },
  {
   "cell_type": "code",
   "execution_count": 25,
   "id": "03b6ef88-8f4a-4e81-ad58-83efdf524590",
   "metadata": {},
   "outputs": [
    {
     "data": {
      "text/plain": [
       "product_type\n",
       "Brewed Chai tea      17183\n",
       "Brewed Black tea     11350\n",
       "Brewed herbal tea    11245\n",
       "Brewed Green tea      5671\n",
       "Name: count, dtype: int64"
      ]
     },
     "execution_count": 25,
     "metadata": {},
     "output_type": "execute_result"
    }
   ],
   "source": [
    "coffee_df[coffee_df['product_category'] == 'Tea']['product_type'].value_counts()\n"
   ]
  },
  {
   "cell_type": "code",
   "execution_count": 26,
   "id": "99184be7-9c70-4fad-9cab-373e90cca9f3",
   "metadata": {},
   "outputs": [
    {
     "data": {
      "text/plain": [
       "product_id\n",
       "50    3053\n",
       "54    3026\n",
       "52    2955\n",
       "57    2951\n",
       "44    2949\n",
       "46    2921\n",
       "45    2857\n",
       "49    2852\n",
       "55    2830\n",
       "42    2792\n",
       "47    2750\n",
       "48    2743\n",
       "53    2716\n",
       "56    2705\n",
       "51    2702\n",
       "43    2647\n",
       "Name: count, dtype: int64"
      ]
     },
     "execution_count": 26,
     "metadata": {},
     "output_type": "execute_result"
    }
   ],
   "source": [
    "coffee_df[coffee_df['product_category'] == 'Tea']['product_id'].value_counts()\n"
   ]
  },
  {
   "cell_type": "code",
   "execution_count": 27,
   "id": "ca86c240-ef13-42d3-97ef-b33911029dc5",
   "metadata": {},
   "outputs": [
    {
     "data": {
      "text/plain": [
       "product_detail\n",
       "Earl Grey Rg                 3053\n",
       "Morning Sunrise Chai Rg      3026\n",
       "Traditional Blend Chai Rg    2955\n",
       "Spicy Eye Opener Chai Lg     2951\n",
       "Peppermint Rg                2949\n",
       "Serenity Green Tea Rg        2921\n",
       "Peppermint Lg                2857\n",
       "English Breakfast Lg         2852\n",
       "Morning Sunrise Chai Lg      2830\n",
       "Lemon Grass Rg               2792\n",
       "Serenity Green Tea Lg        2750\n",
       "English Breakfast Rg         2743\n",
       "Traditional Blend Chai Lg    2716\n",
       "Spicy Eye Opener Chai Rg     2705\n",
       "Earl Grey Lg                 2702\n",
       "Lemon Grass Lg               2647\n",
       "Name: count, dtype: int64"
      ]
     },
     "execution_count": 27,
     "metadata": {},
     "output_type": "execute_result"
    }
   ],
   "source": [
    "coffee_df[coffee_df['product_category'] == 'Tea']['product_detail'].value_counts()\n"
   ]
  },
  {
   "cell_type": "code",
   "execution_count": 28,
   "id": "96f4637a-cbd3-453d-8bc6-b911a24b025d",
   "metadata": {},
   "outputs": [
    {
     "data": {
      "text/html": [
       "<div>\n",
       "<style scoped>\n",
       "    .dataframe tbody tr th:only-of-type {\n",
       "        vertical-align: middle;\n",
       "    }\n",
       "\n",
       "    .dataframe tbody tr th {\n",
       "        vertical-align: top;\n",
       "    }\n",
       "\n",
       "    .dataframe thead th {\n",
       "        text-align: right;\n",
       "    }\n",
       "</style>\n",
       "<table border=\"1\" class=\"dataframe\">\n",
       "  <thead>\n",
       "    <tr style=\"text-align: right;\">\n",
       "      <th></th>\n",
       "      <th>transaction_id</th>\n",
       "      <th>transaction_date</th>\n",
       "      <th>transaction_time</th>\n",
       "      <th>transaction_qty</th>\n",
       "      <th>store_id</th>\n",
       "      <th>store_location</th>\n",
       "      <th>product_id</th>\n",
       "      <th>unit_price</th>\n",
       "      <th>product_category</th>\n",
       "      <th>product_type</th>\n",
       "      <th>product_detail</th>\n",
       "    </tr>\n",
       "  </thead>\n",
       "  <tbody>\n",
       "    <tr>\n",
       "      <th>5</th>\n",
       "      <td>6</td>\n",
       "      <td>2023-01-01</td>\n",
       "      <td>07:22:41</td>\n",
       "      <td>1</td>\n",
       "      <td>5</td>\n",
       "      <td>Lower Manhattan</td>\n",
       "      <td>77</td>\n",
       "      <td>3.00</td>\n",
       "      <td>Bakery</td>\n",
       "      <td>Scone</td>\n",
       "      <td>Oatmeal Scone</td>\n",
       "    </tr>\n",
       "    <tr>\n",
       "      <th>16</th>\n",
       "      <td>17</td>\n",
       "      <td>2023-01-01</td>\n",
       "      <td>07:59:58</td>\n",
       "      <td>1</td>\n",
       "      <td>5</td>\n",
       "      <td>Lower Manhattan</td>\n",
       "      <td>79</td>\n",
       "      <td>3.75</td>\n",
       "      <td>Bakery</td>\n",
       "      <td>Scone</td>\n",
       "      <td>Jumbo Savory Scone</td>\n",
       "    </tr>\n",
       "    <tr>\n",
       "      <th>22</th>\n",
       "      <td>23</td>\n",
       "      <td>2023-01-01</td>\n",
       "      <td>08:24:26</td>\n",
       "      <td>1</td>\n",
       "      <td>5</td>\n",
       "      <td>Lower Manhattan</td>\n",
       "      <td>69</td>\n",
       "      <td>3.25</td>\n",
       "      <td>Bakery</td>\n",
       "      <td>Biscotti</td>\n",
       "      <td>Hazelnut Biscotti</td>\n",
       "    </tr>\n",
       "    <tr>\n",
       "      <th>26</th>\n",
       "      <td>27</td>\n",
       "      <td>2023-01-01</td>\n",
       "      <td>08:33:08</td>\n",
       "      <td>1</td>\n",
       "      <td>5</td>\n",
       "      <td>Lower Manhattan</td>\n",
       "      <td>76</td>\n",
       "      <td>3.50</td>\n",
       "      <td>Bakery</td>\n",
       "      <td>Biscotti</td>\n",
       "      <td>Chocolate Chip Biscotti</td>\n",
       "    </tr>\n",
       "    <tr>\n",
       "      <th>28</th>\n",
       "      <td>29</td>\n",
       "      <td>2023-01-01</td>\n",
       "      <td>08:35:03</td>\n",
       "      <td>1</td>\n",
       "      <td>5</td>\n",
       "      <td>Lower Manhattan</td>\n",
       "      <td>71</td>\n",
       "      <td>3.75</td>\n",
       "      <td>Bakery</td>\n",
       "      <td>Pastry</td>\n",
       "      <td>Chocolate Croissant</td>\n",
       "    </tr>\n",
       "    <tr>\n",
       "      <th>...</th>\n",
       "      <td>...</td>\n",
       "      <td>...</td>\n",
       "      <td>...</td>\n",
       "      <td>...</td>\n",
       "      <td>...</td>\n",
       "      <td>...</td>\n",
       "      <td>...</td>\n",
       "      <td>...</td>\n",
       "      <td>...</td>\n",
       "      <td>...</td>\n",
       "      <td>...</td>\n",
       "    </tr>\n",
       "    <tr>\n",
       "      <th>149063</th>\n",
       "      <td>149404</td>\n",
       "      <td>2023-06-30</td>\n",
       "      <td>18:49:29</td>\n",
       "      <td>1</td>\n",
       "      <td>3</td>\n",
       "      <td>Astoria</td>\n",
       "      <td>79</td>\n",
       "      <td>3.75</td>\n",
       "      <td>Bakery</td>\n",
       "      <td>Scone</td>\n",
       "      <td>Jumbo Savory Scone</td>\n",
       "    </tr>\n",
       "    <tr>\n",
       "      <th>149093</th>\n",
       "      <td>149434</td>\n",
       "      <td>2023-06-30</td>\n",
       "      <td>19:39:19</td>\n",
       "      <td>1</td>\n",
       "      <td>8</td>\n",
       "      <td>Hell's Kitchen</td>\n",
       "      <td>72</td>\n",
       "      <td>3.25</td>\n",
       "      <td>Bakery</td>\n",
       "      <td>Scone</td>\n",
       "      <td>Ginger Scone</td>\n",
       "    </tr>\n",
       "    <tr>\n",
       "      <th>149096</th>\n",
       "      <td>149437</td>\n",
       "      <td>2023-06-30</td>\n",
       "      <td>19:44:46</td>\n",
       "      <td>2</td>\n",
       "      <td>3</td>\n",
       "      <td>Astoria</td>\n",
       "      <td>72</td>\n",
       "      <td>3.25</td>\n",
       "      <td>Bakery</td>\n",
       "      <td>Scone</td>\n",
       "      <td>Ginger Scone</td>\n",
       "    </tr>\n",
       "    <tr>\n",
       "      <th>149101</th>\n",
       "      <td>149442</td>\n",
       "      <td>2023-06-30</td>\n",
       "      <td>19:46:28</td>\n",
       "      <td>1</td>\n",
       "      <td>8</td>\n",
       "      <td>Hell's Kitchen</td>\n",
       "      <td>75</td>\n",
       "      <td>3.50</td>\n",
       "      <td>Bakery</td>\n",
       "      <td>Pastry</td>\n",
       "      <td>Croissant</td>\n",
       "    </tr>\n",
       "    <tr>\n",
       "      <th>149108</th>\n",
       "      <td>149449</td>\n",
       "      <td>2023-06-30</td>\n",
       "      <td>19:57:49</td>\n",
       "      <td>1</td>\n",
       "      <td>3</td>\n",
       "      <td>Astoria</td>\n",
       "      <td>70</td>\n",
       "      <td>3.25</td>\n",
       "      <td>Bakery</td>\n",
       "      <td>Scone</td>\n",
       "      <td>Cranberry Scone</td>\n",
       "    </tr>\n",
       "  </tbody>\n",
       "</table>\n",
       "<p>22796 rows × 11 columns</p>\n",
       "</div>"
      ],
      "text/plain": [
       "        transaction_id transaction_date transaction_time  transaction_qty  \\\n",
       "5                    6       2023-01-01         07:22:41                1   \n",
       "16                  17       2023-01-01         07:59:58                1   \n",
       "22                  23       2023-01-01         08:24:26                1   \n",
       "26                  27       2023-01-01         08:33:08                1   \n",
       "28                  29       2023-01-01         08:35:03                1   \n",
       "...                ...              ...              ...              ...   \n",
       "149063          149404       2023-06-30         18:49:29                1   \n",
       "149093          149434       2023-06-30         19:39:19                1   \n",
       "149096          149437       2023-06-30         19:44:46                2   \n",
       "149101          149442       2023-06-30         19:46:28                1   \n",
       "149108          149449       2023-06-30         19:57:49                1   \n",
       "\n",
       "        store_id   store_location  product_id  unit_price product_category  \\\n",
       "5              5  Lower Manhattan          77        3.00           Bakery   \n",
       "16             5  Lower Manhattan          79        3.75           Bakery   \n",
       "22             5  Lower Manhattan          69        3.25           Bakery   \n",
       "26             5  Lower Manhattan          76        3.50           Bakery   \n",
       "28             5  Lower Manhattan          71        3.75           Bakery   \n",
       "...          ...              ...         ...         ...              ...   \n",
       "149063         3          Astoria          79        3.75           Bakery   \n",
       "149093         8   Hell's Kitchen          72        3.25           Bakery   \n",
       "149096         3          Astoria          72        3.25           Bakery   \n",
       "149101         8   Hell's Kitchen          75        3.50           Bakery   \n",
       "149108         3          Astoria          70        3.25           Bakery   \n",
       "\n",
       "       product_type           product_detail  \n",
       "5             Scone            Oatmeal Scone  \n",
       "16            Scone       Jumbo Savory Scone  \n",
       "22         Biscotti        Hazelnut Biscotti  \n",
       "26         Biscotti  Chocolate Chip Biscotti  \n",
       "28           Pastry      Chocolate Croissant  \n",
       "...             ...                      ...  \n",
       "149063        Scone       Jumbo Savory Scone  \n",
       "149093        Scone             Ginger Scone  \n",
       "149096        Scone             Ginger Scone  \n",
       "149101       Pastry                Croissant  \n",
       "149108        Scone          Cranberry Scone  \n",
       "\n",
       "[22796 rows x 11 columns]"
      ]
     },
     "execution_count": 28,
     "metadata": {},
     "output_type": "execute_result"
    }
   ],
   "source": [
    "coffee_df[coffee_df['product_category'] == 'Bakery']"
   ]
  },
  {
   "cell_type": "code",
   "execution_count": 29,
   "id": "d78f2260-f311-46f8-979a-9537940b966c",
   "metadata": {},
   "outputs": [
    {
     "data": {
      "text/plain": [
       "product_type\n",
       "Scone       10173\n",
       "Pastry       6912\n",
       "Biscotti     5711\n",
       "Name: count, dtype: int64"
      ]
     },
     "execution_count": 29,
     "metadata": {},
     "output_type": "execute_result"
    }
   ],
   "source": [
    "coffee_df[coffee_df['product_category'] == 'Bakery']['product_type'].value_counts()"
   ]
  },
  {
   "cell_type": "code",
   "execution_count": 30,
   "id": "6a37a91f-644f-4058-b0fc-293e96b1207e",
   "metadata": {},
   "outputs": [
    {
     "data": {
      "text/plain": [
       "product_id\n",
       "71    3076\n",
       "72    2324\n",
       "70    2077\n",
       "69    2009\n",
       "79    2008\n",
       "78    1952\n",
       "75    1933\n",
       "73    1903\n",
       "76    1891\n",
       "77    1812\n",
       "74    1811\n",
       "Name: count, dtype: int64"
      ]
     },
     "execution_count": 30,
     "metadata": {},
     "output_type": "execute_result"
    }
   ],
   "source": [
    "coffee_df[coffee_df['product_category'] == 'Bakery']['product_id'].value_counts()\n"
   ]
  },
  {
   "cell_type": "code",
   "execution_count": 31,
   "id": "5e9e6cf4-fcff-41c7-af01-e340bb639a1e",
   "metadata": {},
   "outputs": [
    {
     "data": {
      "text/plain": [
       "product_detail\n",
       "Chocolate Croissant        3076\n",
       "Ginger Scone               2324\n",
       "Cranberry Scone            2077\n",
       "Hazelnut Biscotti          2009\n",
       "Jumbo Savory Scone         2008\n",
       "Scottish Cream Scone       1952\n",
       "Croissant                  1933\n",
       "Almond Croissant           1903\n",
       "Chocolate Chip Biscotti    1891\n",
       "Oatmeal Scone              1812\n",
       "Ginger Biscotti            1811\n",
       "Name: count, dtype: int64"
      ]
     },
     "execution_count": 31,
     "metadata": {},
     "output_type": "execute_result"
    }
   ],
   "source": [
    "coffee_df[coffee_df['product_category'] == 'Bakery']['product_detail'].value_counts()\n"
   ]
  },
  {
   "cell_type": "code",
   "execution_count": 32,
   "id": "9cc9a823-06ca-4855-8430-3218dcc7e32d",
   "metadata": {},
   "outputs": [
    {
     "data": {
      "text/html": [
       "<div>\n",
       "<style scoped>\n",
       "    .dataframe tbody tr th:only-of-type {\n",
       "        vertical-align: middle;\n",
       "    }\n",
       "\n",
       "    .dataframe tbody tr th {\n",
       "        vertical-align: top;\n",
       "    }\n",
       "\n",
       "    .dataframe thead th {\n",
       "        text-align: right;\n",
       "    }\n",
       "</style>\n",
       "<table border=\"1\" class=\"dataframe\">\n",
       "  <thead>\n",
       "    <tr style=\"text-align: right;\">\n",
       "      <th></th>\n",
       "      <th>transaction_id</th>\n",
       "      <th>transaction_date</th>\n",
       "      <th>transaction_time</th>\n",
       "      <th>transaction_qty</th>\n",
       "      <th>store_id</th>\n",
       "      <th>store_location</th>\n",
       "      <th>product_id</th>\n",
       "      <th>unit_price</th>\n",
       "      <th>product_category</th>\n",
       "      <th>product_type</th>\n",
       "      <th>product_detail</th>\n",
       "    </tr>\n",
       "  </thead>\n",
       "  <tbody>\n",
       "    <tr>\n",
       "      <th>2</th>\n",
       "      <td>3</td>\n",
       "      <td>2023-01-01</td>\n",
       "      <td>07:14:04</td>\n",
       "      <td>2</td>\n",
       "      <td>5</td>\n",
       "      <td>Lower Manhattan</td>\n",
       "      <td>59</td>\n",
       "      <td>4.50</td>\n",
       "      <td>Drinking Chocolate</td>\n",
       "      <td>Hot chocolate</td>\n",
       "      <td>Dark chocolate Lg</td>\n",
       "    </tr>\n",
       "    <tr>\n",
       "      <th>9</th>\n",
       "      <td>10</td>\n",
       "      <td>2023-01-01</td>\n",
       "      <td>07:39:34</td>\n",
       "      <td>2</td>\n",
       "      <td>5</td>\n",
       "      <td>Lower Manhattan</td>\n",
       "      <td>58</td>\n",
       "      <td>3.50</td>\n",
       "      <td>Drinking Chocolate</td>\n",
       "      <td>Hot chocolate</td>\n",
       "      <td>Dark chocolate Rg</td>\n",
       "    </tr>\n",
       "    <tr>\n",
       "      <th>18</th>\n",
       "      <td>19</td>\n",
       "      <td>2023-01-01</td>\n",
       "      <td>08:00:39</td>\n",
       "      <td>2</td>\n",
       "      <td>8</td>\n",
       "      <td>Hell's Kitchen</td>\n",
       "      <td>59</td>\n",
       "      <td>4.50</td>\n",
       "      <td>Drinking Chocolate</td>\n",
       "      <td>Hot chocolate</td>\n",
       "      <td>Dark chocolate Lg</td>\n",
       "    </tr>\n",
       "    <tr>\n",
       "      <th>19</th>\n",
       "      <td>20</td>\n",
       "      <td>2023-01-01</td>\n",
       "      <td>08:11:45</td>\n",
       "      <td>1</td>\n",
       "      <td>8</td>\n",
       "      <td>Hell's Kitchen</td>\n",
       "      <td>61</td>\n",
       "      <td>4.75</td>\n",
       "      <td>Drinking Chocolate</td>\n",
       "      <td>Hot chocolate</td>\n",
       "      <td>Sustainably Grown Organic Lg</td>\n",
       "    </tr>\n",
       "    <tr>\n",
       "      <th>41</th>\n",
       "      <td>42</td>\n",
       "      <td>2023-01-01</td>\n",
       "      <td>09:10:30</td>\n",
       "      <td>2</td>\n",
       "      <td>5</td>\n",
       "      <td>Lower Manhattan</td>\n",
       "      <td>60</td>\n",
       "      <td>3.75</td>\n",
       "      <td>Drinking Chocolate</td>\n",
       "      <td>Hot chocolate</td>\n",
       "      <td>Sustainably Grown Organic Rg</td>\n",
       "    </tr>\n",
       "    <tr>\n",
       "      <th>...</th>\n",
       "      <td>...</td>\n",
       "      <td>...</td>\n",
       "      <td>...</td>\n",
       "      <td>...</td>\n",
       "      <td>...</td>\n",
       "      <td>...</td>\n",
       "      <td>...</td>\n",
       "      <td>...</td>\n",
       "      <td>...</td>\n",
       "      <td>...</td>\n",
       "      <td>...</td>\n",
       "    </tr>\n",
       "    <tr>\n",
       "      <th>149060</th>\n",
       "      <td>149401</td>\n",
       "      <td>2023-06-30</td>\n",
       "      <td>18:44:49</td>\n",
       "      <td>1</td>\n",
       "      <td>3</td>\n",
       "      <td>Astoria</td>\n",
       "      <td>59</td>\n",
       "      <td>4.50</td>\n",
       "      <td>Drinking Chocolate</td>\n",
       "      <td>Hot chocolate</td>\n",
       "      <td>Dark chocolate Lg</td>\n",
       "    </tr>\n",
       "    <tr>\n",
       "      <th>149071</th>\n",
       "      <td>149412</td>\n",
       "      <td>2023-06-30</td>\n",
       "      <td>19:04:03</td>\n",
       "      <td>2</td>\n",
       "      <td>8</td>\n",
       "      <td>Hell's Kitchen</td>\n",
       "      <td>60</td>\n",
       "      <td>3.75</td>\n",
       "      <td>Drinking Chocolate</td>\n",
       "      <td>Hot chocolate</td>\n",
       "      <td>Sustainably Grown Organic Rg</td>\n",
       "    </tr>\n",
       "    <tr>\n",
       "      <th>149075</th>\n",
       "      <td>149416</td>\n",
       "      <td>2023-06-30</td>\n",
       "      <td>19:10:03</td>\n",
       "      <td>2</td>\n",
       "      <td>3</td>\n",
       "      <td>Astoria</td>\n",
       "      <td>59</td>\n",
       "      <td>4.50</td>\n",
       "      <td>Drinking Chocolate</td>\n",
       "      <td>Hot chocolate</td>\n",
       "      <td>Dark chocolate Lg</td>\n",
       "    </tr>\n",
       "    <tr>\n",
       "      <th>149094</th>\n",
       "      <td>149435</td>\n",
       "      <td>2023-06-30</td>\n",
       "      <td>19:40:09</td>\n",
       "      <td>2</td>\n",
       "      <td>5</td>\n",
       "      <td>Lower Manhattan</td>\n",
       "      <td>58</td>\n",
       "      <td>3.50</td>\n",
       "      <td>Drinking Chocolate</td>\n",
       "      <td>Hot chocolate</td>\n",
       "      <td>Dark chocolate Rg</td>\n",
       "    </tr>\n",
       "    <tr>\n",
       "      <th>149095</th>\n",
       "      <td>149436</td>\n",
       "      <td>2023-06-30</td>\n",
       "      <td>19:44:46</td>\n",
       "      <td>1</td>\n",
       "      <td>3</td>\n",
       "      <td>Astoria</td>\n",
       "      <td>60</td>\n",
       "      <td>3.75</td>\n",
       "      <td>Drinking Chocolate</td>\n",
       "      <td>Hot chocolate</td>\n",
       "      <td>Sustainably Grown Organic Rg</td>\n",
       "    </tr>\n",
       "  </tbody>\n",
       "</table>\n",
       "<p>11468 rows × 11 columns</p>\n",
       "</div>"
      ],
      "text/plain": [
       "        transaction_id transaction_date transaction_time  transaction_qty  \\\n",
       "2                    3       2023-01-01         07:14:04                2   \n",
       "9                   10       2023-01-01         07:39:34                2   \n",
       "18                  19       2023-01-01         08:00:39                2   \n",
       "19                  20       2023-01-01         08:11:45                1   \n",
       "41                  42       2023-01-01         09:10:30                2   \n",
       "...                ...              ...              ...              ...   \n",
       "149060          149401       2023-06-30         18:44:49                1   \n",
       "149071          149412       2023-06-30         19:04:03                2   \n",
       "149075          149416       2023-06-30         19:10:03                2   \n",
       "149094          149435       2023-06-30         19:40:09                2   \n",
       "149095          149436       2023-06-30         19:44:46                1   \n",
       "\n",
       "        store_id   store_location  product_id  unit_price    product_category  \\\n",
       "2              5  Lower Manhattan          59        4.50  Drinking Chocolate   \n",
       "9              5  Lower Manhattan          58        3.50  Drinking Chocolate   \n",
       "18             8   Hell's Kitchen          59        4.50  Drinking Chocolate   \n",
       "19             8   Hell's Kitchen          61        4.75  Drinking Chocolate   \n",
       "41             5  Lower Manhattan          60        3.75  Drinking Chocolate   \n",
       "...          ...              ...         ...         ...                 ...   \n",
       "149060         3          Astoria          59        4.50  Drinking Chocolate   \n",
       "149071         8   Hell's Kitchen          60        3.75  Drinking Chocolate   \n",
       "149075         3          Astoria          59        4.50  Drinking Chocolate   \n",
       "149094         5  Lower Manhattan          58        3.50  Drinking Chocolate   \n",
       "149095         3          Astoria          60        3.75  Drinking Chocolate   \n",
       "\n",
       "         product_type                product_detail  \n",
       "2       Hot chocolate             Dark chocolate Lg  \n",
       "9       Hot chocolate             Dark chocolate Rg  \n",
       "18      Hot chocolate             Dark chocolate Lg  \n",
       "19      Hot chocolate  Sustainably Grown Organic Lg  \n",
       "41      Hot chocolate  Sustainably Grown Organic Rg  \n",
       "...               ...                           ...  \n",
       "149060  Hot chocolate             Dark chocolate Lg  \n",
       "149071  Hot chocolate  Sustainably Grown Organic Rg  \n",
       "149075  Hot chocolate             Dark chocolate Lg  \n",
       "149094  Hot chocolate             Dark chocolate Rg  \n",
       "149095  Hot chocolate  Sustainably Grown Organic Rg  \n",
       "\n",
       "[11468 rows x 11 columns]"
      ]
     },
     "execution_count": 32,
     "metadata": {},
     "output_type": "execute_result"
    }
   ],
   "source": [
    "coffee_df[coffee_df['product_category'] == 'Drinking Chocolate']"
   ]
  },
  {
   "cell_type": "code",
   "execution_count": 33,
   "id": "8500a5e9-2a9f-471c-a682-f68d16dc2442",
   "metadata": {},
   "outputs": [
    {
     "data": {
      "text/plain": [
       "product_type\n",
       "Hot chocolate    11468\n",
       "Name: count, dtype: int64"
      ]
     },
     "execution_count": 33,
     "metadata": {},
     "output_type": "execute_result"
    }
   ],
   "source": [
    "coffee_df[coffee_df['product_category'] == 'Drinking Chocolate']['product_type'].value_counts()"
   ]
  },
  {
   "cell_type": "code",
   "execution_count": 34,
   "id": "62f7afd5-c1d7-4274-8d1d-08b207119cea",
   "metadata": {},
   "outputs": [
    {
     "data": {
      "text/plain": [
       "product_id\n",
       "59    3029\n",
       "61    2961\n",
       "60    2842\n",
       "58    2636\n",
       "Name: count, dtype: int64"
      ]
     },
     "execution_count": 34,
     "metadata": {},
     "output_type": "execute_result"
    }
   ],
   "source": [
    "coffee_df[coffee_df['product_category'] == 'Drinking Chocolate']['product_id'].value_counts()\n"
   ]
  },
  {
   "cell_type": "code",
   "execution_count": 35,
   "id": "5e910eba-24c6-4875-86c0-b3e343caf453",
   "metadata": {},
   "outputs": [
    {
     "data": {
      "text/plain": [
       "product_detail\n",
       "Dark chocolate Lg               3029\n",
       "Sustainably Grown Organic Lg    2961\n",
       "Sustainably Grown Organic Rg    2842\n",
       "Dark chocolate Rg               2636\n",
       "Name: count, dtype: int64"
      ]
     },
     "execution_count": 35,
     "metadata": {},
     "output_type": "execute_result"
    }
   ],
   "source": [
    "coffee_df[coffee_df['product_category'] == 'Drinking Chocolate']['product_detail'].value_counts()\n"
   ]
  },
  {
   "cell_type": "code",
   "execution_count": 36,
   "id": "280d46f6-4265-4842-be80-55acbea05a22",
   "metadata": {},
   "outputs": [
    {
     "data": {
      "text/html": [
       "<div>\n",
       "<style scoped>\n",
       "    .dataframe tbody tr th:only-of-type {\n",
       "        vertical-align: middle;\n",
       "    }\n",
       "\n",
       "    .dataframe tbody tr th {\n",
       "        vertical-align: top;\n",
       "    }\n",
       "\n",
       "    .dataframe thead th {\n",
       "        text-align: right;\n",
       "    }\n",
       "</style>\n",
       "<table border=\"1\" class=\"dataframe\">\n",
       "  <thead>\n",
       "    <tr style=\"text-align: right;\">\n",
       "      <th></th>\n",
       "      <th>transaction_id</th>\n",
       "      <th>transaction_date</th>\n",
       "      <th>transaction_time</th>\n",
       "      <th>transaction_qty</th>\n",
       "      <th>store_id</th>\n",
       "      <th>store_location</th>\n",
       "      <th>product_id</th>\n",
       "      <th>unit_price</th>\n",
       "      <th>product_category</th>\n",
       "      <th>product_type</th>\n",
       "      <th>product_detail</th>\n",
       "    </tr>\n",
       "  </thead>\n",
       "  <tbody>\n",
       "    <tr>\n",
       "      <th>3254</th>\n",
       "      <td>3284</td>\n",
       "      <td>2023-01-07</td>\n",
       "      <td>06:27:23</td>\n",
       "      <td>2</td>\n",
       "      <td>5</td>\n",
       "      <td>Lower Manhattan</td>\n",
       "      <td>64</td>\n",
       "      <td>0.8</td>\n",
       "      <td>Flavours</td>\n",
       "      <td>Regular syrup</td>\n",
       "      <td>Hazelnut syrup</td>\n",
       "    </tr>\n",
       "    <tr>\n",
       "      <th>3291</th>\n",
       "      <td>3321</td>\n",
       "      <td>2023-01-07</td>\n",
       "      <td>07:44:17</td>\n",
       "      <td>1</td>\n",
       "      <td>5</td>\n",
       "      <td>Lower Manhattan</td>\n",
       "      <td>63</td>\n",
       "      <td>0.8</td>\n",
       "      <td>Flavours</td>\n",
       "      <td>Regular syrup</td>\n",
       "      <td>Carmel syrup</td>\n",
       "    </tr>\n",
       "    <tr>\n",
       "      <th>3318</th>\n",
       "      <td>3348</td>\n",
       "      <td>2023-01-07</td>\n",
       "      <td>08:09:37</td>\n",
       "      <td>1</td>\n",
       "      <td>8</td>\n",
       "      <td>Hell's Kitchen</td>\n",
       "      <td>65</td>\n",
       "      <td>0.8</td>\n",
       "      <td>Flavours</td>\n",
       "      <td>Sugar free syrup</td>\n",
       "      <td>Sugar Free Vanilla syrup</td>\n",
       "    </tr>\n",
       "    <tr>\n",
       "      <th>3325</th>\n",
       "      <td>3355</td>\n",
       "      <td>2023-01-07</td>\n",
       "      <td>08:18:07</td>\n",
       "      <td>1</td>\n",
       "      <td>5</td>\n",
       "      <td>Lower Manhattan</td>\n",
       "      <td>65</td>\n",
       "      <td>0.8</td>\n",
       "      <td>Flavours</td>\n",
       "      <td>Sugar free syrup</td>\n",
       "      <td>Sugar Free Vanilla syrup</td>\n",
       "    </tr>\n",
       "    <tr>\n",
       "      <th>3331</th>\n",
       "      <td>3361</td>\n",
       "      <td>2023-01-07</td>\n",
       "      <td>08:20:30</td>\n",
       "      <td>1</td>\n",
       "      <td>5</td>\n",
       "      <td>Lower Manhattan</td>\n",
       "      <td>64</td>\n",
       "      <td>0.8</td>\n",
       "      <td>Flavours</td>\n",
       "      <td>Regular syrup</td>\n",
       "      <td>Hazelnut syrup</td>\n",
       "    </tr>\n",
       "    <tr>\n",
       "      <th>...</th>\n",
       "      <td>...</td>\n",
       "      <td>...</td>\n",
       "      <td>...</td>\n",
       "      <td>...</td>\n",
       "      <td>...</td>\n",
       "      <td>...</td>\n",
       "      <td>...</td>\n",
       "      <td>...</td>\n",
       "      <td>...</td>\n",
       "      <td>...</td>\n",
       "      <td>...</td>\n",
       "    </tr>\n",
       "    <tr>\n",
       "      <th>148994</th>\n",
       "      <td>149335</td>\n",
       "      <td>2023-06-30</td>\n",
       "      <td>17:33:45</td>\n",
       "      <td>1</td>\n",
       "      <td>8</td>\n",
       "      <td>Hell's Kitchen</td>\n",
       "      <td>63</td>\n",
       "      <td>0.8</td>\n",
       "      <td>Flavours</td>\n",
       "      <td>Regular syrup</td>\n",
       "      <td>Carmel syrup</td>\n",
       "    </tr>\n",
       "    <tr>\n",
       "      <th>149013</th>\n",
       "      <td>149354</td>\n",
       "      <td>2023-06-30</td>\n",
       "      <td>17:59:31</td>\n",
       "      <td>2</td>\n",
       "      <td>5</td>\n",
       "      <td>Lower Manhattan</td>\n",
       "      <td>63</td>\n",
       "      <td>0.8</td>\n",
       "      <td>Flavours</td>\n",
       "      <td>Regular syrup</td>\n",
       "      <td>Carmel syrup</td>\n",
       "    </tr>\n",
       "    <tr>\n",
       "      <th>149031</th>\n",
       "      <td>149372</td>\n",
       "      <td>2023-06-30</td>\n",
       "      <td>18:11:40</td>\n",
       "      <td>1</td>\n",
       "      <td>3</td>\n",
       "      <td>Astoria</td>\n",
       "      <td>84</td>\n",
       "      <td>0.8</td>\n",
       "      <td>Flavours</td>\n",
       "      <td>Regular syrup</td>\n",
       "      <td>Chocolate syrup</td>\n",
       "    </tr>\n",
       "    <tr>\n",
       "      <th>149059</th>\n",
       "      <td>149400</td>\n",
       "      <td>2023-06-30</td>\n",
       "      <td>18:44:37</td>\n",
       "      <td>2</td>\n",
       "      <td>3</td>\n",
       "      <td>Astoria</td>\n",
       "      <td>65</td>\n",
       "      <td>0.8</td>\n",
       "      <td>Flavours</td>\n",
       "      <td>Sugar free syrup</td>\n",
       "      <td>Sugar Free Vanilla syrup</td>\n",
       "    </tr>\n",
       "    <tr>\n",
       "      <th>149115</th>\n",
       "      <td>149456</td>\n",
       "      <td>2023-06-30</td>\n",
       "      <td>20:57:19</td>\n",
       "      <td>2</td>\n",
       "      <td>8</td>\n",
       "      <td>Hell's Kitchen</td>\n",
       "      <td>64</td>\n",
       "      <td>0.8</td>\n",
       "      <td>Flavours</td>\n",
       "      <td>Regular syrup</td>\n",
       "      <td>Hazelnut syrup</td>\n",
       "    </tr>\n",
       "  </tbody>\n",
       "</table>\n",
       "<p>6790 rows × 11 columns</p>\n",
       "</div>"
      ],
      "text/plain": [
       "        transaction_id transaction_date transaction_time  transaction_qty  \\\n",
       "3254              3284       2023-01-07         06:27:23                2   \n",
       "3291              3321       2023-01-07         07:44:17                1   \n",
       "3318              3348       2023-01-07         08:09:37                1   \n",
       "3325              3355       2023-01-07         08:18:07                1   \n",
       "3331              3361       2023-01-07         08:20:30                1   \n",
       "...                ...              ...              ...              ...   \n",
       "148994          149335       2023-06-30         17:33:45                1   \n",
       "149013          149354       2023-06-30         17:59:31                2   \n",
       "149031          149372       2023-06-30         18:11:40                1   \n",
       "149059          149400       2023-06-30         18:44:37                2   \n",
       "149115          149456       2023-06-30         20:57:19                2   \n",
       "\n",
       "        store_id   store_location  product_id  unit_price product_category  \\\n",
       "3254           5  Lower Manhattan          64         0.8         Flavours   \n",
       "3291           5  Lower Manhattan          63         0.8         Flavours   \n",
       "3318           8   Hell's Kitchen          65         0.8         Flavours   \n",
       "3325           5  Lower Manhattan          65         0.8         Flavours   \n",
       "3331           5  Lower Manhattan          64         0.8         Flavours   \n",
       "...          ...              ...         ...         ...              ...   \n",
       "148994         8   Hell's Kitchen          63         0.8         Flavours   \n",
       "149013         5  Lower Manhattan          63         0.8         Flavours   \n",
       "149031         3          Astoria          84         0.8         Flavours   \n",
       "149059         3          Astoria          65         0.8         Flavours   \n",
       "149115         8   Hell's Kitchen          64         0.8         Flavours   \n",
       "\n",
       "            product_type            product_detail  \n",
       "3254       Regular syrup            Hazelnut syrup  \n",
       "3291       Regular syrup              Carmel syrup  \n",
       "3318    Sugar free syrup  Sugar Free Vanilla syrup  \n",
       "3325    Sugar free syrup  Sugar Free Vanilla syrup  \n",
       "3331       Regular syrup            Hazelnut syrup  \n",
       "...                  ...                       ...  \n",
       "148994     Regular syrup              Carmel syrup  \n",
       "149013     Regular syrup              Carmel syrup  \n",
       "149031     Regular syrup           Chocolate syrup  \n",
       "149059  Sugar free syrup  Sugar Free Vanilla syrup  \n",
       "149115     Regular syrup            Hazelnut syrup  \n",
       "\n",
       "[6790 rows x 11 columns]"
      ]
     },
     "execution_count": 36,
     "metadata": {},
     "output_type": "execute_result"
    }
   ],
   "source": [
    "coffee_df[coffee_df['product_category'] == 'Flavours'] #IDK IF WE WILL DELETE IT OR NOT"
   ]
  },
  {
   "cell_type": "code",
   "execution_count": 37,
   "id": "61b884df-7477-48bf-bc21-fd2259b28965",
   "metadata": {},
   "outputs": [
    {
     "data": {
      "text/html": [
       "<div>\n",
       "<style scoped>\n",
       "    .dataframe tbody tr th:only-of-type {\n",
       "        vertical-align: middle;\n",
       "    }\n",
       "\n",
       "    .dataframe tbody tr th {\n",
       "        vertical-align: top;\n",
       "    }\n",
       "\n",
       "    .dataframe thead th {\n",
       "        text-align: right;\n",
       "    }\n",
       "</style>\n",
       "<table border=\"1\" class=\"dataframe\">\n",
       "  <thead>\n",
       "    <tr style=\"text-align: right;\">\n",
       "      <th></th>\n",
       "      <th>transaction_id</th>\n",
       "      <th>transaction_date</th>\n",
       "      <th>transaction_time</th>\n",
       "      <th>transaction_qty</th>\n",
       "      <th>store_id</th>\n",
       "      <th>store_location</th>\n",
       "      <th>product_id</th>\n",
       "      <th>unit_price</th>\n",
       "      <th>product_category</th>\n",
       "      <th>product_type</th>\n",
       "      <th>product_detail</th>\n",
       "    </tr>\n",
       "  </thead>\n",
       "  <tbody>\n",
       "    <tr>\n",
       "      <th>3293</th>\n",
       "      <td>3323</td>\n",
       "      <td>2023-01-07</td>\n",
       "      <td>07:44:17</td>\n",
       "      <td>1</td>\n",
       "      <td>5</td>\n",
       "      <td>Lower Manhattan</td>\n",
       "      <td>6</td>\n",
       "      <td>21.00</td>\n",
       "      <td>Coffee beans</td>\n",
       "      <td>Gourmet Beans</td>\n",
       "      <td>Ethiopia</td>\n",
       "    </tr>\n",
       "    <tr>\n",
       "      <th>3296</th>\n",
       "      <td>3326</td>\n",
       "      <td>2023-01-07</td>\n",
       "      <td>07:45:15</td>\n",
       "      <td>1</td>\n",
       "      <td>5</td>\n",
       "      <td>Lower Manhattan</td>\n",
       "      <td>9</td>\n",
       "      <td>28.00</td>\n",
       "      <td>Coffee beans</td>\n",
       "      <td>Organic Beans</td>\n",
       "      <td>Organic Decaf Blend</td>\n",
       "    </tr>\n",
       "    <tr>\n",
       "      <th>3302</th>\n",
       "      <td>3332</td>\n",
       "      <td>2023-01-07</td>\n",
       "      <td>07:50:42</td>\n",
       "      <td>1</td>\n",
       "      <td>5</td>\n",
       "      <td>Lower Manhattan</td>\n",
       "      <td>9</td>\n",
       "      <td>28.00</td>\n",
       "      <td>Coffee beans</td>\n",
       "      <td>Organic Beans</td>\n",
       "      <td>Organic Decaf Blend</td>\n",
       "    </tr>\n",
       "    <tr>\n",
       "      <th>3408</th>\n",
       "      <td>3438</td>\n",
       "      <td>2023-01-07</td>\n",
       "      <td>09:05:19</td>\n",
       "      <td>1</td>\n",
       "      <td>5</td>\n",
       "      <td>Lower Manhattan</td>\n",
       "      <td>9</td>\n",
       "      <td>28.00</td>\n",
       "      <td>Coffee beans</td>\n",
       "      <td>Organic Beans</td>\n",
       "      <td>Organic Decaf Blend</td>\n",
       "    </tr>\n",
       "    <tr>\n",
       "      <th>3447</th>\n",
       "      <td>3477</td>\n",
       "      <td>2023-01-07</td>\n",
       "      <td>09:42:52</td>\n",
       "      <td>1</td>\n",
       "      <td>5</td>\n",
       "      <td>Lower Manhattan</td>\n",
       "      <td>7</td>\n",
       "      <td>19.75</td>\n",
       "      <td>Coffee beans</td>\n",
       "      <td>Premium Beans</td>\n",
       "      <td>Jamacian Coffee River</td>\n",
       "    </tr>\n",
       "    <tr>\n",
       "      <th>...</th>\n",
       "      <td>...</td>\n",
       "      <td>...</td>\n",
       "      <td>...</td>\n",
       "      <td>...</td>\n",
       "      <td>...</td>\n",
       "      <td>...</td>\n",
       "      <td>...</td>\n",
       "      <td>...</td>\n",
       "      <td>...</td>\n",
       "      <td>...</td>\n",
       "      <td>...</td>\n",
       "    </tr>\n",
       "    <tr>\n",
       "      <th>148739</th>\n",
       "      <td>149080</td>\n",
       "      <td>2023-06-30</td>\n",
       "      <td>11:42:44</td>\n",
       "      <td>1</td>\n",
       "      <td>5</td>\n",
       "      <td>Lower Manhattan</td>\n",
       "      <td>2</td>\n",
       "      <td>18.00</td>\n",
       "      <td>Coffee beans</td>\n",
       "      <td>House blend Beans</td>\n",
       "      <td>Our Old Time Diner Blend</td>\n",
       "    </tr>\n",
       "    <tr>\n",
       "      <th>148784</th>\n",
       "      <td>149125</td>\n",
       "      <td>2023-06-30</td>\n",
       "      <td>13:03:56</td>\n",
       "      <td>1</td>\n",
       "      <td>5</td>\n",
       "      <td>Lower Manhattan</td>\n",
       "      <td>8</td>\n",
       "      <td>45.00</td>\n",
       "      <td>Coffee beans</td>\n",
       "      <td>Premium Beans</td>\n",
       "      <td>Civet Cat</td>\n",
       "    </tr>\n",
       "    <tr>\n",
       "      <th>148927</th>\n",
       "      <td>149268</td>\n",
       "      <td>2023-06-30</td>\n",
       "      <td>15:59:13</td>\n",
       "      <td>1</td>\n",
       "      <td>3</td>\n",
       "      <td>Astoria</td>\n",
       "      <td>7</td>\n",
       "      <td>19.75</td>\n",
       "      <td>Coffee beans</td>\n",
       "      <td>Premium Beans</td>\n",
       "      <td>Jamacian Coffee River</td>\n",
       "    </tr>\n",
       "    <tr>\n",
       "      <th>149064</th>\n",
       "      <td>149405</td>\n",
       "      <td>2023-06-30</td>\n",
       "      <td>18:49:29</td>\n",
       "      <td>1</td>\n",
       "      <td>3</td>\n",
       "      <td>Astoria</td>\n",
       "      <td>3</td>\n",
       "      <td>14.75</td>\n",
       "      <td>Coffee beans</td>\n",
       "      <td>Espresso Beans</td>\n",
       "      <td>Espresso Roast</td>\n",
       "    </tr>\n",
       "    <tr>\n",
       "      <th>149089</th>\n",
       "      <td>149430</td>\n",
       "      <td>2023-06-30</td>\n",
       "      <td>19:32:46</td>\n",
       "      <td>1</td>\n",
       "      <td>8</td>\n",
       "      <td>Hell's Kitchen</td>\n",
       "      <td>1</td>\n",
       "      <td>18.00</td>\n",
       "      <td>Coffee beans</td>\n",
       "      <td>Organic Beans</td>\n",
       "      <td>Brazilian - Organic</td>\n",
       "    </tr>\n",
       "  </tbody>\n",
       "</table>\n",
       "<p>1753 rows × 11 columns</p>\n",
       "</div>"
      ],
      "text/plain": [
       "        transaction_id transaction_date transaction_time  transaction_qty  \\\n",
       "3293              3323       2023-01-07         07:44:17                1   \n",
       "3296              3326       2023-01-07         07:45:15                1   \n",
       "3302              3332       2023-01-07         07:50:42                1   \n",
       "3408              3438       2023-01-07         09:05:19                1   \n",
       "3447              3477       2023-01-07         09:42:52                1   \n",
       "...                ...              ...              ...              ...   \n",
       "148739          149080       2023-06-30         11:42:44                1   \n",
       "148784          149125       2023-06-30         13:03:56                1   \n",
       "148927          149268       2023-06-30         15:59:13                1   \n",
       "149064          149405       2023-06-30         18:49:29                1   \n",
       "149089          149430       2023-06-30         19:32:46                1   \n",
       "\n",
       "        store_id   store_location  product_id  unit_price product_category  \\\n",
       "3293           5  Lower Manhattan           6       21.00     Coffee beans   \n",
       "3296           5  Lower Manhattan           9       28.00     Coffee beans   \n",
       "3302           5  Lower Manhattan           9       28.00     Coffee beans   \n",
       "3408           5  Lower Manhattan           9       28.00     Coffee beans   \n",
       "3447           5  Lower Manhattan           7       19.75     Coffee beans   \n",
       "...          ...              ...         ...         ...              ...   \n",
       "148739         5  Lower Manhattan           2       18.00     Coffee beans   \n",
       "148784         5  Lower Manhattan           8       45.00     Coffee beans   \n",
       "148927         3          Astoria           7       19.75     Coffee beans   \n",
       "149064         3          Astoria           3       14.75     Coffee beans   \n",
       "149089         8   Hell's Kitchen           1       18.00     Coffee beans   \n",
       "\n",
       "             product_type            product_detail  \n",
       "3293        Gourmet Beans                  Ethiopia  \n",
       "3296        Organic Beans       Organic Decaf Blend  \n",
       "3302        Organic Beans       Organic Decaf Blend  \n",
       "3408        Organic Beans       Organic Decaf Blend  \n",
       "3447        Premium Beans     Jamacian Coffee River  \n",
       "...                   ...                       ...  \n",
       "148739  House blend Beans  Our Old Time Diner Blend  \n",
       "148784      Premium Beans                 Civet Cat  \n",
       "148927      Premium Beans     Jamacian Coffee River  \n",
       "149064     Espresso Beans            Espresso Roast  \n",
       "149089      Organic Beans       Brazilian - Organic  \n",
       "\n",
       "[1753 rows x 11 columns]"
      ]
     },
     "execution_count": 37,
     "metadata": {},
     "output_type": "execute_result"
    }
   ],
   "source": [
    "coffee_df[coffee_df['product_category'] == 'Coffee beans'] #IDK IF WE WILL DELETE IT OR NOT"
   ]
  },
  {
   "cell_type": "code",
   "execution_count": 38,
   "id": "d3f7df75-52b5-487b-880f-80bde65aaa0b",
   "metadata": {},
   "outputs": [
    {
     "data": {
      "text/html": [
       "<div>\n",
       "<style scoped>\n",
       "    .dataframe tbody tr th:only-of-type {\n",
       "        vertical-align: middle;\n",
       "    }\n",
       "\n",
       "    .dataframe tbody tr th {\n",
       "        vertical-align: top;\n",
       "    }\n",
       "\n",
       "    .dataframe thead th {\n",
       "        text-align: right;\n",
       "    }\n",
       "</style>\n",
       "<table border=\"1\" class=\"dataframe\">\n",
       "  <thead>\n",
       "    <tr style=\"text-align: right;\">\n",
       "      <th></th>\n",
       "      <th>transaction_id</th>\n",
       "      <th>transaction_date</th>\n",
       "      <th>transaction_time</th>\n",
       "      <th>transaction_qty</th>\n",
       "      <th>store_id</th>\n",
       "      <th>store_location</th>\n",
       "      <th>product_id</th>\n",
       "      <th>unit_price</th>\n",
       "      <th>product_category</th>\n",
       "      <th>product_type</th>\n",
       "      <th>product_detail</th>\n",
       "    </tr>\n",
       "  </thead>\n",
       "  <tbody>\n",
       "    <tr>\n",
       "      <th>3263</th>\n",
       "      <td>3293</td>\n",
       "      <td>2023-01-07</td>\n",
       "      <td>07:07:56</td>\n",
       "      <td>1</td>\n",
       "      <td>5</td>\n",
       "      <td>Lower Manhattan</td>\n",
       "      <td>12</td>\n",
       "      <td>8.95</td>\n",
       "      <td>Loose Tea</td>\n",
       "      <td>Herbal tea</td>\n",
       "      <td>Peppermint</td>\n",
       "    </tr>\n",
       "    <tr>\n",
       "      <th>3481</th>\n",
       "      <td>3511</td>\n",
       "      <td>2023-01-07</td>\n",
       "      <td>10:10:10</td>\n",
       "      <td>1</td>\n",
       "      <td>8</td>\n",
       "      <td>Hell's Kitchen</td>\n",
       "      <td>17</td>\n",
       "      <td>9.50</td>\n",
       "      <td>Loose Tea</td>\n",
       "      <td>Chai tea</td>\n",
       "      <td>Morning Sunrise Chai</td>\n",
       "    </tr>\n",
       "    <tr>\n",
       "      <th>3880</th>\n",
       "      <td>3910</td>\n",
       "      <td>2023-01-08</td>\n",
       "      <td>08:13:57</td>\n",
       "      <td>1</td>\n",
       "      <td>3</td>\n",
       "      <td>Astoria</td>\n",
       "      <td>15</td>\n",
       "      <td>9.25</td>\n",
       "      <td>Loose Tea</td>\n",
       "      <td>Green tea</td>\n",
       "      <td>Serenity Green Tea</td>\n",
       "    </tr>\n",
       "    <tr>\n",
       "      <th>3896</th>\n",
       "      <td>3926</td>\n",
       "      <td>2023-01-08</td>\n",
       "      <td>08:26:31</td>\n",
       "      <td>1</td>\n",
       "      <td>8</td>\n",
       "      <td>Hell's Kitchen</td>\n",
       "      <td>16</td>\n",
       "      <td>8.95</td>\n",
       "      <td>Loose Tea</td>\n",
       "      <td>Chai tea</td>\n",
       "      <td>Traditional Blend Chai</td>\n",
       "    </tr>\n",
       "    <tr>\n",
       "      <th>3982</th>\n",
       "      <td>4012</td>\n",
       "      <td>2023-01-08</td>\n",
       "      <td>09:40:37</td>\n",
       "      <td>1</td>\n",
       "      <td>8</td>\n",
       "      <td>Hell's Kitchen</td>\n",
       "      <td>17</td>\n",
       "      <td>9.50</td>\n",
       "      <td>Loose Tea</td>\n",
       "      <td>Chai tea</td>\n",
       "      <td>Morning Sunrise Chai</td>\n",
       "    </tr>\n",
       "    <tr>\n",
       "      <th>...</th>\n",
       "      <td>...</td>\n",
       "      <td>...</td>\n",
       "      <td>...</td>\n",
       "      <td>...</td>\n",
       "      <td>...</td>\n",
       "      <td>...</td>\n",
       "      <td>...</td>\n",
       "      <td>...</td>\n",
       "      <td>...</td>\n",
       "      <td>...</td>\n",
       "      <td>...</td>\n",
       "    </tr>\n",
       "    <tr>\n",
       "      <th>148647</th>\n",
       "      <td>148988</td>\n",
       "      <td>2023-06-30</td>\n",
       "      <td>10:47:11</td>\n",
       "      <td>1</td>\n",
       "      <td>3</td>\n",
       "      <td>Astoria</td>\n",
       "      <td>14</td>\n",
       "      <td>8.95</td>\n",
       "      <td>Loose Tea</td>\n",
       "      <td>Black tea</td>\n",
       "      <td>Earl Grey</td>\n",
       "    </tr>\n",
       "    <tr>\n",
       "      <th>148659</th>\n",
       "      <td>149000</td>\n",
       "      <td>2023-06-30</td>\n",
       "      <td>10:53:26</td>\n",
       "      <td>1</td>\n",
       "      <td>3</td>\n",
       "      <td>Astoria</td>\n",
       "      <td>18</td>\n",
       "      <td>10.95</td>\n",
       "      <td>Loose Tea</td>\n",
       "      <td>Chai tea</td>\n",
       "      <td>Spicy Eye Opener Chai</td>\n",
       "    </tr>\n",
       "    <tr>\n",
       "      <th>148663</th>\n",
       "      <td>149004</td>\n",
       "      <td>2023-06-30</td>\n",
       "      <td>10:54:04</td>\n",
       "      <td>1</td>\n",
       "      <td>5</td>\n",
       "      <td>Lower Manhattan</td>\n",
       "      <td>17</td>\n",
       "      <td>9.50</td>\n",
       "      <td>Loose Tea</td>\n",
       "      <td>Chai tea</td>\n",
       "      <td>Morning Sunrise Chai</td>\n",
       "    </tr>\n",
       "    <tr>\n",
       "      <th>148816</th>\n",
       "      <td>149157</td>\n",
       "      <td>2023-06-30</td>\n",
       "      <td>13:45:06</td>\n",
       "      <td>1</td>\n",
       "      <td>5</td>\n",
       "      <td>Lower Manhattan</td>\n",
       "      <td>16</td>\n",
       "      <td>8.95</td>\n",
       "      <td>Loose Tea</td>\n",
       "      <td>Chai tea</td>\n",
       "      <td>Traditional Blend Chai</td>\n",
       "    </tr>\n",
       "    <tr>\n",
       "      <th>148985</th>\n",
       "      <td>149326</td>\n",
       "      <td>2023-06-30</td>\n",
       "      <td>17:25:21</td>\n",
       "      <td>1</td>\n",
       "      <td>8</td>\n",
       "      <td>Hell's Kitchen</td>\n",
       "      <td>11</td>\n",
       "      <td>8.95</td>\n",
       "      <td>Loose Tea</td>\n",
       "      <td>Herbal tea</td>\n",
       "      <td>Lemon Grass</td>\n",
       "    </tr>\n",
       "  </tbody>\n",
       "</table>\n",
       "<p>1210 rows × 11 columns</p>\n",
       "</div>"
      ],
      "text/plain": [
       "        transaction_id transaction_date transaction_time  transaction_qty  \\\n",
       "3263              3293       2023-01-07         07:07:56                1   \n",
       "3481              3511       2023-01-07         10:10:10                1   \n",
       "3880              3910       2023-01-08         08:13:57                1   \n",
       "3896              3926       2023-01-08         08:26:31                1   \n",
       "3982              4012       2023-01-08         09:40:37                1   \n",
       "...                ...              ...              ...              ...   \n",
       "148647          148988       2023-06-30         10:47:11                1   \n",
       "148659          149000       2023-06-30         10:53:26                1   \n",
       "148663          149004       2023-06-30         10:54:04                1   \n",
       "148816          149157       2023-06-30         13:45:06                1   \n",
       "148985          149326       2023-06-30         17:25:21                1   \n",
       "\n",
       "        store_id   store_location  product_id  unit_price product_category  \\\n",
       "3263           5  Lower Manhattan          12        8.95        Loose Tea   \n",
       "3481           8   Hell's Kitchen          17        9.50        Loose Tea   \n",
       "3880           3          Astoria          15        9.25        Loose Tea   \n",
       "3896           8   Hell's Kitchen          16        8.95        Loose Tea   \n",
       "3982           8   Hell's Kitchen          17        9.50        Loose Tea   \n",
       "...          ...              ...         ...         ...              ...   \n",
       "148647         3          Astoria          14        8.95        Loose Tea   \n",
       "148659         3          Astoria          18       10.95        Loose Tea   \n",
       "148663         5  Lower Manhattan          17        9.50        Loose Tea   \n",
       "148816         5  Lower Manhattan          16        8.95        Loose Tea   \n",
       "148985         8   Hell's Kitchen          11        8.95        Loose Tea   \n",
       "\n",
       "       product_type          product_detail  \n",
       "3263     Herbal tea              Peppermint  \n",
       "3481       Chai tea    Morning Sunrise Chai  \n",
       "3880      Green tea      Serenity Green Tea  \n",
       "3896       Chai tea  Traditional Blend Chai  \n",
       "3982       Chai tea    Morning Sunrise Chai  \n",
       "...             ...                     ...  \n",
       "148647    Black tea               Earl Grey  \n",
       "148659     Chai tea   Spicy Eye Opener Chai  \n",
       "148663     Chai tea    Morning Sunrise Chai  \n",
       "148816     Chai tea  Traditional Blend Chai  \n",
       "148985   Herbal tea             Lemon Grass  \n",
       "\n",
       "[1210 rows x 11 columns]"
      ]
     },
     "execution_count": 38,
     "metadata": {},
     "output_type": "execute_result"
    }
   ],
   "source": [
    "coffee_df[coffee_df['product_category'] == 'Loose Tea'] #IDK IF WE WILL DELETE IT OR NOT"
   ]
  },
  {
   "cell_type": "code",
   "execution_count": 39,
   "id": "5a664fbe-11b1-4740-a167-5368affc67ae",
   "metadata": {},
   "outputs": [
    {
     "data": {
      "text/html": [
       "<div>\n",
       "<style scoped>\n",
       "    .dataframe tbody tr th:only-of-type {\n",
       "        vertical-align: middle;\n",
       "    }\n",
       "\n",
       "    .dataframe tbody tr th {\n",
       "        vertical-align: top;\n",
       "    }\n",
       "\n",
       "    .dataframe thead th {\n",
       "        text-align: right;\n",
       "    }\n",
       "</style>\n",
       "<table border=\"1\" class=\"dataframe\">\n",
       "  <thead>\n",
       "    <tr style=\"text-align: right;\">\n",
       "      <th></th>\n",
       "      <th>transaction_id</th>\n",
       "      <th>transaction_date</th>\n",
       "      <th>transaction_time</th>\n",
       "      <th>transaction_qty</th>\n",
       "      <th>store_id</th>\n",
       "      <th>store_location</th>\n",
       "      <th>product_id</th>\n",
       "      <th>unit_price</th>\n",
       "      <th>product_category</th>\n",
       "      <th>product_type</th>\n",
       "      <th>product_detail</th>\n",
       "    </tr>\n",
       "  </thead>\n",
       "  <tbody>\n",
       "    <tr>\n",
       "      <th>3440</th>\n",
       "      <td>3470</td>\n",
       "      <td>2023-01-07</td>\n",
       "      <td>09:31:57</td>\n",
       "      <td>1</td>\n",
       "      <td>5</td>\n",
       "      <td>Lower Manhattan</td>\n",
       "      <td>19</td>\n",
       "      <td>6.40</td>\n",
       "      <td>Packaged Chocolate</td>\n",
       "      <td>Drinking Chocolate</td>\n",
       "      <td>Dark chocolate</td>\n",
       "    </tr>\n",
       "    <tr>\n",
       "      <th>3630</th>\n",
       "      <td>3660</td>\n",
       "      <td>2023-01-07</td>\n",
       "      <td>12:26:42</td>\n",
       "      <td>1</td>\n",
       "      <td>8</td>\n",
       "      <td>Hell's Kitchen</td>\n",
       "      <td>19</td>\n",
       "      <td>6.40</td>\n",
       "      <td>Packaged Chocolate</td>\n",
       "      <td>Drinking Chocolate</td>\n",
       "      <td>Dark chocolate</td>\n",
       "    </tr>\n",
       "    <tr>\n",
       "      <th>4022</th>\n",
       "      <td>4052</td>\n",
       "      <td>2023-01-08</td>\n",
       "      <td>10:12:05</td>\n",
       "      <td>1</td>\n",
       "      <td>8</td>\n",
       "      <td>Hell's Kitchen</td>\n",
       "      <td>20</td>\n",
       "      <td>7.60</td>\n",
       "      <td>Packaged Chocolate</td>\n",
       "      <td>Organic Chocolate</td>\n",
       "      <td>Sustainably Grown Organic</td>\n",
       "    </tr>\n",
       "    <tr>\n",
       "      <th>4257</th>\n",
       "      <td>4287</td>\n",
       "      <td>2023-01-08</td>\n",
       "      <td>16:12:35</td>\n",
       "      <td>1</td>\n",
       "      <td>8</td>\n",
       "      <td>Hell's Kitchen</td>\n",
       "      <td>21</td>\n",
       "      <td>13.33</td>\n",
       "      <td>Packaged Chocolate</td>\n",
       "      <td>Drinking Chocolate</td>\n",
       "      <td>Chili Mayan</td>\n",
       "    </tr>\n",
       "    <tr>\n",
       "      <th>4431</th>\n",
       "      <td>4461</td>\n",
       "      <td>2023-01-09</td>\n",
       "      <td>07:38:22</td>\n",
       "      <td>1</td>\n",
       "      <td>3</td>\n",
       "      <td>Astoria</td>\n",
       "      <td>20</td>\n",
       "      <td>7.60</td>\n",
       "      <td>Packaged Chocolate</td>\n",
       "      <td>Organic Chocolate</td>\n",
       "      <td>Sustainably Grown Organic</td>\n",
       "    </tr>\n",
       "    <tr>\n",
       "      <th>...</th>\n",
       "      <td>...</td>\n",
       "      <td>...</td>\n",
       "      <td>...</td>\n",
       "      <td>...</td>\n",
       "      <td>...</td>\n",
       "      <td>...</td>\n",
       "      <td>...</td>\n",
       "      <td>...</td>\n",
       "      <td>...</td>\n",
       "      <td>...</td>\n",
       "      <td>...</td>\n",
       "    </tr>\n",
       "    <tr>\n",
       "      <th>148606</th>\n",
       "      <td>148947</td>\n",
       "      <td>2023-06-30</td>\n",
       "      <td>10:32:41</td>\n",
       "      <td>1</td>\n",
       "      <td>8</td>\n",
       "      <td>Hell's Kitchen</td>\n",
       "      <td>21</td>\n",
       "      <td>13.33</td>\n",
       "      <td>Packaged Chocolate</td>\n",
       "      <td>Drinking Chocolate</td>\n",
       "      <td>Chili Mayan</td>\n",
       "    </tr>\n",
       "    <tr>\n",
       "      <th>148708</th>\n",
       "      <td>149049</td>\n",
       "      <td>2023-06-30</td>\n",
       "      <td>11:21:29</td>\n",
       "      <td>1</td>\n",
       "      <td>8</td>\n",
       "      <td>Hell's Kitchen</td>\n",
       "      <td>19</td>\n",
       "      <td>6.40</td>\n",
       "      <td>Packaged Chocolate</td>\n",
       "      <td>Drinking Chocolate</td>\n",
       "      <td>Dark chocolate</td>\n",
       "    </tr>\n",
       "    <tr>\n",
       "      <th>148771</th>\n",
       "      <td>149112</td>\n",
       "      <td>2023-06-30</td>\n",
       "      <td>12:43:17</td>\n",
       "      <td>1</td>\n",
       "      <td>8</td>\n",
       "      <td>Hell's Kitchen</td>\n",
       "      <td>20</td>\n",
       "      <td>7.60</td>\n",
       "      <td>Packaged Chocolate</td>\n",
       "      <td>Organic Chocolate</td>\n",
       "      <td>Sustainably Grown Organic</td>\n",
       "    </tr>\n",
       "    <tr>\n",
       "      <th>148796</th>\n",
       "      <td>149137</td>\n",
       "      <td>2023-06-30</td>\n",
       "      <td>13:13:13</td>\n",
       "      <td>1</td>\n",
       "      <td>8</td>\n",
       "      <td>Hell's Kitchen</td>\n",
       "      <td>20</td>\n",
       "      <td>7.60</td>\n",
       "      <td>Packaged Chocolate</td>\n",
       "      <td>Organic Chocolate</td>\n",
       "      <td>Sustainably Grown Organic</td>\n",
       "    </tr>\n",
       "    <tr>\n",
       "      <th>149017</th>\n",
       "      <td>149358</td>\n",
       "      <td>2023-06-30</td>\n",
       "      <td>17:59:51</td>\n",
       "      <td>1</td>\n",
       "      <td>8</td>\n",
       "      <td>Hell's Kitchen</td>\n",
       "      <td>19</td>\n",
       "      <td>6.40</td>\n",
       "      <td>Packaged Chocolate</td>\n",
       "      <td>Drinking Chocolate</td>\n",
       "      <td>Dark chocolate</td>\n",
       "    </tr>\n",
       "  </tbody>\n",
       "</table>\n",
       "<p>487 rows × 11 columns</p>\n",
       "</div>"
      ],
      "text/plain": [
       "        transaction_id transaction_date transaction_time  transaction_qty  \\\n",
       "3440              3470       2023-01-07         09:31:57                1   \n",
       "3630              3660       2023-01-07         12:26:42                1   \n",
       "4022              4052       2023-01-08         10:12:05                1   \n",
       "4257              4287       2023-01-08         16:12:35                1   \n",
       "4431              4461       2023-01-09         07:38:22                1   \n",
       "...                ...              ...              ...              ...   \n",
       "148606          148947       2023-06-30         10:32:41                1   \n",
       "148708          149049       2023-06-30         11:21:29                1   \n",
       "148771          149112       2023-06-30         12:43:17                1   \n",
       "148796          149137       2023-06-30         13:13:13                1   \n",
       "149017          149358       2023-06-30         17:59:51                1   \n",
       "\n",
       "        store_id   store_location  product_id  unit_price    product_category  \\\n",
       "3440           5  Lower Manhattan          19        6.40  Packaged Chocolate   \n",
       "3630           8   Hell's Kitchen          19        6.40  Packaged Chocolate   \n",
       "4022           8   Hell's Kitchen          20        7.60  Packaged Chocolate   \n",
       "4257           8   Hell's Kitchen          21       13.33  Packaged Chocolate   \n",
       "4431           3          Astoria          20        7.60  Packaged Chocolate   \n",
       "...          ...              ...         ...         ...                 ...   \n",
       "148606         8   Hell's Kitchen          21       13.33  Packaged Chocolate   \n",
       "148708         8   Hell's Kitchen          19        6.40  Packaged Chocolate   \n",
       "148771         8   Hell's Kitchen          20        7.60  Packaged Chocolate   \n",
       "148796         8   Hell's Kitchen          20        7.60  Packaged Chocolate   \n",
       "149017         8   Hell's Kitchen          19        6.40  Packaged Chocolate   \n",
       "\n",
       "              product_type             product_detail  \n",
       "3440    Drinking Chocolate             Dark chocolate  \n",
       "3630    Drinking Chocolate             Dark chocolate  \n",
       "4022     Organic Chocolate  Sustainably Grown Organic  \n",
       "4257    Drinking Chocolate                Chili Mayan  \n",
       "4431     Organic Chocolate  Sustainably Grown Organic  \n",
       "...                    ...                        ...  \n",
       "148606  Drinking Chocolate                Chili Mayan  \n",
       "148708  Drinking Chocolate             Dark chocolate  \n",
       "148771   Organic Chocolate  Sustainably Grown Organic  \n",
       "148796   Organic Chocolate  Sustainably Grown Organic  \n",
       "149017  Drinking Chocolate             Dark chocolate  \n",
       "\n",
       "[487 rows x 11 columns]"
      ]
     },
     "execution_count": 39,
     "metadata": {},
     "output_type": "execute_result"
    }
   ],
   "source": [
    "coffee_df[coffee_df['product_category'] == 'Packaged Chocolate'] #IDK IF WE WILL DELETE IT OR NOT"
   ]
  },
  {
   "cell_type": "code",
   "execution_count": 40,
   "id": "ebd14f96-506c-4165-9a53-7715aa3619fb",
   "metadata": {},
   "outputs": [
    {
     "data": {
      "text/html": [
       "<div>\n",
       "<style scoped>\n",
       "    .dataframe tbody tr th:only-of-type {\n",
       "        vertical-align: middle;\n",
       "    }\n",
       "\n",
       "    .dataframe tbody tr th {\n",
       "        vertical-align: top;\n",
       "    }\n",
       "\n",
       "    .dataframe thead th {\n",
       "        text-align: right;\n",
       "    }\n",
       "</style>\n",
       "<table border=\"1\" class=\"dataframe\">\n",
       "  <thead>\n",
       "    <tr style=\"text-align: right;\">\n",
       "      <th></th>\n",
       "      <th>transaction_id</th>\n",
       "      <th>transaction_date</th>\n",
       "      <th>transaction_time</th>\n",
       "      <th>transaction_qty</th>\n",
       "      <th>store_id</th>\n",
       "      <th>store_location</th>\n",
       "      <th>product_id</th>\n",
       "      <th>unit_price</th>\n",
       "      <th>product_category</th>\n",
       "      <th>product_type</th>\n",
       "      <th>product_detail</th>\n",
       "    </tr>\n",
       "  </thead>\n",
       "  <tbody>\n",
       "    <tr>\n",
       "      <th>4033</th>\n",
       "      <td>4063</td>\n",
       "      <td>2023-01-08</td>\n",
       "      <td>10:22:32</td>\n",
       "      <td>1</td>\n",
       "      <td>5</td>\n",
       "      <td>Lower Manhattan</td>\n",
       "      <td>83</td>\n",
       "      <td>14.0</td>\n",
       "      <td>Branded</td>\n",
       "      <td>Housewares</td>\n",
       "      <td>I Need My Bean! Latte cup</td>\n",
       "    </tr>\n",
       "    <tr>\n",
       "      <th>4359</th>\n",
       "      <td>4389</td>\n",
       "      <td>2023-01-08</td>\n",
       "      <td>19:54:56</td>\n",
       "      <td>1</td>\n",
       "      <td>3</td>\n",
       "      <td>Astoria</td>\n",
       "      <td>83</td>\n",
       "      <td>14.0</td>\n",
       "      <td>Branded</td>\n",
       "      <td>Housewares</td>\n",
       "      <td>I Need My Bean! Latte cup</td>\n",
       "    </tr>\n",
       "    <tr>\n",
       "      <th>4466</th>\n",
       "      <td>4496</td>\n",
       "      <td>2023-01-09</td>\n",
       "      <td>08:02:30</td>\n",
       "      <td>1</td>\n",
       "      <td>5</td>\n",
       "      <td>Lower Manhattan</td>\n",
       "      <td>83</td>\n",
       "      <td>14.0</td>\n",
       "      <td>Branded</td>\n",
       "      <td>Housewares</td>\n",
       "      <td>I Need My Bean! Latte cup</td>\n",
       "    </tr>\n",
       "    <tr>\n",
       "      <th>4594</th>\n",
       "      <td>4624</td>\n",
       "      <td>2023-01-09</td>\n",
       "      <td>09:40:56</td>\n",
       "      <td>1</td>\n",
       "      <td>5</td>\n",
       "      <td>Lower Manhattan</td>\n",
       "      <td>83</td>\n",
       "      <td>14.0</td>\n",
       "      <td>Branded</td>\n",
       "      <td>Housewares</td>\n",
       "      <td>I Need My Bean! Latte cup</td>\n",
       "    </tr>\n",
       "    <tr>\n",
       "      <th>4598</th>\n",
       "      <td>4628</td>\n",
       "      <td>2023-01-09</td>\n",
       "      <td>09:42:16</td>\n",
       "      <td>1</td>\n",
       "      <td>5</td>\n",
       "      <td>Lower Manhattan</td>\n",
       "      <td>81</td>\n",
       "      <td>28.0</td>\n",
       "      <td>Branded</td>\n",
       "      <td>Clothing</td>\n",
       "      <td>I Need My Bean! T-shirt</td>\n",
       "    </tr>\n",
       "    <tr>\n",
       "      <th>...</th>\n",
       "      <td>...</td>\n",
       "      <td>...</td>\n",
       "      <td>...</td>\n",
       "      <td>...</td>\n",
       "      <td>...</td>\n",
       "      <td>...</td>\n",
       "      <td>...</td>\n",
       "      <td>...</td>\n",
       "      <td>...</td>\n",
       "      <td>...</td>\n",
       "      <td>...</td>\n",
       "    </tr>\n",
       "    <tr>\n",
       "      <th>148248</th>\n",
       "      <td>148589</td>\n",
       "      <td>2023-06-30</td>\n",
       "      <td>08:23:59</td>\n",
       "      <td>1</td>\n",
       "      <td>3</td>\n",
       "      <td>Astoria</td>\n",
       "      <td>83</td>\n",
       "      <td>14.0</td>\n",
       "      <td>Branded</td>\n",
       "      <td>Housewares</td>\n",
       "      <td>I Need My Bean! Latte cup</td>\n",
       "    </tr>\n",
       "    <tr>\n",
       "      <th>148405</th>\n",
       "      <td>148746</td>\n",
       "      <td>2023-06-30</td>\n",
       "      <td>09:25:42</td>\n",
       "      <td>1</td>\n",
       "      <td>5</td>\n",
       "      <td>Lower Manhattan</td>\n",
       "      <td>83</td>\n",
       "      <td>14.0</td>\n",
       "      <td>Branded</td>\n",
       "      <td>Housewares</td>\n",
       "      <td>I Need My Bean! Latte cup</td>\n",
       "    </tr>\n",
       "    <tr>\n",
       "      <th>148537</th>\n",
       "      <td>148878</td>\n",
       "      <td>2023-06-30</td>\n",
       "      <td>10:14:36</td>\n",
       "      <td>2</td>\n",
       "      <td>5</td>\n",
       "      <td>Lower Manhattan</td>\n",
       "      <td>83</td>\n",
       "      <td>14.0</td>\n",
       "      <td>Branded</td>\n",
       "      <td>Housewares</td>\n",
       "      <td>I Need My Bean! Latte cup</td>\n",
       "    </tr>\n",
       "    <tr>\n",
       "      <th>148562</th>\n",
       "      <td>148903</td>\n",
       "      <td>2023-06-30</td>\n",
       "      <td>10:22:32</td>\n",
       "      <td>1</td>\n",
       "      <td>5</td>\n",
       "      <td>Lower Manhattan</td>\n",
       "      <td>83</td>\n",
       "      <td>14.0</td>\n",
       "      <td>Branded</td>\n",
       "      <td>Housewares</td>\n",
       "      <td>I Need My Bean! Latte cup</td>\n",
       "    </tr>\n",
       "    <tr>\n",
       "      <th>148680</th>\n",
       "      <td>149021</td>\n",
       "      <td>2023-06-30</td>\n",
       "      <td>10:58:22</td>\n",
       "      <td>1</td>\n",
       "      <td>3</td>\n",
       "      <td>Astoria</td>\n",
       "      <td>83</td>\n",
       "      <td>14.0</td>\n",
       "      <td>Branded</td>\n",
       "      <td>Housewares</td>\n",
       "      <td>I Need My Bean! Latte cup</td>\n",
       "    </tr>\n",
       "  </tbody>\n",
       "</table>\n",
       "<p>747 rows × 11 columns</p>\n",
       "</div>"
      ],
      "text/plain": [
       "        transaction_id transaction_date transaction_time  transaction_qty  \\\n",
       "4033              4063       2023-01-08         10:22:32                1   \n",
       "4359              4389       2023-01-08         19:54:56                1   \n",
       "4466              4496       2023-01-09         08:02:30                1   \n",
       "4594              4624       2023-01-09         09:40:56                1   \n",
       "4598              4628       2023-01-09         09:42:16                1   \n",
       "...                ...              ...              ...              ...   \n",
       "148248          148589       2023-06-30         08:23:59                1   \n",
       "148405          148746       2023-06-30         09:25:42                1   \n",
       "148537          148878       2023-06-30         10:14:36                2   \n",
       "148562          148903       2023-06-30         10:22:32                1   \n",
       "148680          149021       2023-06-30         10:58:22                1   \n",
       "\n",
       "        store_id   store_location  product_id  unit_price product_category  \\\n",
       "4033           5  Lower Manhattan          83        14.0          Branded   \n",
       "4359           3          Astoria          83        14.0          Branded   \n",
       "4466           5  Lower Manhattan          83        14.0          Branded   \n",
       "4594           5  Lower Manhattan          83        14.0          Branded   \n",
       "4598           5  Lower Manhattan          81        28.0          Branded   \n",
       "...          ...              ...         ...         ...              ...   \n",
       "148248         3          Astoria          83        14.0          Branded   \n",
       "148405         5  Lower Manhattan          83        14.0          Branded   \n",
       "148537         5  Lower Manhattan          83        14.0          Branded   \n",
       "148562         5  Lower Manhattan          83        14.0          Branded   \n",
       "148680         3          Astoria          83        14.0          Branded   \n",
       "\n",
       "       product_type             product_detail  \n",
       "4033     Housewares  I Need My Bean! Latte cup  \n",
       "4359     Housewares  I Need My Bean! Latte cup  \n",
       "4466     Housewares  I Need My Bean! Latte cup  \n",
       "4594     Housewares  I Need My Bean! Latte cup  \n",
       "4598       Clothing    I Need My Bean! T-shirt  \n",
       "...             ...                        ...  \n",
       "148248   Housewares  I Need My Bean! Latte cup  \n",
       "148405   Housewares  I Need My Bean! Latte cup  \n",
       "148537   Housewares  I Need My Bean! Latte cup  \n",
       "148562   Housewares  I Need My Bean! Latte cup  \n",
       "148680   Housewares  I Need My Bean! Latte cup  \n",
       "\n",
       "[747 rows x 11 columns]"
      ]
     },
     "execution_count": 40,
     "metadata": {},
     "output_type": "execute_result"
    }
   ],
   "source": [
    "coffee_df[coffee_df['product_category'] == 'Branded'] #Out of scope i will delete it"
   ]
  },
  {
   "cell_type": "code",
   "execution_count": 41,
   "id": "457758a6-f7df-43cb-9b60-5729a342d1c7",
   "metadata": {},
   "outputs": [],
   "source": [
    "#out of our scope\n",
    "coffee_df = coffee_df[coffee_df['product_category'] != 'Flavours']"
   ]
  },
  {
   "cell_type": "code",
   "execution_count": 42,
   "id": "bc8783a1-f435-4e3a-b34d-ee91c0ee2ba5",
   "metadata": {},
   "outputs": [],
   "source": [
    "#out of our scope\n",
    "coffee_df = coffee_df[coffee_df['product_category'] != 'Coffee beans']"
   ]
  },
  {
   "cell_type": "code",
   "execution_count": 43,
   "id": "eda515ba-b0fb-44e9-af24-b1b5f117d4b8",
   "metadata": {},
   "outputs": [],
   "source": [
    "#out of our scope\n",
    "coffee_df = coffee_df[coffee_df['product_category'] != 'Loose Tea']"
   ]
  },
  {
   "cell_type": "code",
   "execution_count": 44,
   "id": "26a300f5-a6e8-43d5-9244-ef4eefe6672b",
   "metadata": {},
   "outputs": [],
   "source": [
    "#out of our scope\n",
    "coffee_df = coffee_df[coffee_df['product_category'] != 'Packaged Chocolate']"
   ]
  },
  {
   "cell_type": "code",
   "execution_count": 45,
   "id": "75dd5906-3510-4b72-bd14-5cfe27679b57",
   "metadata": {},
   "outputs": [],
   "source": [
    "#out of our scope\n",
    "coffee_df = coffee_df[coffee_df['product_category'] != 'Branded']"
   ]
  },
  {
   "cell_type": "code",
   "execution_count": 46,
   "id": "3c91d44e-61ff-4688-8c4a-81aefc7adc72",
   "metadata": {},
   "outputs": [
    {
     "data": {
      "text/plain": [
       "(138129, 11)"
      ]
     },
     "execution_count": 46,
     "metadata": {},
     "output_type": "execute_result"
    }
   ],
   "source": [
    "coffee_df.shape"
   ]
  },
  {
   "cell_type": "code",
   "execution_count": 47,
   "id": "ec9223f4-0653-4171-ab45-7321f3777cd6",
   "metadata": {},
   "outputs": [
    {
     "data": {
      "text/plain": [
       "store_location\n",
       "Astoria            47874\n",
       "Hell's Kitchen     46844\n",
       "Lower Manhattan    43411\n",
       "Name: count, dtype: int64"
      ]
     },
     "execution_count": 47,
     "metadata": {},
     "output_type": "execute_result"
    }
   ],
   "source": [
    "coffee_df['store_location'].value_counts()"
   ]
  },
  {
   "cell_type": "markdown",
   "id": "0f5e3a2a-bbb7-4d06-8220-c93277b70146",
   "metadata": {},
   "source": [
    "#### 5. Uniqueness: \n",
    "Check for and remove duplicate records to prevent skewed analysis results.\n"
   ]
  },
  {
   "cell_type": "code",
   "execution_count": 48,
   "id": "a509a7aa-58f4-4d39-8eb8-e8298a21f2a7",
   "metadata": {},
   "outputs": [
    {
     "data": {
      "text/plain": [
       "0"
      ]
     },
     "execution_count": 48,
     "metadata": {},
     "output_type": "execute_result"
    }
   ],
   "source": [
    "coffee_df.duplicated().sum()"
   ]
  },
  {
   "cell_type": "code",
   "execution_count": 49,
   "id": "04c62559-3b48-48cf-a4e9-857e2e0ff416",
   "metadata": {},
   "outputs": [],
   "source": [
    "# go to delete duplicates columns"
   ]
  },
  {
   "cell_type": "markdown",
   "id": "c7724ac2-4ea2-4cf4-a9e0-e64368f87b92",
   "metadata": {},
   "source": [
    "#### 6. Completeness: \n",
    "Ensure that no critical data is missing. This might mean checking for null values or required fields that are empty.\n",
    "\n",
    "We will start by checking the dataset for missing or null values. For this, we can use the isna() method which returns a dataframe of boolean values indicating if a field is null or not. To group all missing values by column, we can include the sum() method."
   ]
  },
  {
   "cell_type": "code",
   "execution_count": 50,
   "id": "48a4de54-a344-4b94-9908-9528c15c13f7",
   "metadata": {},
   "outputs": [],
   "source": [
    "#Display number missing values per column"
   ]
  },
  {
   "cell_type": "code",
   "execution_count": 51,
   "id": "74632dc6-5c04-426a-ba60-d01ef3f45beb",
   "metadata": {},
   "outputs": [
    {
     "data": {
      "text/plain": [
       "transaction_id      0\n",
       "transaction_date    0\n",
       "transaction_time    0\n",
       "transaction_qty     0\n",
       "store_id            0\n",
       "store_location      0\n",
       "product_id          0\n",
       "unit_price          0\n",
       "product_category    0\n",
       "product_type        0\n",
       "product_detail      0\n",
       "dtype: int64"
      ]
     },
     "execution_count": 51,
     "metadata": {},
     "output_type": "execute_result"
    }
   ],
   "source": [
    "coffee_df.isnull().sum().sort_values(ascending = False)"
   ]
  },
  {
   "cell_type": "code",
   "execution_count": 52,
   "id": "abec31c4-0904-4b73-8cee-b7bc14ab1e67",
   "metadata": {},
   "outputs": [],
   "source": [
    "# go to clean them "
   ]
  },
  {
   "cell_type": "markdown",
   "id": "b40de63c-5a1d-49ed-a87e-c5229ee08bbe",
   "metadata": {},
   "source": [
    "#### 7. Check Accuracy:\n",
    "\n",
    "Verify that the data is correct and precise. This could involve comparing data samples with known sources or using validation rules.\n",
    "\n",
    "**The process includes:**\n",
    "1. Validating the appropriateness of data types for the dataset.\n",
    "2. Identifying outliers  using established validation  rule"
   ]
  },
  {
   "cell_type": "code",
   "execution_count": 53,
   "id": "68be5334-ae10-4abd-8097-3259fe5e72c8",
   "metadata": {},
   "outputs": [],
   "source": [
    "# check columns types "
   ]
  },
  {
   "cell_type": "code",
   "execution_count": 54,
   "id": "a399267a-7c38-46f9-bb67-4c1deb83e81a",
   "metadata": {},
   "outputs": [
    {
     "data": {
      "text/plain": [
       "transaction_id               int64\n",
       "transaction_date    datetime64[ns]\n",
       "transaction_time            object\n",
       "transaction_qty              int64\n",
       "store_id                     int64\n",
       "store_location              object\n",
       "product_id                   int64\n",
       "unit_price                 float64\n",
       "product_category            object\n",
       "product_type                object\n",
       "product_detail              object\n",
       "dtype: object"
      ]
     },
     "execution_count": 54,
     "metadata": {},
     "output_type": "execute_result"
    }
   ],
   "source": [
    "coffee_df.dtypes"
   ]
  },
  {
   "cell_type": "code",
   "execution_count": 55,
   "id": "2ee790ba-dcc0-45f1-b6f8-0133e913e149",
   "metadata": {},
   "outputs": [],
   "source": [
    "# go to clean them "
   ]
  },
  {
   "cell_type": "code",
   "execution_count": 56,
   "id": "c69b303a-5459-45f9-a28e-fcee45c21c05",
   "metadata": {},
   "outputs": [],
   "source": [
    "# check outliers "
   ]
  },
  {
   "cell_type": "markdown",
   "id": "41685e52-61c8-4a72-9e5d-df8ed1176201",
   "metadata": {},
   "source": [
    "#### Feature Engineering\n",
    "\n"
   ]
  },
  {
   "cell_type": "code",
   "execution_count": 57,
   "id": "325c0f05-4d62-4996-a10d-48217e37279e",
   "metadata": {},
   "outputs": [],
   "source": [
    "coffee_df['transaction_datetime'] = pd.to_datetime(\n",
    "    coffee_df['transaction_date'].astype(str) + ' ' + coffee_df['transaction_time'].astype(str)\n",
    ")"
   ]
  },
  {
   "cell_type": "code",
   "execution_count": 58,
   "id": "b45a5a8f-4528-4ecd-88f7-97dece91e065",
   "metadata": {},
   "outputs": [
    {
     "data": {
      "text/plain": [
       "0        2023-01-01 07:06:11\n",
       "1        2023-01-01 07:08:56\n",
       "2        2023-01-01 07:14:04\n",
       "3        2023-01-01 07:20:24\n",
       "4        2023-01-01 07:22:41\n",
       "                 ...        \n",
       "149110   2023-06-30 20:16:31\n",
       "149111   2023-06-30 20:18:41\n",
       "149112   2023-06-30 20:25:10\n",
       "149113   2023-06-30 20:31:34\n",
       "149114   2023-06-30 20:57:19\n",
       "Name: transaction_datetime, Length: 138129, dtype: datetime64[ns]"
      ]
     },
     "execution_count": 58,
     "metadata": {},
     "output_type": "execute_result"
    }
   ],
   "source": [
    "coffee_df['transaction_datetime']"
   ]
  },
  {
   "cell_type": "code",
   "execution_count": 59,
   "id": "ef3bc3f6-7323-47bc-9088-a6c5a0137185",
   "metadata": {},
   "outputs": [],
   "source": [
    "coffee_df['order_id'] = coffee_df.groupby('transaction_datetime').ngroup() + 1"
   ]
  },
  {
   "cell_type": "code",
   "execution_count": 60,
   "id": "f2571732-ba8d-4814-baf9-a700ce84e603",
   "metadata": {},
   "outputs": [
    {
     "data": {
      "text/html": [
       "<div>\n",
       "<style scoped>\n",
       "    .dataframe tbody tr th:only-of-type {\n",
       "        vertical-align: middle;\n",
       "    }\n",
       "\n",
       "    .dataframe tbody tr th {\n",
       "        vertical-align: top;\n",
       "    }\n",
       "\n",
       "    .dataframe thead th {\n",
       "        text-align: right;\n",
       "    }\n",
       "</style>\n",
       "<table border=\"1\" class=\"dataframe\">\n",
       "  <thead>\n",
       "    <tr style=\"text-align: right;\">\n",
       "      <th></th>\n",
       "      <th>transaction_id</th>\n",
       "      <th>transaction_date</th>\n",
       "      <th>transaction_time</th>\n",
       "      <th>transaction_qty</th>\n",
       "      <th>store_id</th>\n",
       "      <th>store_location</th>\n",
       "      <th>product_id</th>\n",
       "      <th>unit_price</th>\n",
       "      <th>product_category</th>\n",
       "      <th>product_type</th>\n",
       "      <th>product_detail</th>\n",
       "      <th>transaction_datetime</th>\n",
       "      <th>order_id</th>\n",
       "    </tr>\n",
       "  </thead>\n",
       "  <tbody>\n",
       "    <tr>\n",
       "      <th>0</th>\n",
       "      <td>1</td>\n",
       "      <td>2023-01-01</td>\n",
       "      <td>07:06:11</td>\n",
       "      <td>2</td>\n",
       "      <td>5</td>\n",
       "      <td>Lower Manhattan</td>\n",
       "      <td>32</td>\n",
       "      <td>3.00</td>\n",
       "      <td>Coffee</td>\n",
       "      <td>Gourmet brewed coffee</td>\n",
       "      <td>Ethiopia Rg</td>\n",
       "      <td>2023-01-01 07:06:11</td>\n",
       "      <td>1</td>\n",
       "    </tr>\n",
       "    <tr>\n",
       "      <th>1</th>\n",
       "      <td>2</td>\n",
       "      <td>2023-01-01</td>\n",
       "      <td>07:08:56</td>\n",
       "      <td>2</td>\n",
       "      <td>5</td>\n",
       "      <td>Lower Manhattan</td>\n",
       "      <td>57</td>\n",
       "      <td>3.10</td>\n",
       "      <td>Tea</td>\n",
       "      <td>Brewed Chai tea</td>\n",
       "      <td>Spicy Eye Opener Chai Lg</td>\n",
       "      <td>2023-01-01 07:08:56</td>\n",
       "      <td>2</td>\n",
       "    </tr>\n",
       "    <tr>\n",
       "      <th>2</th>\n",
       "      <td>3</td>\n",
       "      <td>2023-01-01</td>\n",
       "      <td>07:14:04</td>\n",
       "      <td>2</td>\n",
       "      <td>5</td>\n",
       "      <td>Lower Manhattan</td>\n",
       "      <td>59</td>\n",
       "      <td>4.50</td>\n",
       "      <td>Drinking Chocolate</td>\n",
       "      <td>Hot chocolate</td>\n",
       "      <td>Dark chocolate Lg</td>\n",
       "      <td>2023-01-01 07:14:04</td>\n",
       "      <td>3</td>\n",
       "    </tr>\n",
       "    <tr>\n",
       "      <th>3</th>\n",
       "      <td>4</td>\n",
       "      <td>2023-01-01</td>\n",
       "      <td>07:20:24</td>\n",
       "      <td>1</td>\n",
       "      <td>5</td>\n",
       "      <td>Lower Manhattan</td>\n",
       "      <td>22</td>\n",
       "      <td>2.00</td>\n",
       "      <td>Coffee</td>\n",
       "      <td>Drip coffee</td>\n",
       "      <td>Our Old Time Diner Blend Sm</td>\n",
       "      <td>2023-01-01 07:20:24</td>\n",
       "      <td>4</td>\n",
       "    </tr>\n",
       "    <tr>\n",
       "      <th>4</th>\n",
       "      <td>5</td>\n",
       "      <td>2023-01-01</td>\n",
       "      <td>07:22:41</td>\n",
       "      <td>2</td>\n",
       "      <td>5</td>\n",
       "      <td>Lower Manhattan</td>\n",
       "      <td>57</td>\n",
       "      <td>3.10</td>\n",
       "      <td>Tea</td>\n",
       "      <td>Brewed Chai tea</td>\n",
       "      <td>Spicy Eye Opener Chai Lg</td>\n",
       "      <td>2023-01-01 07:22:41</td>\n",
       "      <td>5</td>\n",
       "    </tr>\n",
       "    <tr>\n",
       "      <th>5</th>\n",
       "      <td>6</td>\n",
       "      <td>2023-01-01</td>\n",
       "      <td>07:22:41</td>\n",
       "      <td>1</td>\n",
       "      <td>5</td>\n",
       "      <td>Lower Manhattan</td>\n",
       "      <td>77</td>\n",
       "      <td>3.00</td>\n",
       "      <td>Bakery</td>\n",
       "      <td>Scone</td>\n",
       "      <td>Oatmeal Scone</td>\n",
       "      <td>2023-01-01 07:22:41</td>\n",
       "      <td>5</td>\n",
       "    </tr>\n",
       "    <tr>\n",
       "      <th>6</th>\n",
       "      <td>7</td>\n",
       "      <td>2023-01-01</td>\n",
       "      <td>07:25:49</td>\n",
       "      <td>1</td>\n",
       "      <td>5</td>\n",
       "      <td>Lower Manhattan</td>\n",
       "      <td>22</td>\n",
       "      <td>2.00</td>\n",
       "      <td>Coffee</td>\n",
       "      <td>Drip coffee</td>\n",
       "      <td>Our Old Time Diner Blend Sm</td>\n",
       "      <td>2023-01-01 07:25:49</td>\n",
       "      <td>6</td>\n",
       "    </tr>\n",
       "    <tr>\n",
       "      <th>7</th>\n",
       "      <td>8</td>\n",
       "      <td>2023-01-01</td>\n",
       "      <td>07:33:34</td>\n",
       "      <td>2</td>\n",
       "      <td>5</td>\n",
       "      <td>Lower Manhattan</td>\n",
       "      <td>28</td>\n",
       "      <td>2.00</td>\n",
       "      <td>Coffee</td>\n",
       "      <td>Gourmet brewed coffee</td>\n",
       "      <td>Columbian Medium Roast Sm</td>\n",
       "      <td>2023-01-01 07:33:34</td>\n",
       "      <td>7</td>\n",
       "    </tr>\n",
       "    <tr>\n",
       "      <th>8</th>\n",
       "      <td>9</td>\n",
       "      <td>2023-01-01</td>\n",
       "      <td>07:39:13</td>\n",
       "      <td>1</td>\n",
       "      <td>5</td>\n",
       "      <td>Lower Manhattan</td>\n",
       "      <td>39</td>\n",
       "      <td>4.25</td>\n",
       "      <td>Coffee</td>\n",
       "      <td>Barista Espresso</td>\n",
       "      <td>Latte Rg</td>\n",
       "      <td>2023-01-01 07:39:13</td>\n",
       "      <td>8</td>\n",
       "    </tr>\n",
       "    <tr>\n",
       "      <th>9</th>\n",
       "      <td>10</td>\n",
       "      <td>2023-01-01</td>\n",
       "      <td>07:39:34</td>\n",
       "      <td>2</td>\n",
       "      <td>5</td>\n",
       "      <td>Lower Manhattan</td>\n",
       "      <td>58</td>\n",
       "      <td>3.50</td>\n",
       "      <td>Drinking Chocolate</td>\n",
       "      <td>Hot chocolate</td>\n",
       "      <td>Dark chocolate Rg</td>\n",
       "      <td>2023-01-01 07:39:34</td>\n",
       "      <td>9</td>\n",
       "    </tr>\n",
       "    <tr>\n",
       "      <th>10</th>\n",
       "      <td>11</td>\n",
       "      <td>2023-01-01</td>\n",
       "      <td>07:43:05</td>\n",
       "      <td>1</td>\n",
       "      <td>5</td>\n",
       "      <td>Lower Manhattan</td>\n",
       "      <td>56</td>\n",
       "      <td>2.55</td>\n",
       "      <td>Tea</td>\n",
       "      <td>Brewed Chai tea</td>\n",
       "      <td>Spicy Eye Opener Chai Rg</td>\n",
       "      <td>2023-01-01 07:43:05</td>\n",
       "      <td>10</td>\n",
       "    </tr>\n",
       "    <tr>\n",
       "      <th>11</th>\n",
       "      <td>12</td>\n",
       "      <td>2023-01-01</td>\n",
       "      <td>07:44:35</td>\n",
       "      <td>2</td>\n",
       "      <td>5</td>\n",
       "      <td>Lower Manhattan</td>\n",
       "      <td>33</td>\n",
       "      <td>3.50</td>\n",
       "      <td>Coffee</td>\n",
       "      <td>Gourmet brewed coffee</td>\n",
       "      <td>Ethiopia Lg</td>\n",
       "      <td>2023-01-01 07:44:35</td>\n",
       "      <td>11</td>\n",
       "    </tr>\n",
       "    <tr>\n",
       "      <th>12</th>\n",
       "      <td>13</td>\n",
       "      <td>2023-01-01</td>\n",
       "      <td>07:45:51</td>\n",
       "      <td>1</td>\n",
       "      <td>5</td>\n",
       "      <td>Lower Manhattan</td>\n",
       "      <td>51</td>\n",
       "      <td>3.00</td>\n",
       "      <td>Tea</td>\n",
       "      <td>Brewed Black tea</td>\n",
       "      <td>Earl Grey Lg</td>\n",
       "      <td>2023-01-01 07:45:51</td>\n",
       "      <td>12</td>\n",
       "    </tr>\n",
       "    <tr>\n",
       "      <th>13</th>\n",
       "      <td>14</td>\n",
       "      <td>2023-01-01</td>\n",
       "      <td>07:48:19</td>\n",
       "      <td>1</td>\n",
       "      <td>5</td>\n",
       "      <td>Lower Manhattan</td>\n",
       "      <td>57</td>\n",
       "      <td>3.10</td>\n",
       "      <td>Tea</td>\n",
       "      <td>Brewed Chai tea</td>\n",
       "      <td>Spicy Eye Opener Chai Lg</td>\n",
       "      <td>2023-01-01 07:48:19</td>\n",
       "      <td>13</td>\n",
       "    </tr>\n",
       "    <tr>\n",
       "      <th>14</th>\n",
       "      <td>15</td>\n",
       "      <td>2023-01-01</td>\n",
       "      <td>07:52:36</td>\n",
       "      <td>2</td>\n",
       "      <td>5</td>\n",
       "      <td>Lower Manhattan</td>\n",
       "      <td>87</td>\n",
       "      <td>3.00</td>\n",
       "      <td>Coffee</td>\n",
       "      <td>Barista Espresso</td>\n",
       "      <td>Ouro Brasileiro shot</td>\n",
       "      <td>2023-01-01 07:52:36</td>\n",
       "      <td>14</td>\n",
       "    </tr>\n",
       "    <tr>\n",
       "      <th>15</th>\n",
       "      <td>16</td>\n",
       "      <td>2023-01-01</td>\n",
       "      <td>07:59:58</td>\n",
       "      <td>2</td>\n",
       "      <td>5</td>\n",
       "      <td>Lower Manhattan</td>\n",
       "      <td>47</td>\n",
       "      <td>3.00</td>\n",
       "      <td>Tea</td>\n",
       "      <td>Brewed Green tea</td>\n",
       "      <td>Serenity Green Tea Lg</td>\n",
       "      <td>2023-01-01 07:59:58</td>\n",
       "      <td>15</td>\n",
       "    </tr>\n",
       "    <tr>\n",
       "      <th>16</th>\n",
       "      <td>17</td>\n",
       "      <td>2023-01-01</td>\n",
       "      <td>07:59:58</td>\n",
       "      <td>1</td>\n",
       "      <td>5</td>\n",
       "      <td>Lower Manhattan</td>\n",
       "      <td>79</td>\n",
       "      <td>3.75</td>\n",
       "      <td>Bakery</td>\n",
       "      <td>Scone</td>\n",
       "      <td>Jumbo Savory Scone</td>\n",
       "      <td>2023-01-01 07:59:58</td>\n",
       "      <td>15</td>\n",
       "    </tr>\n",
       "    <tr>\n",
       "      <th>17</th>\n",
       "      <td>18</td>\n",
       "      <td>2023-01-01</td>\n",
       "      <td>08:00:18</td>\n",
       "      <td>1</td>\n",
       "      <td>8</td>\n",
       "      <td>Hell's Kitchen</td>\n",
       "      <td>42</td>\n",
       "      <td>2.50</td>\n",
       "      <td>Tea</td>\n",
       "      <td>Brewed herbal tea</td>\n",
       "      <td>Lemon Grass Rg</td>\n",
       "      <td>2023-01-01 08:00:18</td>\n",
       "      <td>16</td>\n",
       "    </tr>\n",
       "    <tr>\n",
       "      <th>18</th>\n",
       "      <td>19</td>\n",
       "      <td>2023-01-01</td>\n",
       "      <td>08:00:39</td>\n",
       "      <td>2</td>\n",
       "      <td>8</td>\n",
       "      <td>Hell's Kitchen</td>\n",
       "      <td>59</td>\n",
       "      <td>4.50</td>\n",
       "      <td>Drinking Chocolate</td>\n",
       "      <td>Hot chocolate</td>\n",
       "      <td>Dark chocolate Lg</td>\n",
       "      <td>2023-01-01 08:00:39</td>\n",
       "      <td>17</td>\n",
       "    </tr>\n",
       "    <tr>\n",
       "      <th>19</th>\n",
       "      <td>20</td>\n",
       "      <td>2023-01-01</td>\n",
       "      <td>08:11:45</td>\n",
       "      <td>1</td>\n",
       "      <td>8</td>\n",
       "      <td>Hell's Kitchen</td>\n",
       "      <td>61</td>\n",
       "      <td>4.75</td>\n",
       "      <td>Drinking Chocolate</td>\n",
       "      <td>Hot chocolate</td>\n",
       "      <td>Sustainably Grown Organic Lg</td>\n",
       "      <td>2023-01-01 08:11:45</td>\n",
       "      <td>18</td>\n",
       "    </tr>\n",
       "  </tbody>\n",
       "</table>\n",
       "</div>"
      ],
      "text/plain": [
       "    transaction_id transaction_date transaction_time  transaction_qty  \\\n",
       "0                1       2023-01-01         07:06:11                2   \n",
       "1                2       2023-01-01         07:08:56                2   \n",
       "2                3       2023-01-01         07:14:04                2   \n",
       "3                4       2023-01-01         07:20:24                1   \n",
       "4                5       2023-01-01         07:22:41                2   \n",
       "5                6       2023-01-01         07:22:41                1   \n",
       "6                7       2023-01-01         07:25:49                1   \n",
       "7                8       2023-01-01         07:33:34                2   \n",
       "8                9       2023-01-01         07:39:13                1   \n",
       "9               10       2023-01-01         07:39:34                2   \n",
       "10              11       2023-01-01         07:43:05                1   \n",
       "11              12       2023-01-01         07:44:35                2   \n",
       "12              13       2023-01-01         07:45:51                1   \n",
       "13              14       2023-01-01         07:48:19                1   \n",
       "14              15       2023-01-01         07:52:36                2   \n",
       "15              16       2023-01-01         07:59:58                2   \n",
       "16              17       2023-01-01         07:59:58                1   \n",
       "17              18       2023-01-01         08:00:18                1   \n",
       "18              19       2023-01-01         08:00:39                2   \n",
       "19              20       2023-01-01         08:11:45                1   \n",
       "\n",
       "    store_id   store_location  product_id  unit_price    product_category  \\\n",
       "0          5  Lower Manhattan          32        3.00              Coffee   \n",
       "1          5  Lower Manhattan          57        3.10                 Tea   \n",
       "2          5  Lower Manhattan          59        4.50  Drinking Chocolate   \n",
       "3          5  Lower Manhattan          22        2.00              Coffee   \n",
       "4          5  Lower Manhattan          57        3.10                 Tea   \n",
       "5          5  Lower Manhattan          77        3.00              Bakery   \n",
       "6          5  Lower Manhattan          22        2.00              Coffee   \n",
       "7          5  Lower Manhattan          28        2.00              Coffee   \n",
       "8          5  Lower Manhattan          39        4.25              Coffee   \n",
       "9          5  Lower Manhattan          58        3.50  Drinking Chocolate   \n",
       "10         5  Lower Manhattan          56        2.55                 Tea   \n",
       "11         5  Lower Manhattan          33        3.50              Coffee   \n",
       "12         5  Lower Manhattan          51        3.00                 Tea   \n",
       "13         5  Lower Manhattan          57        3.10                 Tea   \n",
       "14         5  Lower Manhattan          87        3.00              Coffee   \n",
       "15         5  Lower Manhattan          47        3.00                 Tea   \n",
       "16         5  Lower Manhattan          79        3.75              Bakery   \n",
       "17         8   Hell's Kitchen          42        2.50                 Tea   \n",
       "18         8   Hell's Kitchen          59        4.50  Drinking Chocolate   \n",
       "19         8   Hell's Kitchen          61        4.75  Drinking Chocolate   \n",
       "\n",
       "             product_type                product_detail transaction_datetime  \\\n",
       "0   Gourmet brewed coffee                   Ethiopia Rg  2023-01-01 07:06:11   \n",
       "1         Brewed Chai tea      Spicy Eye Opener Chai Lg  2023-01-01 07:08:56   \n",
       "2           Hot chocolate             Dark chocolate Lg  2023-01-01 07:14:04   \n",
       "3             Drip coffee   Our Old Time Diner Blend Sm  2023-01-01 07:20:24   \n",
       "4         Brewed Chai tea      Spicy Eye Opener Chai Lg  2023-01-01 07:22:41   \n",
       "5                   Scone                 Oatmeal Scone  2023-01-01 07:22:41   \n",
       "6             Drip coffee   Our Old Time Diner Blend Sm  2023-01-01 07:25:49   \n",
       "7   Gourmet brewed coffee     Columbian Medium Roast Sm  2023-01-01 07:33:34   \n",
       "8        Barista Espresso                      Latte Rg  2023-01-01 07:39:13   \n",
       "9           Hot chocolate             Dark chocolate Rg  2023-01-01 07:39:34   \n",
       "10        Brewed Chai tea      Spicy Eye Opener Chai Rg  2023-01-01 07:43:05   \n",
       "11  Gourmet brewed coffee                   Ethiopia Lg  2023-01-01 07:44:35   \n",
       "12       Brewed Black tea                  Earl Grey Lg  2023-01-01 07:45:51   \n",
       "13        Brewed Chai tea      Spicy Eye Opener Chai Lg  2023-01-01 07:48:19   \n",
       "14       Barista Espresso          Ouro Brasileiro shot  2023-01-01 07:52:36   \n",
       "15       Brewed Green tea         Serenity Green Tea Lg  2023-01-01 07:59:58   \n",
       "16                  Scone            Jumbo Savory Scone  2023-01-01 07:59:58   \n",
       "17      Brewed herbal tea                Lemon Grass Rg  2023-01-01 08:00:18   \n",
       "18          Hot chocolate             Dark chocolate Lg  2023-01-01 08:00:39   \n",
       "19          Hot chocolate  Sustainably Grown Organic Lg  2023-01-01 08:11:45   \n",
       "\n",
       "    order_id  \n",
       "0          1  \n",
       "1          2  \n",
       "2          3  \n",
       "3          4  \n",
       "4          5  \n",
       "5          5  \n",
       "6          6  \n",
       "7          7  \n",
       "8          8  \n",
       "9          9  \n",
       "10        10  \n",
       "11        11  \n",
       "12        12  \n",
       "13        13  \n",
       "14        14  \n",
       "15        15  \n",
       "16        15  \n",
       "17        16  \n",
       "18        17  \n",
       "19        18  "
      ]
     },
     "execution_count": 60,
     "metadata": {},
     "output_type": "execute_result"
    }
   ],
   "source": [
    "coffee_df.head(20)"
   ]
  },
  {
   "cell_type": "markdown",
   "id": "796b432c-ae4c-4eeb-a1c9-1381e7b329f1",
   "metadata": {},
   "source": [
    "#### Visualization"
   ]
  },
  {
   "cell_type": "code",
   "execution_count": 61,
   "id": "31f78ba7-40d8-4579-94a2-6230c35f3a88",
   "metadata": {},
   "outputs": [],
   "source": [
    "#sales by hour?\n",
    "coffee_df['transaction_hour'] = coffee_df['transaction_datetime'].dt.hour"
   ]
  },
  {
   "cell_type": "code",
   "execution_count": 129,
   "id": "30db0a14-ac95-4d2e-87cc-18b3b3b04743",
   "metadata": {},
   "outputs": [
    {
     "data": {
      "text/plain": [
       "3430"
      ]
     },
     "execution_count": 129,
     "metadata": {},
     "output_type": "execute_result"
    }
   ],
   "source": [
    "coffee_df[coffee_df['transaction_hour'] == 6]['order_id'].nunique()"
   ]
  },
  {
   "cell_type": "code",
   "execution_count": 125,
   "id": "4fdb5b18-f12f-4efb-b8e9-5072f87ea6d0",
   "metadata": {},
   "outputs": [
    {
     "data": {
      "application/vnd.plotly.v1+json": {
       "config": {
        "plotlyServerURL": "https://plot.ly"
       },
       "data": [
        {
         "alignmentgroup": "True",
         "hovertemplate": "Hour of the Day=%{x}<br>Number of Orders=%{y}<extra></extra>",
         "legendgroup": "",
         "marker": {
          "color": "lightskyblue",
          "pattern": {
           "shape": ""
          }
         },
         "name": "",
         "offsetgroup": "",
         "orientation": "v",
         "showlegend": false,
         "textposition": "auto",
         "type": "bar",
         "x": [
          6,
          7,
          8,
          9,
          10,
          11,
          12,
          13,
          14,
          15,
          16,
          17,
          18,
          19,
          20
         ],
         "xaxis": "x",
         "y": [
          3430,
          10087,
          13334,
          13358,
          13605,
          7727,
          7115,
          7003,
          7169,
          7162,
          7255,
          7104,
          6147,
          4935,
          449
         ],
         "yaxis": "y"
        }
       ],
       "layout": {
        "autosize": true,
        "barmode": "relative",
        "legend": {
         "tracegroupgap": 0
        },
        "margin": {
         "t": 60
        },
        "template": {
         "data": {
          "candlestick": [
           {
            "decreasing": {
             "line": {
              "color": "#000033"
             }
            },
            "increasing": {
             "line": {
              "color": "#000032"
             }
            },
            "type": "candlestick"
           }
          ],
          "contour": [
           {
            "colorscale": [
             [
              0,
              "#000011"
             ],
             [
              0.1111111111111111,
              "#000012"
             ],
             [
              0.2222222222222222,
              "#000013"
             ],
             [
              0.3333333333333333,
              "#000014"
             ],
             [
              0.4444444444444444,
              "#000015"
             ],
             [
              0.5555555555555556,
              "#000016"
             ],
             [
              0.6666666666666666,
              "#000017"
             ],
             [
              0.7777777777777778,
              "#000018"
             ],
             [
              0.8888888888888888,
              "#000019"
             ],
             [
              1,
              "#000020"
             ]
            ],
            "type": "contour"
           }
          ],
          "contourcarpet": [
           {
            "colorscale": [
             [
              0,
              "#000011"
             ],
             [
              0.1111111111111111,
              "#000012"
             ],
             [
              0.2222222222222222,
              "#000013"
             ],
             [
              0.3333333333333333,
              "#000014"
             ],
             [
              0.4444444444444444,
              "#000015"
             ],
             [
              0.5555555555555556,
              "#000016"
             ],
             [
              0.6666666666666666,
              "#000017"
             ],
             [
              0.7777777777777778,
              "#000018"
             ],
             [
              0.8888888888888888,
              "#000019"
             ],
             [
              1,
              "#000020"
             ]
            ],
            "type": "contourcarpet"
           }
          ],
          "heatmap": [
           {
            "colorscale": [
             [
              0,
              "#000011"
             ],
             [
              0.1111111111111111,
              "#000012"
             ],
             [
              0.2222222222222222,
              "#000013"
             ],
             [
              0.3333333333333333,
              "#000014"
             ],
             [
              0.4444444444444444,
              "#000015"
             ],
             [
              0.5555555555555556,
              "#000016"
             ],
             [
              0.6666666666666666,
              "#000017"
             ],
             [
              0.7777777777777778,
              "#000018"
             ],
             [
              0.8888888888888888,
              "#000019"
             ],
             [
              1,
              "#000020"
             ]
            ],
            "type": "heatmap"
           }
          ],
          "histogram2d": [
           {
            "colorscale": [
             [
              0,
              "#000011"
             ],
             [
              0.1111111111111111,
              "#000012"
             ],
             [
              0.2222222222222222,
              "#000013"
             ],
             [
              0.3333333333333333,
              "#000014"
             ],
             [
              0.4444444444444444,
              "#000015"
             ],
             [
              0.5555555555555556,
              "#000016"
             ],
             [
              0.6666666666666666,
              "#000017"
             ],
             [
              0.7777777777777778,
              "#000018"
             ],
             [
              0.8888888888888888,
              "#000019"
             ],
             [
              1,
              "#000020"
             ]
            ],
            "type": "histogram2d"
           }
          ],
          "icicle": [
           {
            "textfont": {
             "color": "white"
            },
            "type": "icicle"
           }
          ],
          "sankey": [
           {
            "textfont": {
             "color": "#000036"
            },
            "type": "sankey"
           }
          ],
          "scatter": [
           {
            "marker": {
             "line": {
              "width": 0
             }
            },
            "type": "scatter"
           }
          ],
          "table": [
           {
            "cells": {
             "fill": {
              "color": "#000038"
             },
             "font": {
              "color": "#000037"
             },
             "line": {
              "color": "#000039"
             }
            },
            "header": {
             "fill": {
              "color": "#000040"
             },
             "font": {
              "color": "#000036"
             },
             "line": {
              "color": "#000039"
             }
            },
            "type": "table"
           }
          ],
          "waterfall": [
           {
            "connector": {
             "line": {
              "color": "#000036",
              "width": 2
             }
            },
            "decreasing": {
             "marker": {
              "color": "#000033"
             }
            },
            "increasing": {
             "marker": {
              "color": "#000032"
             }
            },
            "totals": {
             "marker": {
              "color": "#000034"
             }
            },
            "type": "waterfall"
           }
          ]
         },
         "layout": {
          "coloraxis": {
           "colorscale": [
            [
             0,
             "#000011"
            ],
            [
             0.1111111111111111,
             "#000012"
            ],
            [
             0.2222222222222222,
             "#000013"
            ],
            [
             0.3333333333333333,
             "#000014"
            ],
            [
             0.4444444444444444,
             "#000015"
            ],
            [
             0.5555555555555556,
             "#000016"
            ],
            [
             0.6666666666666666,
             "#000017"
            ],
            [
             0.7777777777777778,
             "#000018"
            ],
            [
             0.8888888888888888,
             "#000019"
            ],
            [
             1,
             "#000020"
            ]
           ]
          },
          "colorscale": {
           "diverging": [
            [
             0,
             "#000021"
            ],
            [
             0.1,
             "#000022"
            ],
            [
             0.2,
             "#000023"
            ],
            [
             0.3,
             "#000024"
            ],
            [
             0.4,
             "#000025"
            ],
            [
             0.5,
             "#000026"
            ],
            [
             0.6,
             "#000027"
            ],
            [
             0.7,
             "#000028"
            ],
            [
             0.8,
             "#000029"
            ],
            [
             0.9,
             "#000030"
            ],
            [
             1,
             "#000031"
            ]
           ],
           "sequential": [
            [
             0,
             "#000011"
            ],
            [
             0.1111111111111111,
             "#000012"
            ],
            [
             0.2222222222222222,
             "#000013"
            ],
            [
             0.3333333333333333,
             "#000014"
            ],
            [
             0.4444444444444444,
             "#000015"
            ],
            [
             0.5555555555555556,
             "#000016"
            ],
            [
             0.6666666666666666,
             "#000017"
            ],
            [
             0.7777777777777778,
             "#000018"
            ],
            [
             0.8888888888888888,
             "#000019"
            ],
            [
             1,
             "#000020"
            ]
           ],
           "sequentialminus": [
            [
             0,
             "#000011"
            ],
            [
             0.1111111111111111,
             "#000012"
            ],
            [
             0.2222222222222222,
             "#000013"
            ],
            [
             0.3333333333333333,
             "#000014"
            ],
            [
             0.4444444444444444,
             "#000015"
            ],
            [
             0.5555555555555556,
             "#000016"
            ],
            [
             0.6666666666666666,
             "#000017"
            ],
            [
             0.7777777777777778,
             "#000018"
            ],
            [
             0.8888888888888888,
             "#000019"
            ],
            [
             1,
             "#000020"
            ]
           ]
          },
          "colorway": [
           "#000001",
           "#000002",
           "#000003",
           "#000004",
           "#000005",
           "#000006",
           "#000007",
           "#000008",
           "#000009",
           "#000010"
          ]
         }
        },
        "xaxis": {
         "anchor": "y",
         "autorange": true,
         "domain": [
          0,
          1
         ],
         "range": [
          5.5,
          20.5
         ],
         "title": {
          "text": "Hour of the Day"
         },
         "type": "linear"
        },
        "yaxis": {
         "anchor": "x",
         "autorange": true,
         "domain": [
          0,
          1
         ],
         "range": [
          0,
          14321.052631578947
         ],
         "title": {
          "text": "Number of Orders"
         },
         "type": "linear"
        }
       }
      },
      "image/png": "[encoded data removed]",
      "text/html": [
       "<div>                            <div id=\"a7658839-1f29-4375-bf1f-e903ba4cb16b\" class=\"plotly-graph-div\" style=\"height:525px; width:100%;\"></div>            <script type=\"text/javascript\">                require([\"plotly\"], function(Plotly) {                    window.PLOTLYENV=window.PLOTLYENV || {};                                    if (document.getElementById(\"a7658839-1f29-4375-bf1f-e903ba4cb16b\")) {                    Plotly.newPlot(                        \"a7658839-1f29-4375-bf1f-e903ba4cb16b\",                        [{\"alignmentgroup\":\"True\",\"hovertemplate\":\"Hour of the Day=%{x}\\u003cbr\\u003eNumber of Orders=%{y}\\u003cextra\\u003e\\u003c\\u002fextra\\u003e\",\"legendgroup\":\"\",\"marker\":{\"color\":\"lightskyblue\",\"pattern\":{\"shape\":\"\"}},\"name\":\"\",\"offsetgroup\":\"\",\"orientation\":\"v\",\"showlegend\":false,\"textposition\":\"auto\",\"x\":[6,7,8,9,10,11,12,13,14,15,16,17,18,19,20],\"xaxis\":\"x\",\"y\":[3430,10087,13334,13358,13605,7727,7115,7003,7169,7162,7255,7104,6147,4935,449],\"yaxis\":\"y\",\"type\":\"bar\"}],                        {\"template\":{\"data\":{\"candlestick\":[{\"decreasing\":{\"line\":{\"color\":\"#000033\"}},\"increasing\":{\"line\":{\"color\":\"#000032\"}},\"type\":\"candlestick\"}],\"contourcarpet\":[{\"colorscale\":[[0.0,\"#000011\"],[0.1111111111111111,\"#000012\"],[0.2222222222222222,\"#000013\"],[0.3333333333333333,\"#000014\"],[0.4444444444444444,\"#000015\"],[0.5555555555555556,\"#000016\"],[0.6666666666666666,\"#000017\"],[0.7777777777777778,\"#000018\"],[0.8888888888888888,\"#000019\"],[1.0,\"#000020\"]],\"type\":\"contourcarpet\"}],\"contour\":[{\"colorscale\":[[0.0,\"#000011\"],[0.1111111111111111,\"#000012\"],[0.2222222222222222,\"#000013\"],[0.3333333333333333,\"#000014\"],[0.4444444444444444,\"#000015\"],[0.5555555555555556,\"#000016\"],[0.6666666666666666,\"#000017\"],[0.7777777777777778,\"#000018\"],[0.8888888888888888,\"#000019\"],[1.0,\"#000020\"]],\"type\":\"contour\"}],\"heatmap\":[{\"colorscale\":[[0.0,\"#000011\"],[0.1111111111111111,\"#000012\"],[0.2222222222222222,\"#000013\"],[0.3333333333333333,\"#000014\"],[0.4444444444444444,\"#000015\"],[0.5555555555555556,\"#000016\"],[0.6666666666666666,\"#000017\"],[0.7777777777777778,\"#000018\"],[0.8888888888888888,\"#000019\"],[1.0,\"#000020\"]],\"type\":\"heatmap\"}],\"histogram2d\":[{\"colorscale\":[[0.0,\"#000011\"],[0.1111111111111111,\"#000012\"],[0.2222222222222222,\"#000013\"],[0.3333333333333333,\"#000014\"],[0.4444444444444444,\"#000015\"],[0.5555555555555556,\"#000016\"],[0.6666666666666666,\"#000017\"],[0.7777777777777778,\"#000018\"],[0.8888888888888888,\"#000019\"],[1.0,\"#000020\"]],\"type\":\"histogram2d\"}],\"icicle\":[{\"textfont\":{\"color\":\"white\"},\"type\":\"icicle\"}],\"sankey\":[{\"textfont\":{\"color\":\"#000036\"},\"type\":\"sankey\"}],\"scatter\":[{\"marker\":{\"line\":{\"width\":0}},\"type\":\"scatter\"}],\"table\":[{\"cells\":{\"fill\":{\"color\":\"#000038\"},\"font\":{\"color\":\"#000037\"},\"line\":{\"color\":\"#000039\"}},\"header\":{\"fill\":{\"color\":\"#000040\"},\"font\":{\"color\":\"#000036\"},\"line\":{\"color\":\"#000039\"}},\"type\":\"table\"}],\"waterfall\":[{\"connector\":{\"line\":{\"color\":\"#000036\",\"width\":2}},\"decreasing\":{\"marker\":{\"color\":\"#000033\"}},\"increasing\":{\"marker\":{\"color\":\"#000032\"}},\"totals\":{\"marker\":{\"color\":\"#000034\"}},\"type\":\"waterfall\"}]},\"layout\":{\"coloraxis\":{\"colorscale\":[[0.0,\"#000011\"],[0.1111111111111111,\"#000012\"],[0.2222222222222222,\"#000013\"],[0.3333333333333333,\"#000014\"],[0.4444444444444444,\"#000015\"],[0.5555555555555556,\"#000016\"],[0.6666666666666666,\"#000017\"],[0.7777777777777778,\"#000018\"],[0.8888888888888888,\"#000019\"],[1.0,\"#000020\"]]},\"colorscale\":{\"diverging\":[[0.0,\"#000021\"],[0.1,\"#000022\"],[0.2,\"#000023\"],[0.3,\"#000024\"],[0.4,\"#000025\"],[0.5,\"#000026\"],[0.6,\"#000027\"],[0.7,\"#000028\"],[0.8,\"#000029\"],[0.9,\"#000030\"],[1.0,\"#000031\"]],\"sequential\":[[0.0,\"#000011\"],[0.1111111111111111,\"#000012\"],[0.2222222222222222,\"#000013\"],[0.3333333333333333,\"#000014\"],[0.4444444444444444,\"#000015\"],[0.5555555555555556,\"#000016\"],[0.6666666666666666,\"#000017\"],[0.7777777777777778,\"#000018\"],[0.8888888888888888,\"#000019\"],[1.0,\"#000020\"]],\"sequentialminus\":[[0.0,\"#000011\"],[0.1111111111111111,\"#000012\"],[0.2222222222222222,\"#000013\"],[0.3333333333333333,\"#000014\"],[0.4444444444444444,\"#000015\"],[0.5555555555555556,\"#000016\"],[0.6666666666666666,\"#000017\"],[0.7777777777777778,\"#000018\"],[0.8888888888888888,\"#000019\"],[1.0,\"#000020\"]]},\"colorway\":[\"#000001\",\"#000002\",\"#000003\",\"#000004\",\"#000005\",\"#000006\",\"#000007\",\"#000008\",\"#000009\",\"#000010\"]}},\"xaxis\":{\"anchor\":\"y\",\"domain\":[0.0,1.0],\"title\":{\"text\":\"Hour of the Day\"}},\"yaxis\":{\"anchor\":\"x\",\"domain\":[0.0,1.0],\"title\":{\"text\":\"Number of Orders\"}},\"legend\":{\"tracegroupgap\":0},\"margin\":{\"t\":60},\"barmode\":\"relative\"},                        {\"responsive\": true}                    ).then(function(){\n",
       "                            \n",
       "var gd = document.getElementById('a7658839-1f29-4375-bf1f-e903ba4cb16b');\n",
       "var x = new MutationObserver(function (mutations, observer) {{\n",
       "        var display = window.getComputedStyle(gd).display;\n",
       "        if (!display || display === 'none') {{\n",
       "            console.log([gd, 'removed!']);\n",
       "            Plotly.purge(gd);\n",
       "            observer.disconnect();\n",
       "        }}\n",
       "}});\n",
       "\n",
       "// Listen for the removal of the full notebook cells\n",
       "var notebookContainer = gd.closest('#notebook-container');\n",
       "if (notebookContainer) {{\n",
       "    x.observe(notebookContainer, {childList: true});\n",
       "}}\n",
       "\n",
       "// Listen for the clearing of the current output cell\n",
       "var outputEl = gd.closest('.output');\n",
       "if (outputEl) {{\n",
       "    x.observe(outputEl, {childList: true});\n",
       "}}\n",
       "\n",
       "                        })                };                });            </script>        </div>"
      ]
     },
     "metadata": {},
     "output_type": "display_data"
    }
   ],
   "source": [
    "# Create a new DataFrame to count the number of unique orders per hour\n",
    "orders_per_hour = coffee_df.groupby('transaction_hour')['order_id'].nunique().reset_index()\n",
    "\n",
    "# Create a histogram visualization for the number of unique orders by hour\n",
    "import plotly.express as px\n",
    "\n",
    "fig = px.bar(\n",
    "    orders_per_hour,\n",
    "    x='transaction_hour',\n",
    "    y='order_id',\n",
    "    # title='Orders Distribution by Hour',\n",
    "    labels={'transaction_hour': 'Hour of the Day', 'order_id': 'Number of Orders'},\n",
    "    color_discrete_sequence=['lightskyblue']\n",
    ")\n",
    "\n",
    "fig.show()"
   ]
  },
  {
   "cell_type": "code",
   "execution_count": 115,
   "id": "1be47f57-0b2b-43ce-aecc-76ac999a22f0",
   "metadata": {},
   "outputs": [],
   "source": [
    "# fig = px.histogram(\n",
    "#     coffee_df, \n",
    "#     x='transaction_hour', \n",
    "#     title='Sales Distrbution By Hour ',\n",
    "#     nbins=60 ,\n",
    "#     color_discrete_sequence=['lightskyblue']\n",
    "# )\n",
    "\n",
    "# fig.show()"
   ]
  },
  {
   "cell_type": "code",
   "execution_count": 63,
   "id": "425c7ef7-b724-4f59-9d99-e8c709f85464",
   "metadata": {},
   "outputs": [],
   "source": [
    "#pairs of items bought together for each order"
   ]
  },
  {
   "cell_type": "code",
   "execution_count": 101,
   "id": "b6a894ae-330a-44f4-899f-6ca735f276ee",
   "metadata": {},
   "outputs": [],
   "source": [
    "mask = coffee_df[coffee_df['product_detail'] == 'Chocolate Croissant']"
   ]
  },
  {
   "cell_type": "code",
   "execution_count": 108,
   "id": "8b96d90f-1dd8-4398-95a0-ff91595a1f66",
   "metadata": {},
   "outputs": [
    {
     "data": {
      "text/plain": [
       "241"
      ]
     },
     "execution_count": 108,
     "metadata": {},
     "output_type": "execute_result"
    }
   ],
   "source": [
    "mask['order_id'].duplicated().sum()"
   ]
  },
  {
   "cell_type": "code",
   "execution_count": 109,
   "id": "6885fcca-35ce-4456-9239-c53d4e92325d",
   "metadata": {},
   "outputs": [
    {
     "data": {
      "text/plain": [
       "22"
      ]
     },
     "execution_count": 109,
     "metadata": {},
     "output_type": "execute_result"
    }
   ],
   "source": [
    "mask[mask['order_id'].duplicated()]['order_id'].duplicated().sum()\n"
   ]
  },
  {
   "cell_type": "code",
   "execution_count": 110,
   "id": "153d17df-ec42-46c7-a8b1-0d07460441d1",
   "metadata": {},
   "outputs": [],
   "source": [
    "from itertools import combinations\n",
    "from collections import Counter\n",
    "\n",
    "# Group items by order_id\n",
    "order_groups = coffee_df.groupby('order_id')['product_id'].apply(list)\n",
    "\n",
    "# Generate all pairs of items bought together for each order\n",
    "item_pairs = []\n",
    "for items in order_groups:\n",
    "    # Generate all combinations of 2 items in the order\n",
    "    item_pairs.extend(combinations(sorted(items), 2))\n",
    "\n",
    "# Count the frequency of each pair\n",
    "pair_counts = Counter(item_pairs)\n",
    "\n",
    "# Find the top 2 most frequent item pairs\n",
    "most_common_pairs = pair_counts.most_common(5)\n",
    "\n",
    "# Map product IDs to product details\n",
    "product_details = coffee_df.set_index('product_id')['product_detail'].to_dict()\n",
    "\n",
    "# Replace product IDs with their details in the most common pairs\n",
    "most_common_pairs_with_details = [\n",
    "    (f\"{product_details[pair[0]]} & {product_details[pair[1]]}\", count)\n",
    "    for pair, count in most_common_pairs\n",
    "]\n",
    "\n",
    "# Convert to DataFrame for visualization\n",
    "most_common_pairs_details_df = pd.DataFrame(\n",
    "    most_common_pairs_with_details, columns=[\"Item Pair (Details)\", \"Frequency\"]\n",
    ")\n"
   ]
  },
  {
   "cell_type": "code",
   "execution_count": 111,
   "id": "1f9ff5e8-e996-454e-87ad-0c6384659475",
   "metadata": {},
   "outputs": [
    {
     "data": {
      "text/plain": [
       "[('Ginger Scone & Ouro Brasileiro shot', 723),\n",
       " ('Chocolate Croissant & Chocolate Croissant', 263),\n",
       " ('Peppermint Rg & Chocolate Croissant', 98),\n",
       " ('Serenity Green Tea Lg & Jumbo Savory Scone', 93),\n",
       " ('Latte & Croissant', 89)]"
      ]
     },
     "execution_count": 111,
     "metadata": {},
     "output_type": "execute_result"
    }
   ],
   "source": [
    "most_common_pairs_with_details"
   ]
  },
  {
   "cell_type": "code",
   "execution_count": 68,
   "id": "efe37886-2cdc-4411-816b-b4c68e56127b",
   "metadata": {},
   "outputs": [
    {
     "data": {
      "image/png": "[encoded data removed]",
      "text/plain": [
       "<Figure size 1200x600 with 1 Axes>"
      ]
     },
     "metadata": {},
     "output_type": "display_data"
    }
   ],
   "source": [
    "plt.figure(figsize=(12, 6))\n",
    "plt.bar(\n",
    "    most_common_pairs_details_df[\"Item Pair (Details)\"],\n",
    "    most_common_pairs_details_df[\"Frequency\"],\n",
    "    color=\"lightskyblue\",\n",
    ")\n",
    "plt.title(\"Top 5 Most Frequently Bought Item Pairs\", fontsize=16)\n",
    "plt.xlabel(\"Item Pairs\", fontsize=12)\n",
    "plt.ylabel(\"Freq\", fontsize=12)\n",
    "plt.xticks(rotation=45, ha='right')\n",
    "plt.grid(axis=\"y\", linestyle=\"--\", alpha=0.7)\n",
    "plt.tight_layout()\n",
    "plt.show()"
   ]
  },
  {
   "cell_type": "markdown",
   "id": "4aca9d42-add6-45db-92cf-1f6dae5f277b",
   "metadata": {},
   "source": [
    "**What is an Outlier?** \n",
    "Outlier is an row/observation that appears far away and diverges from an overall pattern in a sample.\n",
    "\n",
    "**What are the types of Outliers?**\n",
    "1. Univariate: These outliers can be found when we look at distribution of a single variable\n",
    "2. Multivariate: are outliers in an n-dimensional space. In order to find them, you have to look at distributions in multi-dimensions. example (hight=100, weight=100) for a person\n",
    "\n",
    "**What causes Outliers?**\n",
    "Whenever we come across outliers, the ideal way to tackle them is to find out the reason of having these outliers. The method to deal with them would then depend on the reason of their occurrence.\n",
    "\n",
    "Let’s understand various types of outliers:\n",
    "\n",
    "1. Data Entry Errors:- Human errors such as errors caused during data collection, recording, or entry can cause outliers in data.\n",
    "2. Measurement Error: It is the most common source of outliers. This is caused when the measurement instrument used turns out to be faulty.\n",
    "3. Data Processing Error: Whenever we perform data mining, we extract data from multiple sources. It is possible that some manipulation or extraction errors may lead to outliers in the dataset.\n",
    "4. Sampling error: For instance, we have to measure the height of athletes. By mistake, we include a few basketball players in the sample. This inclusion is likely to cause outliers in the dataset.\n",
    "5. Natural Outlier: When an outlier is not artificial (due to error), it is a natural outlier. For instance: In my last assignment with one of the renowned insurance company, I noticed that the performance of top 50 financial advisors was far higher than rest of the population. Surprisingly, it was not due to any error. Hence, whenever we perform any data mining activity with advisors, we used to treat this segment separately.\n",
    "\n",
    "\n",
    "**What is the impact of Outliers on a dataset?**\n",
    "\n",
    "\n",
    "![image.png](https://www.analyticsvidhya.com/wp-content/uploads/2015/02/Outlier_31.png)\n",
    "\n",
    "\n",
    "\n",
    "**How to detect Outliers?**\n",
    "\n",
    "1. Most commonly used method to detect outliers is visualization (Univariate Graphical Analysis).\n",
    "\n",
    "We use 3 common visualization methods:\n",
    ">- Box-plot: A box plot is a method for graphically depicting groups of numerical data through their quartiles. The box extends from the Q1 to Q3 quartile values of the data, with a line at the median (Q2). The whiskers extend from the edges of the box to show the range of the data. Outlier points are those past the end of the whiskers. Box plots show robust measures of location and spread as well as providing information about symmetry and outliers.\n",
    ">\n",
    ">  \n",
    ">![image.png](https://miro.medium.com/v2/resize:fit:698/format:webp/1*VK5iHA2AB28HSZwWwUbNYg.png)\n",
    ">\n",
    ">\n",
    ">- Histogram\n",
    ">- Scatter Plot: A scatter plot is a mathematical diagram using Cartesian coordinates to display values for two variables for a set of data. The data are displayed as a collection of points, each having the value of one variable determining the position on the horizontal axis and the value of the other variable determining the position on the vertical axis. The points that are far from the population can be termed as an outlier.\n",
    ">\n",
    ">  \n",
    ">![image.png](https://miro.medium.com/v2/resize:fit:4800/format:webp/1*Ov6aH-8yIwNoUxtMFwgx4g.png)\n",
    ">\n",
    ">\n",
    "\n",
    "2. Using statistical method (Univariate Non-Graphical analysis):\n",
    ">- Any value, which is beyond the range of -1.5 x IQR to 1.5 x IQR\n",
    " \n",
    "![image.png](https://www.whatissixsigma.net/wp-content/uploads/2015/07/Box-Plot-Diagram-to-identify-Outliers-figure-1.png)\n",
    "\n",
    ">- Use capping methods. Any value which out of range of 5th and 95th percentile can be considered as outlier\n",
    ">- Data points, three or more standard deviation away from mean are considered outlier: The Z-score is the signed number of standard deviations by which the value of an observation or data point is above the mean value of what is being observed or measured. While calculating the Z-score we re-scale and center the data and look for data points that are too far from zero. These data points which are way too far from zero will be treated as the outliers. In most of the cases, a threshold of 3 or -3 is used i.e if the Z-score value is greater than or less than 3 or -3 respectively, that data point will be identified as outliers.\n",
    "> - Outlier detection is merely a special case of the examination of data for influential data points and it also depends on the business understanding\n"
   ]
  },
  {
   "cell_type": "code",
   "execution_count": 69,
   "id": "74ea6194-cc01-45d8-be38-c4543eb1714e",
   "metadata": {},
   "outputs": [],
   "source": [
    "# go to univariate graphical analysis\n",
    "# go to lesson : data visualisation 1 - chart type section\n",
    "# then go to univariate graphical analysis\n",
    "# detect outliers using graphs varbaly"
   ]
  },
  {
   "cell_type": "code",
   "execution_count": 70,
   "id": "48ecf77b-480c-4f64-9485-95be805bc357",
   "metadata": {},
   "outputs": [],
   "source": [
    "# go to lesson: statistics 1 then statistics 3\n",
    "# then go to univariate Non graphical analysis\n",
    "# detect outliers using numerical statistics "
   ]
  },
  {
   "cell_type": "code",
   "execution_count": null,
   "id": "ee200da8-62b0-492d-b118-f4d665a1fb16",
   "metadata": {},
   "outputs": [],
   "source": []
  },
  {
   "cell_type": "code",
   "execution_count": 71,
   "id": "4e66d611-6958-4860-8522-9ada7fce40b0",
   "metadata": {},
   "outputs": [],
   "source": [
    "# go to delete ouliers"
   ]
  },
  {
   "attachments": {},
   "cell_type": "markdown",
   "id": "4e886ec7-388c-414b-ada7-803c2fb1f2cb",
   "metadata": {},
   "source": [
    "## 2. Data Cleaning: \n",
    "\n",
    "Preliminary findings from data profiling can lead to cleaning the data by:\n",
    "- Handling missing values\n",
    "- Correcting errors.\n",
    "- Dealing with outliers.\n",
    "\n",
    "-------------------\n",
    "\n"
   ]
  },
  {
   "cell_type": "markdown",
   "id": "21876b48-f5ec-4970-85a9-0520d45d8841",
   "metadata": {},
   "source": [
    "### Handling missing values:"
   ]
  },
  {
   "cell_type": "markdown",
   "id": "c890d5a2-2a65-4090-9427-f89c0f011d3f",
   "metadata": {},
   "source": [
    "**Why my data has missing values?**\n",
    "They may occur at two stages:\n",
    "1. Data Extraction: It is possible that there are problems with extraction process. Errors at data extraction stage are typically easy to find and can be corrected easily as well.\n",
    "2. Data collection: These errors occur at time of data collection and are harder to correct.\n",
    "\n",
    "**Why do we need to handle the missing data?**\n",
    "To avoid:\n",
    "- Bias the conclusions.\n",
    "- Leading the business to make wrong decisions.\n",
    "\n",
    "**Which are the methods to treat missing values ?**\n",
    "1. Deletion: we delete rows where any of the variable is missing. Simplicity is one of the major advantage of this method, but this method reduces the power of model because it reduces the sample size.\n",
    "\n",
    "2. Imputation: is a method to fill in the missing values with estimated ones. This imputation is one of the most frequently used methods.\n",
    "\n",
    "    2.1. Mean/ Mode/ Median Imputation: It consists of replacing the missing data for a given attribute by the mean or median (quantitative attribute) or mode (qualitative attribute) of all known values of that variable.\n",
    "    > It can be of two types:\n",
    "    > - Generalized Imputation: In this case, we calculate the mean or median for all non missing values of that variable then replace missing value with mean or median.\n",
    "    > - Similar case Imputation: In this case, we calculate average for each group individually of non missing values then replace the missing value based on the group.\n",
    "\n",
    "    2.2. Constant Value\n",
    "   \n",
    "    2.3. Forward Filling\n",
    "   \n",
    "    2.4. Backward Filling\n",
    "\n",
    "6. Prediction Model:  Prediction model is one of the sophisticated method for handling missing data. Here, we create a predictive model to estimate values that will substitute the missing data.  In this case, we divide our data set into two sets: One set with no missing values for the variable and another one with missing values. First data set become training data set of the model while second data set with missing values is test data set and variable with missing values is treated as target variable. Next, we create a model to predict target variable based on other attributes of the training data set and populate missing values of test data set.\n",
    "\n",
    "> There are 2 drawbacks for this approach:\n",
    "> - The model estimated values are usually more well-behaved than the true values\n",
    "> - If there are no relationships with attributes in the data set and the attribute with missing values, then the model will not be precise for estimating missing values.\n",
    "\n",
    "9. KNN Imputation: In this method of imputation, the missing values of an attribute are imputed using the given number of attributes that are most similar to the attribute whose values are missing. The similarity of two attributes is determined using a distance function. It is also known to have certain advantage & disadvantages.\n",
    "\n",
    "   > **Advantages:**\n",
    "   > - k-nearest neighbour can predict both qualitative & quantitative attributes\n",
    "   > - Creation of predictive model for each attribute with missing data is not required\n",
    "   > - Attributes with multiple missing values can be easily treated\n",
    "   > - Correlation structure of the data is taken into consideration\n",
    "\n",
    "   > **Disadvantage:**\n",
    "   > - KNN algorithm is very time-consuming in analyzing large database. It searches through all the dataset looking for the most similar instances.\n",
    "   > - Choice of k-value is very critical. Higher value of k would include attributes which are significantly different from what we need whereas lower value of k implies missing out of significant attributes.\n",
    "\n",
    "--------------------\n"
   ]
  },
  {
   "cell_type": "code",
   "execution_count": null,
   "id": "57e741fb-71c1-46ad-a526-d8f0b1564dc3",
   "metadata": {},
   "outputs": [],
   "source": []
  },
  {
   "cell_type": "code",
   "execution_count": 72,
   "id": "01287962-8077-4c01-8d1d-5f8aed6cb37a",
   "metadata": {},
   "outputs": [],
   "source": [
    "# go back to 6th dimention --> Completeness"
   ]
  },
  {
   "cell_type": "markdown",
   "id": "f7cee10f-0af8-44e5-b595-8e965294daad",
   "metadata": {},
   "source": [
    "### Correcting errors\n",
    "\n",
    "-------------------"
   ]
  },
  {
   "cell_type": "code",
   "execution_count": null,
   "id": "06273b88-a169-42e8-81f5-5d71cb3f9c21",
   "metadata": {},
   "outputs": [],
   "source": []
  },
  {
   "cell_type": "code",
   "execution_count": 73,
   "id": "f1d95da5-a3ba-473a-8243-aa177cadae20",
   "metadata": {},
   "outputs": [],
   "source": [
    "# go back to 7th dimension Accuracy "
   ]
  },
  {
   "cell_type": "markdown",
   "id": "5ecc7dbb-6867-44cf-8f99-1b969a80be40",
   "metadata": {},
   "source": [
    "### Dealing with outliers:"
   ]
  },
  {
   "attachments": {},
   "cell_type": "markdown",
   "id": "88347887-4bdf-48af-9486-cb8fe80c97af",
   "metadata": {},
   "source": [
    "**How to remove Outliers?**\n",
    "Most of the ways to deal with outliers are similar to the methods of missing values like deleting rows, transforming them, binning them, treat them as a separate group, imputing values and other statistical methods. Here, we will discuss the common techniques used to deal with outliers:\n",
    "\n",
    "1. Deleting rows: We delete outlier values if it is due to data entry error, data processing error or outlier rows are very small in numbers. We can also use trimming at both ends to remove outliers.\n",
    "\n",
    "2. Imputing: Like imputation of missing values, we can also impute outliers. We can use mean, median, mode imputation methods. Before imputing values, we should analyse if it is natural outlier or artificial. If it is artificial, we can go with imputing values. We can also use statistical model to predict values of outlier rows and after that we can impute it with predicted values.\n",
    "\n",
    "3. Treat separately: If there are significant number of outliers, we should treat them separately in the statistical model. One of the approach is to treat both groups as two different groups and build individual model for both groups and then combine the output.\n"
   ]
  },
  {
   "cell_type": "code",
   "execution_count": null,
   "id": "25a585f0-2b9c-42fa-bf21-cacc6aa3be3f",
   "metadata": {},
   "outputs": [],
   "source": []
  },
  {
   "cell_type": "markdown",
   "id": "98548b66-e309-4eb8-a5dc-65fe0abbf1e8",
   "metadata": {},
   "source": [
    "## 3. Univariate Analysis: \n",
    "\n",
    "This involves examining single variables to understand their characteristics (distribution, central tendency, dispersion, and shape).\n",
    "\n",
    "We calculate **numerical values** about the data that tells us about the distribution of the data. We also **draw graphs** showing visually how the data is distributed. **To answer the following questions about Features/characteristics of Data:**\n",
    "- Where is the center of the data? (location)\n",
    "- How much does the data vary? (scale)\n",
    "- What is the shape of the data? (shape)\n",
    "\n",
    "**The benefits of this analysis:**\n",
    "Statistics summary gives a high-level idea to identify whether the data has any outliers, data entry error, distribution of data such as the data is normally distributed or left/right skewed\n",
    "\n",
    "**In this step, we will explore variables one by one using following approaches:**"
   ]
  },
  {
   "cell_type": "markdown",
   "id": "d6718111-7ac2-4fff-9851-654655b62e0b",
   "metadata": {},
   "source": [
    "### 1. Univariate Graphical Analysis:\n",
    "Method to perform uni-variate analysis will depend on whether the variable type is categorical or numerical."
   ]
  },
  {
   "cell_type": "code",
   "execution_count": null,
   "id": "db79d803-b75c-4686-a623-e8420321a90f",
   "metadata": {},
   "outputs": [],
   "source": []
  },
  {
   "cell_type": "markdown",
   "id": "0d57c4b9-9bb3-494d-85dd-b8d39afda139",
   "metadata": {},
   "source": [
    "#### I. Categorical Variables:\n",
    "\n",
    "we’ll use frequency table to understand distribution of each category\n",
    "- Bar Chart (Ordinal) - Orderd\n",
    "- Pie Chart (Nominal) - non Orderd"
   ]
  },
  {
   "cell_type": "code",
   "execution_count": null,
   "id": "72ece4b7-5508-403a-8fb0-f519fc74272a",
   "metadata": {},
   "outputs": [],
   "source": []
  },
  {
   "cell_type": "markdown",
   "id": "d2641f0d-80f2-493b-99b7-15476379a1e2",
   "metadata": {},
   "source": [
    "#### II. Numerical Variables:\n",
    "\n",
    "we need to understand the central tendency and spread of the variable (Descriptive Analysis) using:\n",
    "   - Box plot\n",
    "   - Histogram"
   ]
  },
  {
   "cell_type": "code",
   "execution_count": null,
   "id": "5be16f08-a072-4a02-a3ee-6f9d57786fb4",
   "metadata": {},
   "outputs": [],
   "source": []
  },
  {
   "cell_type": "markdown",
   "id": "d66677d3-44ad-414f-9b39-f9c1995ad043",
   "metadata": {},
   "source": [
    "### 2. Univariate Non-Graphical analysis: \n",
    "\n",
    "- Where is the center of the data? (location) --> **Measures of central tendency**\n",
    "- How much does the data vary? (scale) --> **Measure of variability**\n",
    "- What is the shape of the data? (shape) --> **Measures of variation combined with an average (measure of center) gives a good picture of the distribution of the data.**"
   ]
  },
  {
   "cell_type": "code",
   "execution_count": null,
   "id": "f1058d84-e61e-4f5b-b66a-29931e77821b",
   "metadata": {},
   "outputs": [],
   "source": []
  },
  {
   "cell_type": "markdown",
   "id": "f09bb809-0edd-432b-bf23-abd0840b3e16",
   "metadata": {},
   "source": [
    "## 4. Bivariate/Multivariate Analysis:\n",
    "\n",
    "Here, you look at the relationships between two or more variables. This can involve looking for correlations, patterns, and trends that suggest a relationship or an association.\n",
    "\n",
    "We can perform bi-variate analysis for any combination of categorical and numerical variables. The combination can be:\n",
    "| bi-variate variables   | Plot type |\n",
    "| ------------- | ------------- |\n",
    "| Categorical & Categorical| Stacked Bar Chart |\n",
    "| Categorical & numerical  | scatter plot, histogram, box plot|\n",
    "| numerical  & numerical  | Scatter plot, line chart| \n",
    "\n",
    "\n",
    "Multivariate Analysis:\n",
    "- Heat map\n",
    "- Bar Chart\n",
    "- Scatter Chart\n",
    "- Line Chart"
   ]
  },
  {
   "cell_type": "markdown",
   "id": "838f2864-ce9e-4f15-99c8-052d053154a7",
   "metadata": {},
   "source": [
    "**Categorical & Categorical --> (Stacked Column Chart)**"
   ]
  },
  {
   "cell_type": "code",
   "execution_count": null,
   "id": "73f9f2ac-8477-49ea-9c68-4fe44d4395b6",
   "metadata": {},
   "outputs": [],
   "source": []
  },
  {
   "cell_type": "markdown",
   "id": "730e088f-fe13-40da-8fbb-686f5135fa4d",
   "metadata": {},
   "source": [
    "**Categorical & numerical --> (scatter plot, histogram, box plot)**"
   ]
  },
  {
   "cell_type": "code",
   "execution_count": null,
   "id": "3590e345-2051-4215-91ac-07d196b510ef",
   "metadata": {},
   "outputs": [],
   "source": []
  },
  {
   "cell_type": "markdown",
   "id": "20aed48d-b78e-46da-963f-e7f15e2f4dc7",
   "metadata": {},
   "source": [
    "**numerical & numerical --> (Scatter plot, line chart)**"
   ]
  },
  {
   "cell_type": "code",
   "execution_count": null,
   "id": "41023177-01cb-4f39-a750-12be71b13bda",
   "metadata": {},
   "outputs": [],
   "source": []
  },
  {
   "cell_type": "markdown",
   "id": "efb43b30-b1f0-48a4-a19c-195810cc8a0f",
   "metadata": {},
   "source": [
    "We could also use a correlation matrix to get more specific information about the relationship between these two variables."
   ]
  },
  {
   "cell_type": "code",
   "execution_count": null,
   "id": "8406f58f-b825-4a15-8f6e-c68ca66bd483",
   "metadata": {},
   "outputs": [],
   "source": []
  }
 ],
 "metadata": {
  "kernelspec": {
   "display_name": "Python 3 (ipykernel)",
   "language": "python",
   "name": "python3"
  },
  "language_info": {
   "codemirror_mode": {
    "name": "ipython",
    "version": 3
   },
   "file_extension": ".py",
   "mimetype": "text/x-python",
   "name": "python",
   "nbconvert_exporter": "python",
   "pygments_lexer": "ipython3",
   "version": "3.12.3"
  }
 },
 "nbformat": 4,
 "nbformat_minor": 5
}
